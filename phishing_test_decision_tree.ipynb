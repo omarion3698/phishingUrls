{
  "nbformat": 4,
  "nbformat_minor": 0,
  "metadata": {
    "colab": {
      "provenance": [],
      "authorship_tag": "ABX9TyMo0a6/0KlioWS8cuf854jV",
      "include_colab_link": true
    },
    "kernelspec": {
      "name": "python3",
      "display_name": "Python 3"
    },
    "language_info": {
      "name": "python"
    }
  },
  "cells": [
    {
      "cell_type": "markdown",
      "metadata": {
        "id": "view-in-github",
        "colab_type": "text"
      },
      "source": [
        "<a href=\"https://colab.research.google.com/github/omarion3698/phishingUrls/blob/master/phishing_test_decision_tree.ipynb\" target=\"_parent\"><img src=\"https://colab.research.google.com/assets/colab-badge.svg\" alt=\"Open In Colab\"/></a>"
      ]
    },
    {
      "cell_type": "markdown",
      "source": [
        "## Name: Omar A. Hussein\n",
        "## ID: 663880\n",
        "## Lecturer: Dr. Lawrence Nderu\n",
        "\n",
        "This is the second notebook where am building a decision tree classifier using the urlset dataset provided in my github repository and I have integrated it with Weights & Biases for logging and tracking my experiments."
      ],
      "metadata": {
        "id": "w9jo59zrn8fK"
      }
    },
    {
      "cell_type": "markdown",
      "source": [
        "# Setup W&B"
      ],
      "metadata": {
        "id": "CHwoBuSMpS2S"
      }
    },
    {
      "cell_type": "code",
      "source": [
        "!pip install wandb"
      ],
      "metadata": {
        "colab": {
          "base_uri": "https://localhost:8080/"
        },
        "id": "2IyiN8vRpKx3",
        "outputId": "152a6dc7-2e1d-4d3b-d57d-f32e78b5f2e9"
      },
      "execution_count": 1,
      "outputs": [
        {
          "output_type": "stream",
          "name": "stdout",
          "text": [
            "Collecting wandb\n",
            "  Downloading wandb-0.17.5-py3-none-manylinux_2_5_x86_64.manylinux1_x86_64.manylinux_2_17_x86_64.manylinux2014_x86_64.whl.metadata (10 kB)\n",
            "Requirement already satisfied: click!=8.0.0,>=7.1 in /usr/local/lib/python3.10/dist-packages (from wandb) (8.1.7)\n",
            "Collecting docker-pycreds>=0.4.0 (from wandb)\n",
            "  Downloading docker_pycreds-0.4.0-py2.py3-none-any.whl.metadata (1.8 kB)\n",
            "Collecting gitpython!=3.1.29,>=1.0.0 (from wandb)\n",
            "  Downloading GitPython-3.1.43-py3-none-any.whl.metadata (13 kB)\n",
            "Requirement already satisfied: platformdirs in /usr/local/lib/python3.10/dist-packages (from wandb) (4.2.2)\n",
            "Requirement already satisfied: protobuf!=4.21.0,<6,>=3.19.0 in /usr/local/lib/python3.10/dist-packages (from wandb) (3.20.3)\n",
            "Requirement already satisfied: psutil>=5.0.0 in /usr/local/lib/python3.10/dist-packages (from wandb) (5.9.5)\n",
            "Requirement already satisfied: pyyaml in /usr/local/lib/python3.10/dist-packages (from wandb) (6.0.1)\n",
            "Requirement already satisfied: requests<3,>=2.0.0 in /usr/local/lib/python3.10/dist-packages (from wandb) (2.31.0)\n",
            "Collecting sentry-sdk>=1.0.0 (from wandb)\n",
            "  Downloading sentry_sdk-2.11.0-py2.py3-none-any.whl.metadata (14 kB)\n",
            "Collecting setproctitle (from wandb)\n",
            "  Downloading setproctitle-1.3.3-cp310-cp310-manylinux_2_5_x86_64.manylinux1_x86_64.manylinux_2_17_x86_64.manylinux2014_x86_64.whl.metadata (9.9 kB)\n",
            "Requirement already satisfied: setuptools in /usr/local/lib/python3.10/dist-packages (from wandb) (71.0.4)\n",
            "Requirement already satisfied: six>=1.4.0 in /usr/local/lib/python3.10/dist-packages (from docker-pycreds>=0.4.0->wandb) (1.16.0)\n",
            "Collecting gitdb<5,>=4.0.1 (from gitpython!=3.1.29,>=1.0.0->wandb)\n",
            "  Downloading gitdb-4.0.11-py3-none-any.whl.metadata (1.2 kB)\n",
            "Requirement already satisfied: charset-normalizer<4,>=2 in /usr/local/lib/python3.10/dist-packages (from requests<3,>=2.0.0->wandb) (3.3.2)\n",
            "Requirement already satisfied: idna<4,>=2.5 in /usr/local/lib/python3.10/dist-packages (from requests<3,>=2.0.0->wandb) (3.7)\n",
            "Requirement already satisfied: urllib3<3,>=1.21.1 in /usr/local/lib/python3.10/dist-packages (from requests<3,>=2.0.0->wandb) (2.0.7)\n",
            "Requirement already satisfied: certifi>=2017.4.17 in /usr/local/lib/python3.10/dist-packages (from requests<3,>=2.0.0->wandb) (2024.7.4)\n",
            "Collecting smmap<6,>=3.0.1 (from gitdb<5,>=4.0.1->gitpython!=3.1.29,>=1.0.0->wandb)\n",
            "  Downloading smmap-5.0.1-py3-none-any.whl.metadata (4.3 kB)\n",
            "Downloading wandb-0.17.5-py3-none-manylinux_2_5_x86_64.manylinux1_x86_64.manylinux_2_17_x86_64.manylinux2014_x86_64.whl (6.8 MB)\n",
            "\u001b[2K   \u001b[90m━━━━━━━━━━━━━━━━━━━━━━━━━━━━━━━━━━━━━━━━\u001b[0m \u001b[32m6.8/6.8 MB\u001b[0m \u001b[31m11.9 MB/s\u001b[0m eta \u001b[36m0:00:00\u001b[0m\n",
            "\u001b[?25hDownloading docker_pycreds-0.4.0-py2.py3-none-any.whl (9.0 kB)\n",
            "Downloading GitPython-3.1.43-py3-none-any.whl (207 kB)\n",
            "\u001b[2K   \u001b[90m━━━━━━━━━━━━━━━━━━━━━━━━━━━━━━━━━━━━━━━━\u001b[0m \u001b[32m207.3/207.3 kB\u001b[0m \u001b[31m11.2 MB/s\u001b[0m eta \u001b[36m0:00:00\u001b[0m\n",
            "\u001b[?25hDownloading sentry_sdk-2.11.0-py2.py3-none-any.whl (303 kB)\n",
            "\u001b[2K   \u001b[90m━━━━━━━━━━━━━━━━━━━━━━━━━━━━━━━━━━━━━━━━\u001b[0m \u001b[32m303.6/303.6 kB\u001b[0m \u001b[31m12.2 MB/s\u001b[0m eta \u001b[36m0:00:00\u001b[0m\n",
            "\u001b[?25hDownloading setproctitle-1.3.3-cp310-cp310-manylinux_2_5_x86_64.manylinux1_x86_64.manylinux_2_17_x86_64.manylinux2014_x86_64.whl (30 kB)\n",
            "Downloading gitdb-4.0.11-py3-none-any.whl (62 kB)\n",
            "\u001b[2K   \u001b[90m━━━━━━━━━━━━━━━━━━━━━━━━━━━━━━━━━━━━━━━━\u001b[0m \u001b[32m62.7/62.7 kB\u001b[0m \u001b[31m4.9 MB/s\u001b[0m eta \u001b[36m0:00:00\u001b[0m\n",
            "\u001b[?25hDownloading smmap-5.0.1-py3-none-any.whl (24 kB)\n",
            "Installing collected packages: smmap, setproctitle, sentry-sdk, docker-pycreds, gitdb, gitpython, wandb\n",
            "Successfully installed docker-pycreds-0.4.0 gitdb-4.0.11 gitpython-3.1.43 sentry-sdk-2.11.0 setproctitle-1.3.3 smmap-5.0.1 wandb-0.17.5\n"
          ]
        }
      ]
    },
    {
      "cell_type": "code",
      "source": [
        "import wandb\n",
        "\n",
        "# initialize w&b\n",
        "wandb.init(project=\"test_phishing_using_decision_tree\")"
      ],
      "metadata": {
        "colab": {
          "base_uri": "https://localhost:8080/",
          "height": 212
        },
        "id": "94PaBkE0qKnm",
        "outputId": "6481693f-c960-47b5-cbae-3277dcff841a"
      },
      "execution_count": 2,
      "outputs": [
        {
          "output_type": "display_data",
          "data": {
            "text/plain": [
              "<IPython.core.display.Javascript object>"
            ],
            "application/javascript": [
              "\n",
              "        window._wandbApiKey = new Promise((resolve, reject) => {\n",
              "            function loadScript(url) {\n",
              "            return new Promise(function(resolve, reject) {\n",
              "                let newScript = document.createElement(\"script\");\n",
              "                newScript.onerror = reject;\n",
              "                newScript.onload = resolve;\n",
              "                document.body.appendChild(newScript);\n",
              "                newScript.src = url;\n",
              "            });\n",
              "            }\n",
              "            loadScript(\"https://cdn.jsdelivr.net/npm/postmate/build/postmate.min.js\").then(() => {\n",
              "            const iframe = document.createElement('iframe')\n",
              "            iframe.style.cssText = \"width:0;height:0;border:none\"\n",
              "            document.body.appendChild(iframe)\n",
              "            const handshake = new Postmate({\n",
              "                container: iframe,\n",
              "                url: 'https://wandb.ai/authorize'\n",
              "            });\n",
              "            const timeout = setTimeout(() => reject(\"Couldn't auto authenticate\"), 5000)\n",
              "            handshake.then(function(child) {\n",
              "                child.on('authorize', data => {\n",
              "                    clearTimeout(timeout)\n",
              "                    resolve(data)\n",
              "                });\n",
              "            });\n",
              "            })\n",
              "        });\n",
              "    "
            ]
          },
          "metadata": {}
        },
        {
          "output_type": "stream",
          "name": "stderr",
          "text": [
            "\u001b[34m\u001b[1mwandb\u001b[0m: Logging into wandb.ai. (Learn how to deploy a W&B server locally: https://wandb.me/wandb-server)\n",
            "\u001b[34m\u001b[1mwandb\u001b[0m: You can find your API key in your browser here: https://wandb.ai/authorize\n",
            "wandb: Paste an API key from your profile and hit enter, or press ctrl+c to quit:"
          ]
        },
        {
          "name": "stdout",
          "output_type": "stream",
          "text": [
            " ··········\n"
          ]
        },
        {
          "output_type": "stream",
          "name": "stderr",
          "text": [
            "\u001b[34m\u001b[1mwandb\u001b[0m: Appending key for api.wandb.ai to your netrc file: /root/.netrc\n"
          ]
        },
        {
          "output_type": "display_data",
          "data": {
            "text/plain": [
              "<IPython.core.display.HTML object>"
            ],
            "text/html": [
              "Tracking run with wandb version 0.17.5"
            ]
          },
          "metadata": {}
        },
        {
          "output_type": "display_data",
          "data": {
            "text/plain": [
              "<IPython.core.display.HTML object>"
            ],
            "text/html": [
              "Run data is saved locally in <code>/content/wandb/run-20240725_092133-u24e0ayf</code>"
            ]
          },
          "metadata": {}
        },
        {
          "output_type": "display_data",
          "data": {
            "text/plain": [
              "<IPython.core.display.HTML object>"
            ],
            "text/html": [
              "Syncing run <strong><a href='https://wandb.ai/unitedStatesInternationalUniversity/test_phishing_using_decision_tree/runs/u24e0ayf' target=\"_blank\">distinctive-leaf-6</a></strong> to <a href='https://wandb.ai/unitedStatesInternationalUniversity/test_phishing_using_decision_tree' target=\"_blank\">Weights & Biases</a> (<a href='https://wandb.me/run' target=\"_blank\">docs</a>)<br/>"
            ]
          },
          "metadata": {}
        },
        {
          "output_type": "display_data",
          "data": {
            "text/plain": [
              "<IPython.core.display.HTML object>"
            ],
            "text/html": [
              " View project at <a href='https://wandb.ai/unitedStatesInternationalUniversity/test_phishing_using_decision_tree' target=\"_blank\">https://wandb.ai/unitedStatesInternationalUniversity/test_phishing_using_decision_tree</a>"
            ]
          },
          "metadata": {}
        },
        {
          "output_type": "display_data",
          "data": {
            "text/plain": [
              "<IPython.core.display.HTML object>"
            ],
            "text/html": [
              " View run at <a href='https://wandb.ai/unitedStatesInternationalUniversity/test_phishing_using_decision_tree/runs/u24e0ayf' target=\"_blank\">https://wandb.ai/unitedStatesInternationalUniversity/test_phishing_using_decision_tree/runs/u24e0ayf</a>"
            ]
          },
          "metadata": {}
        },
        {
          "output_type": "execute_result",
          "data": {
            "text/html": [
              "<button onClick=\"this.nextSibling.style.display='block';this.style.display='none';\">Display W&B run</button><iframe src='https://wandb.ai/unitedStatesInternationalUniversity/test_phishing_using_decision_tree/runs/u24e0ayf?jupyter=true' style='border:none;width:100%;height:420px;display:none;'></iframe>"
            ],
            "text/plain": [
              "<wandb.sdk.wandb_run.Run at 0x7b5790ce2d40>"
            ]
          },
          "metadata": {},
          "execution_count": 2
        }
      ]
    },
    {
      "cell_type": "markdown",
      "source": [
        "# Familiarizing with the data"
      ],
      "metadata": {
        "id": "KQaYWsy6DYi3"
      }
    },
    {
      "cell_type": "code",
      "source": [
        "# import necessary libraries\n",
        "import pandas as pd\n",
        "import numpy as np\n",
        "from sklearn.model_selection import train_test_split\n",
        "from sklearn.tree import DecisionTreeClassifier\n",
        "from sklearn.metrics import accuracy_score, confusion_matrix\n",
        "from sklearn.preprocessing import LabelEncoder"
      ],
      "metadata": {
        "id": "N95PNg13rIwf"
      },
      "execution_count": 44,
      "outputs": []
    },
    {
      "cell_type": "code",
      "source": [
        "data = pd.read_csv(\"/content/sample_data/urlset.csv\", header='infer', encoding='ISO-8859-1')"
      ],
      "metadata": {
        "colab": {
          "base_uri": "https://localhost:8080/"
        },
        "id": "expGP96mrO5J",
        "outputId": "0ef3ea1f-e5f2-4332-c22d-72491284d340"
      },
      "execution_count": 4,
      "outputs": [
        {
          "output_type": "stream",
          "name": "stderr",
          "text": [
            "<ipython-input-4-62f13cb7e031>:1: DtypeWarning: Columns (1,2,3,11,12,13) have mixed types. Specify dtype option on import or set low_memory=False.\n",
            "  data = pd.read_csv(\"/content/sample_data/urlset.csv\", header='infer', encoding='ISO-8859-1')\n"
          ]
        }
      ]
    },
    {
      "cell_type": "code",
      "source": [
        "# check sample of the dataset\n",
        "data"
      ],
      "metadata": {
        "colab": {
          "base_uri": "https://localhost:8080/",
          "height": 461
        },
        "id": "Rhrn-NVps6uV",
        "outputId": "6838ad74-ec71-40ea-f205-a7dafcc3213d"
      },
      "execution_count": 5,
      "outputs": [
        {
          "output_type": "execute_result",
          "data": {
            "text/plain": [
              "                                                  domain   ranking mld_res  \\\n",
              "0      nobell.it/70ffb52d079109dca5664cce6f317373782/...  10000000       1   \n",
              "1      www.dghjdgf.com/paypal.co.uk/cycgi-bin/webscrc...  10000000       0   \n",
              "2      serviciosbys.com/paypal.cgi.bin.get-into.herf....  10000000       0   \n",
              "3      mail.printakid.com/www.online.americanexpress....  10000000       0   \n",
              "4      thewhiskeydregs.com/wp-content/themes/widescre...  10000000       0   \n",
              "...                                                  ...       ...     ...   \n",
              "96006            xbox360.ign.com/objects/850/850402.html       339       1   \n",
              "96007       games.teamxbox.com/xbox-360/1860/Dead-Space/     63029       1   \n",
              "96008         www.gamespot.com/xbox360/action/deadspace/       753       1   \n",
              "96009      en.wikipedia.org/wiki/Dead_Space_(video_game)         6       1   \n",
              "96010          www.angelfire.com/goth/devilmaycrytonite/      2547       1   \n",
              "\n",
              "      mld.ps_res  card_rem  ratio_Rrem  ratio_Arem  jaccard_RR  jaccard_RA  \\\n",
              "0              0      18.0  107.611111  107.277778    0.000000    0.000000   \n",
              "1              0      11.0  150.636364  152.272727    0.000000    0.000000   \n",
              "2              0      14.0   73.500000   72.642857    0.000000    0.000000   \n",
              "3              0       6.0  562.000000  590.666667    0.000000    0.000000   \n",
              "4              0       8.0   29.000000   24.125000    0.000000    0.000000   \n",
              "...          ...       ...         ...         ...         ...         ...   \n",
              "96006          1       2.0  142.500000  141.000000    0.009009    0.009091   \n",
              "96007          0       3.0  114.000000  128.333333    0.002899    0.002577   \n",
              "96008          1       3.0   91.000000  101.333333    0.000000    0.003106   \n",
              "96009          1       4.0  682.000000  744.250000    0.033075    0.029412   \n",
              "96010          1       5.0   32.400000   27.200000    0.022222    0.032680   \n",
              "\n",
              "       jaccard_AR  jaccard_AA jaccard_ARrd jaccard_ARrem label  \n",
              "0        0.000000    0.000000          0.8      0.795729     1  \n",
              "1        0.000000    0.000000            0      0.768577     1  \n",
              "2        0.000000    0.000000            0      0.726582     1  \n",
              "3        0.000000    0.000000            0       0.85964     1  \n",
              "4        0.000000    0.000000            0      0.748971     1  \n",
              "...           ...         ...          ...           ...   ...  \n",
              "96006    0.006536    0.006601      0.45098      0.846906     0  \n",
              "96007    0.002907    0.002584         0.75      0.714623     0  \n",
              "96008    0.000000    0.000000     0.111111      0.648571     0  \n",
              "96009    0.030250    0.029145     0.809735      0.840323     0  \n",
              "96010    0.017341    0.020408     0.636364      0.674157     0  \n",
              "\n",
              "[96011 rows x 14 columns]"
            ],
            "text/html": [
              "\n",
              "  <div id=\"df-d93bdfac-b0cc-4554-b139-aa42d854a756\" class=\"colab-df-container\">\n",
              "    <div>\n",
              "<style scoped>\n",
              "    .dataframe tbody tr th:only-of-type {\n",
              "        vertical-align: middle;\n",
              "    }\n",
              "\n",
              "    .dataframe tbody tr th {\n",
              "        vertical-align: top;\n",
              "    }\n",
              "\n",
              "    .dataframe thead th {\n",
              "        text-align: right;\n",
              "    }\n",
              "</style>\n",
              "<table border=\"1\" class=\"dataframe\">\n",
              "  <thead>\n",
              "    <tr style=\"text-align: right;\">\n",
              "      <th></th>\n",
              "      <th>domain</th>\n",
              "      <th>ranking</th>\n",
              "      <th>mld_res</th>\n",
              "      <th>mld.ps_res</th>\n",
              "      <th>card_rem</th>\n",
              "      <th>ratio_Rrem</th>\n",
              "      <th>ratio_Arem</th>\n",
              "      <th>jaccard_RR</th>\n",
              "      <th>jaccard_RA</th>\n",
              "      <th>jaccard_AR</th>\n",
              "      <th>jaccard_AA</th>\n",
              "      <th>jaccard_ARrd</th>\n",
              "      <th>jaccard_ARrem</th>\n",
              "      <th>label</th>\n",
              "    </tr>\n",
              "  </thead>\n",
              "  <tbody>\n",
              "    <tr>\n",
              "      <th>0</th>\n",
              "      <td>nobell.it/70ffb52d079109dca5664cce6f317373782/...</td>\n",
              "      <td>10000000</td>\n",
              "      <td>1</td>\n",
              "      <td>0</td>\n",
              "      <td>18.0</td>\n",
              "      <td>107.611111</td>\n",
              "      <td>107.277778</td>\n",
              "      <td>0.000000</td>\n",
              "      <td>0.000000</td>\n",
              "      <td>0.000000</td>\n",
              "      <td>0.000000</td>\n",
              "      <td>0.8</td>\n",
              "      <td>0.795729</td>\n",
              "      <td>1</td>\n",
              "    </tr>\n",
              "    <tr>\n",
              "      <th>1</th>\n",
              "      <td>www.dghjdgf.com/paypal.co.uk/cycgi-bin/webscrc...</td>\n",
              "      <td>10000000</td>\n",
              "      <td>0</td>\n",
              "      <td>0</td>\n",
              "      <td>11.0</td>\n",
              "      <td>150.636364</td>\n",
              "      <td>152.272727</td>\n",
              "      <td>0.000000</td>\n",
              "      <td>0.000000</td>\n",
              "      <td>0.000000</td>\n",
              "      <td>0.000000</td>\n",
              "      <td>0</td>\n",
              "      <td>0.768577</td>\n",
              "      <td>1</td>\n",
              "    </tr>\n",
              "    <tr>\n",
              "      <th>2</th>\n",
              "      <td>serviciosbys.com/paypal.cgi.bin.get-into.herf....</td>\n",
              "      <td>10000000</td>\n",
              "      <td>0</td>\n",
              "      <td>0</td>\n",
              "      <td>14.0</td>\n",
              "      <td>73.500000</td>\n",
              "      <td>72.642857</td>\n",
              "      <td>0.000000</td>\n",
              "      <td>0.000000</td>\n",
              "      <td>0.000000</td>\n",
              "      <td>0.000000</td>\n",
              "      <td>0</td>\n",
              "      <td>0.726582</td>\n",
              "      <td>1</td>\n",
              "    </tr>\n",
              "    <tr>\n",
              "      <th>3</th>\n",
              "      <td>mail.printakid.com/www.online.americanexpress....</td>\n",
              "      <td>10000000</td>\n",
              "      <td>0</td>\n",
              "      <td>0</td>\n",
              "      <td>6.0</td>\n",
              "      <td>562.000000</td>\n",
              "      <td>590.666667</td>\n",
              "      <td>0.000000</td>\n",
              "      <td>0.000000</td>\n",
              "      <td>0.000000</td>\n",
              "      <td>0.000000</td>\n",
              "      <td>0</td>\n",
              "      <td>0.85964</td>\n",
              "      <td>1</td>\n",
              "    </tr>\n",
              "    <tr>\n",
              "      <th>4</th>\n",
              "      <td>thewhiskeydregs.com/wp-content/themes/widescre...</td>\n",
              "      <td>10000000</td>\n",
              "      <td>0</td>\n",
              "      <td>0</td>\n",
              "      <td>8.0</td>\n",
              "      <td>29.000000</td>\n",
              "      <td>24.125000</td>\n",
              "      <td>0.000000</td>\n",
              "      <td>0.000000</td>\n",
              "      <td>0.000000</td>\n",
              "      <td>0.000000</td>\n",
              "      <td>0</td>\n",
              "      <td>0.748971</td>\n",
              "      <td>1</td>\n",
              "    </tr>\n",
              "    <tr>\n",
              "      <th>...</th>\n",
              "      <td>...</td>\n",
              "      <td>...</td>\n",
              "      <td>...</td>\n",
              "      <td>...</td>\n",
              "      <td>...</td>\n",
              "      <td>...</td>\n",
              "      <td>...</td>\n",
              "      <td>...</td>\n",
              "      <td>...</td>\n",
              "      <td>...</td>\n",
              "      <td>...</td>\n",
              "      <td>...</td>\n",
              "      <td>...</td>\n",
              "      <td>...</td>\n",
              "    </tr>\n",
              "    <tr>\n",
              "      <th>96006</th>\n",
              "      <td>xbox360.ign.com/objects/850/850402.html</td>\n",
              "      <td>339</td>\n",
              "      <td>1</td>\n",
              "      <td>1</td>\n",
              "      <td>2.0</td>\n",
              "      <td>142.500000</td>\n",
              "      <td>141.000000</td>\n",
              "      <td>0.009009</td>\n",
              "      <td>0.009091</td>\n",
              "      <td>0.006536</td>\n",
              "      <td>0.006601</td>\n",
              "      <td>0.45098</td>\n",
              "      <td>0.846906</td>\n",
              "      <td>0</td>\n",
              "    </tr>\n",
              "    <tr>\n",
              "      <th>96007</th>\n",
              "      <td>games.teamxbox.com/xbox-360/1860/Dead-Space/</td>\n",
              "      <td>63029</td>\n",
              "      <td>1</td>\n",
              "      <td>0</td>\n",
              "      <td>3.0</td>\n",
              "      <td>114.000000</td>\n",
              "      <td>128.333333</td>\n",
              "      <td>0.002899</td>\n",
              "      <td>0.002577</td>\n",
              "      <td>0.002907</td>\n",
              "      <td>0.002584</td>\n",
              "      <td>0.75</td>\n",
              "      <td>0.714623</td>\n",
              "      <td>0</td>\n",
              "    </tr>\n",
              "    <tr>\n",
              "      <th>96008</th>\n",
              "      <td>www.gamespot.com/xbox360/action/deadspace/</td>\n",
              "      <td>753</td>\n",
              "      <td>1</td>\n",
              "      <td>1</td>\n",
              "      <td>3.0</td>\n",
              "      <td>91.000000</td>\n",
              "      <td>101.333333</td>\n",
              "      <td>0.000000</td>\n",
              "      <td>0.003106</td>\n",
              "      <td>0.000000</td>\n",
              "      <td>0.000000</td>\n",
              "      <td>0.111111</td>\n",
              "      <td>0.648571</td>\n",
              "      <td>0</td>\n",
              "    </tr>\n",
              "    <tr>\n",
              "      <th>96009</th>\n",
              "      <td>en.wikipedia.org/wiki/Dead_Space_(video_game)</td>\n",
              "      <td>6</td>\n",
              "      <td>1</td>\n",
              "      <td>1</td>\n",
              "      <td>4.0</td>\n",
              "      <td>682.000000</td>\n",
              "      <td>744.250000</td>\n",
              "      <td>0.033075</td>\n",
              "      <td>0.029412</td>\n",
              "      <td>0.030250</td>\n",
              "      <td>0.029145</td>\n",
              "      <td>0.809735</td>\n",
              "      <td>0.840323</td>\n",
              "      <td>0</td>\n",
              "    </tr>\n",
              "    <tr>\n",
              "      <th>96010</th>\n",
              "      <td>www.angelfire.com/goth/devilmaycrytonite/</td>\n",
              "      <td>2547</td>\n",
              "      <td>1</td>\n",
              "      <td>1</td>\n",
              "      <td>5.0</td>\n",
              "      <td>32.400000</td>\n",
              "      <td>27.200000</td>\n",
              "      <td>0.022222</td>\n",
              "      <td>0.032680</td>\n",
              "      <td>0.017341</td>\n",
              "      <td>0.020408</td>\n",
              "      <td>0.636364</td>\n",
              "      <td>0.674157</td>\n",
              "      <td>0</td>\n",
              "    </tr>\n",
              "  </tbody>\n",
              "</table>\n",
              "<p>96011 rows × 14 columns</p>\n",
              "</div>\n",
              "    <div class=\"colab-df-buttons\">\n",
              "\n",
              "  <div class=\"colab-df-container\">\n",
              "    <button class=\"colab-df-convert\" onclick=\"convertToInteractive('df-d93bdfac-b0cc-4554-b139-aa42d854a756')\"\n",
              "            title=\"Convert this dataframe to an interactive table.\"\n",
              "            style=\"display:none;\">\n",
              "\n",
              "  <svg xmlns=\"http://www.w3.org/2000/svg\" height=\"24px\" viewBox=\"0 -960 960 960\">\n",
              "    <path d=\"M120-120v-720h720v720H120Zm60-500h600v-160H180v160Zm220 220h160v-160H400v160Zm0 220h160v-160H400v160ZM180-400h160v-160H180v160Zm440 0h160v-160H620v160ZM180-180h160v-160H180v160Zm440 0h160v-160H620v160Z\"/>\n",
              "  </svg>\n",
              "    </button>\n",
              "\n",
              "  <style>\n",
              "    .colab-df-container {\n",
              "      display:flex;\n",
              "      gap: 12px;\n",
              "    }\n",
              "\n",
              "    .colab-df-convert {\n",
              "      background-color: #E8F0FE;\n",
              "      border: none;\n",
              "      border-radius: 50%;\n",
              "      cursor: pointer;\n",
              "      display: none;\n",
              "      fill: #1967D2;\n",
              "      height: 32px;\n",
              "      padding: 0 0 0 0;\n",
              "      width: 32px;\n",
              "    }\n",
              "\n",
              "    .colab-df-convert:hover {\n",
              "      background-color: #E2EBFA;\n",
              "      box-shadow: 0px 1px 2px rgba(60, 64, 67, 0.3), 0px 1px 3px 1px rgba(60, 64, 67, 0.15);\n",
              "      fill: #174EA6;\n",
              "    }\n",
              "\n",
              "    .colab-df-buttons div {\n",
              "      margin-bottom: 4px;\n",
              "    }\n",
              "\n",
              "    [theme=dark] .colab-df-convert {\n",
              "      background-color: #3B4455;\n",
              "      fill: #D2E3FC;\n",
              "    }\n",
              "\n",
              "    [theme=dark] .colab-df-convert:hover {\n",
              "      background-color: #434B5C;\n",
              "      box-shadow: 0px 1px 3px 1px rgba(0, 0, 0, 0.15);\n",
              "      filter: drop-shadow(0px 1px 2px rgba(0, 0, 0, 0.3));\n",
              "      fill: #FFFFFF;\n",
              "    }\n",
              "  </style>\n",
              "\n",
              "    <script>\n",
              "      const buttonEl =\n",
              "        document.querySelector('#df-d93bdfac-b0cc-4554-b139-aa42d854a756 button.colab-df-convert');\n",
              "      buttonEl.style.display =\n",
              "        google.colab.kernel.accessAllowed ? 'block' : 'none';\n",
              "\n",
              "      async function convertToInteractive(key) {\n",
              "        const element = document.querySelector('#df-d93bdfac-b0cc-4554-b139-aa42d854a756');\n",
              "        const dataTable =\n",
              "          await google.colab.kernel.invokeFunction('convertToInteractive',\n",
              "                                                    [key], {});\n",
              "        if (!dataTable) return;\n",
              "\n",
              "        const docLinkHtml = 'Like what you see? Visit the ' +\n",
              "          '<a target=\"_blank\" href=https://colab.research.google.com/notebooks/data_table.ipynb>data table notebook</a>'\n",
              "          + ' to learn more about interactive tables.';\n",
              "        element.innerHTML = '';\n",
              "        dataTable['output_type'] = 'display_data';\n",
              "        await google.colab.output.renderOutput(dataTable, element);\n",
              "        const docLink = document.createElement('div');\n",
              "        docLink.innerHTML = docLinkHtml;\n",
              "        element.appendChild(docLink);\n",
              "      }\n",
              "    </script>\n",
              "  </div>\n",
              "\n",
              "\n",
              "<div id=\"df-293d39b3-91db-4937-b0d6-8ce4f4188378\">\n",
              "  <button class=\"colab-df-quickchart\" onclick=\"quickchart('df-293d39b3-91db-4937-b0d6-8ce4f4188378')\"\n",
              "            title=\"Suggest charts\"\n",
              "            style=\"display:none;\">\n",
              "\n",
              "<svg xmlns=\"http://www.w3.org/2000/svg\" height=\"24px\"viewBox=\"0 0 24 24\"\n",
              "     width=\"24px\">\n",
              "    <g>\n",
              "        <path d=\"M19 3H5c-1.1 0-2 .9-2 2v14c0 1.1.9 2 2 2h14c1.1 0 2-.9 2-2V5c0-1.1-.9-2-2-2zM9 17H7v-7h2v7zm4 0h-2V7h2v10zm4 0h-2v-4h2v4z\"/>\n",
              "    </g>\n",
              "</svg>\n",
              "  </button>\n",
              "\n",
              "<style>\n",
              "  .colab-df-quickchart {\n",
              "      --bg-color: #E8F0FE;\n",
              "      --fill-color: #1967D2;\n",
              "      --hover-bg-color: #E2EBFA;\n",
              "      --hover-fill-color: #174EA6;\n",
              "      --disabled-fill-color: #AAA;\n",
              "      --disabled-bg-color: #DDD;\n",
              "  }\n",
              "\n",
              "  [theme=dark] .colab-df-quickchart {\n",
              "      --bg-color: #3B4455;\n",
              "      --fill-color: #D2E3FC;\n",
              "      --hover-bg-color: #434B5C;\n",
              "      --hover-fill-color: #FFFFFF;\n",
              "      --disabled-bg-color: #3B4455;\n",
              "      --disabled-fill-color: #666;\n",
              "  }\n",
              "\n",
              "  .colab-df-quickchart {\n",
              "    background-color: var(--bg-color);\n",
              "    border: none;\n",
              "    border-radius: 50%;\n",
              "    cursor: pointer;\n",
              "    display: none;\n",
              "    fill: var(--fill-color);\n",
              "    height: 32px;\n",
              "    padding: 0;\n",
              "    width: 32px;\n",
              "  }\n",
              "\n",
              "  .colab-df-quickchart:hover {\n",
              "    background-color: var(--hover-bg-color);\n",
              "    box-shadow: 0 1px 2px rgba(60, 64, 67, 0.3), 0 1px 3px 1px rgba(60, 64, 67, 0.15);\n",
              "    fill: var(--button-hover-fill-color);\n",
              "  }\n",
              "\n",
              "  .colab-df-quickchart-complete:disabled,\n",
              "  .colab-df-quickchart-complete:disabled:hover {\n",
              "    background-color: var(--disabled-bg-color);\n",
              "    fill: var(--disabled-fill-color);\n",
              "    box-shadow: none;\n",
              "  }\n",
              "\n",
              "  .colab-df-spinner {\n",
              "    border: 2px solid var(--fill-color);\n",
              "    border-color: transparent;\n",
              "    border-bottom-color: var(--fill-color);\n",
              "    animation:\n",
              "      spin 1s steps(1) infinite;\n",
              "  }\n",
              "\n",
              "  @keyframes spin {\n",
              "    0% {\n",
              "      border-color: transparent;\n",
              "      border-bottom-color: var(--fill-color);\n",
              "      border-left-color: var(--fill-color);\n",
              "    }\n",
              "    20% {\n",
              "      border-color: transparent;\n",
              "      border-left-color: var(--fill-color);\n",
              "      border-top-color: var(--fill-color);\n",
              "    }\n",
              "    30% {\n",
              "      border-color: transparent;\n",
              "      border-left-color: var(--fill-color);\n",
              "      border-top-color: var(--fill-color);\n",
              "      border-right-color: var(--fill-color);\n",
              "    }\n",
              "    40% {\n",
              "      border-color: transparent;\n",
              "      border-right-color: var(--fill-color);\n",
              "      border-top-color: var(--fill-color);\n",
              "    }\n",
              "    60% {\n",
              "      border-color: transparent;\n",
              "      border-right-color: var(--fill-color);\n",
              "    }\n",
              "    80% {\n",
              "      border-color: transparent;\n",
              "      border-right-color: var(--fill-color);\n",
              "      border-bottom-color: var(--fill-color);\n",
              "    }\n",
              "    90% {\n",
              "      border-color: transparent;\n",
              "      border-bottom-color: var(--fill-color);\n",
              "    }\n",
              "  }\n",
              "</style>\n",
              "\n",
              "  <script>\n",
              "    async function quickchart(key) {\n",
              "      const quickchartButtonEl =\n",
              "        document.querySelector('#' + key + ' button');\n",
              "      quickchartButtonEl.disabled = true;  // To prevent multiple clicks.\n",
              "      quickchartButtonEl.classList.add('colab-df-spinner');\n",
              "      try {\n",
              "        const charts = await google.colab.kernel.invokeFunction(\n",
              "            'suggestCharts', [key], {});\n",
              "      } catch (error) {\n",
              "        console.error('Error during call to suggestCharts:', error);\n",
              "      }\n",
              "      quickchartButtonEl.classList.remove('colab-df-spinner');\n",
              "      quickchartButtonEl.classList.add('colab-df-quickchart-complete');\n",
              "    }\n",
              "    (() => {\n",
              "      let quickchartButtonEl =\n",
              "        document.querySelector('#df-293d39b3-91db-4937-b0d6-8ce4f4188378 button');\n",
              "      quickchartButtonEl.style.display =\n",
              "        google.colab.kernel.accessAllowed ? 'block' : 'none';\n",
              "    })();\n",
              "  </script>\n",
              "</div>\n",
              "\n",
              "  <div id=\"id_610e72c2-e895-40c1-8af5-76acc11a20e8\">\n",
              "    <style>\n",
              "      .colab-df-generate {\n",
              "        background-color: #E8F0FE;\n",
              "        border: none;\n",
              "        border-radius: 50%;\n",
              "        cursor: pointer;\n",
              "        display: none;\n",
              "        fill: #1967D2;\n",
              "        height: 32px;\n",
              "        padding: 0 0 0 0;\n",
              "        width: 32px;\n",
              "      }\n",
              "\n",
              "      .colab-df-generate:hover {\n",
              "        background-color: #E2EBFA;\n",
              "        box-shadow: 0px 1px 2px rgba(60, 64, 67, 0.3), 0px 1px 3px 1px rgba(60, 64, 67, 0.15);\n",
              "        fill: #174EA6;\n",
              "      }\n",
              "\n",
              "      [theme=dark] .colab-df-generate {\n",
              "        background-color: #3B4455;\n",
              "        fill: #D2E3FC;\n",
              "      }\n",
              "\n",
              "      [theme=dark] .colab-df-generate:hover {\n",
              "        background-color: #434B5C;\n",
              "        box-shadow: 0px 1px 3px 1px rgba(0, 0, 0, 0.15);\n",
              "        filter: drop-shadow(0px 1px 2px rgba(0, 0, 0, 0.3));\n",
              "        fill: #FFFFFF;\n",
              "      }\n",
              "    </style>\n",
              "    <button class=\"colab-df-generate\" onclick=\"generateWithVariable('data')\"\n",
              "            title=\"Generate code using this dataframe.\"\n",
              "            style=\"display:none;\">\n",
              "\n",
              "  <svg xmlns=\"http://www.w3.org/2000/svg\" height=\"24px\"viewBox=\"0 0 24 24\"\n",
              "       width=\"24px\">\n",
              "    <path d=\"M7,19H8.4L18.45,9,17,7.55,7,17.6ZM5,21V16.75L18.45,3.32a2,2,0,0,1,2.83,0l1.4,1.43a1.91,1.91,0,0,1,.58,1.4,1.91,1.91,0,0,1-.58,1.4L9.25,21ZM18.45,9,17,7.55Zm-12,3A5.31,5.31,0,0,0,4.9,8.1,5.31,5.31,0,0,0,1,6.5,5.31,5.31,0,0,0,4.9,4.9,5.31,5.31,0,0,0,6.5,1,5.31,5.31,0,0,0,8.1,4.9,5.31,5.31,0,0,0,12,6.5,5.46,5.46,0,0,0,6.5,12Z\"/>\n",
              "  </svg>\n",
              "    </button>\n",
              "    <script>\n",
              "      (() => {\n",
              "      const buttonEl =\n",
              "        document.querySelector('#id_610e72c2-e895-40c1-8af5-76acc11a20e8 button.colab-df-generate');\n",
              "      buttonEl.style.display =\n",
              "        google.colab.kernel.accessAllowed ? 'block' : 'none';\n",
              "\n",
              "      buttonEl.onclick = () => {\n",
              "        google.colab.notebook.generateWithVariable('data');\n",
              "      }\n",
              "      })();\n",
              "    </script>\n",
              "  </div>\n",
              "\n",
              "    </div>\n",
              "  </div>\n"
            ],
            "application/vnd.google.colaboratory.intrinsic+json": {
              "type": "dataframe",
              "variable_name": "data",
              "summary": "{\n  \"name\": \"data\",\n  \"rows\": 96011,\n  \"fields\": [\n    {\n      \"column\": \"domain\",\n      \"properties\": {\n        \"dtype\": \"string\",\n        \"num_unique_values\": 96005,\n        \"samples\": [\n          \"keir.net/bosskey.html\",\n          \"amf-online.de/cli/files/archives/upload/html/register_user/index.html?5BWVIFC36F9K73BWQNBHT816QW7B4XN99J4QZGT6V3Q362ZVOADIHDN9AUJER8MZRQQQ7JW3LM6QO5MDEZVWDJ5ODO36VO6MEVDLFAN2WSSLXEYBET9SCDGQ2JVX81KMWY8B9VC6O5QLJPXYI7QVJ8MLQHJYI4KE3SQA?ios\",\n          \"members.ozemail.com.au/~ksengs/\"\n        ],\n        \"semantic_type\": \"\",\n        \"description\": \"\"\n      }\n    },\n    {\n      \"column\": \"ranking\",\n      \"properties\": {\n        \"dtype\": \"category\",\n        \"num_unique_values\": 8206,\n        \"samples\": [\n          \"726958\",\n          \"3776\",\n          \"529916\"\n        ],\n        \"semantic_type\": \"\",\n        \"description\": \"\"\n      }\n    },\n    {\n      \"column\": \"mld_res\",\n      \"properties\": {\n        \"dtype\": \"category\",\n        \"num_unique_values\": 20,\n        \"samples\": [\n          \"1\",\n          \"11\",\n          \"P\\u008b\\u00f2\\u00a8p\\u009bkk/(k:i\\u00cf\\u00db(\\u001c?[\\u00e2u\\u00b4\\u0087\\u00898\\u00d8z\\u007f\\u00beX\\u00de\\u0092?\\u0017e\\u00de\\u008f\\u00fe[\\u00ee\\u00b5(\\u00d8\\u00b6v{\\u00ab*x\\u0002\\u00029\\u00bb\\\"4\\u00e3\\u00ad\\u00e0;\"\n        ],\n        \"semantic_type\": \"\",\n        \"description\": \"\"\n      }\n    },\n    {\n      \"column\": \"mld.ps_res\",\n      \"properties\": {\n        \"dtype\": \"category\",\n        \"num_unique_values\": 9,\n        \"samples\": [\n          0,\n          \"1\",\n          \"\\u00be\\u0081\\u0096\\u00f3-\\u00a2\\\\\\u0007\\u00e9\\\\t\\u00ac\\u001al\\u0017\\u00bc\\u0096\\u00ee\\u00ec\\u00ee\\u00d7lNz\\u00994\\u00d4\\u00ef\\u00e5r\\u00e2\\u0097~\\u007f\\u008dZ\\u00af\\u00ee\\u00c2-\\u00ea\\u009b\\u00d8\\u00e70\\u009c\\u001b8\"\n        ],\n        \"semantic_type\": \"\",\n        \"description\": \"\"\n      }\n    },\n    {\n      \"column\": \"card_rem\",\n      \"properties\": {\n        \"dtype\": \"number\",\n        \"std\": 4.466075343153312,\n        \"min\": 0.0,\n        \"max\": 187.333333,\n        \"num_unique_values\": 53,\n        \"samples\": [\n          17.0,\n          187.333333,\n          51.0\n        ],\n        \"semantic_type\": \"\",\n        \"description\": \"\"\n      }\n    },\n    {\n      \"column\": \"ratio_Rrem\",\n      \"properties\": {\n        \"dtype\": \"number\",\n        \"std\": 160.98826572875907,\n        \"min\": 0.0,\n        \"max\": 5507.0,\n        \"num_unique_values\": 10042,\n        \"samples\": [\n          135.642857,\n          149.9,\n          256.1875\n        ],\n        \"semantic_type\": \"\",\n        \"description\": \"\"\n      }\n    },\n    {\n      \"column\": \"ratio_Arem\",\n      \"properties\": {\n        \"dtype\": \"number\",\n        \"std\": 175.4787219630995,\n        \"min\": 0.0,\n        \"max\": 6097.0,\n        \"num_unique_values\": 10231,\n        \"samples\": [\n          36.642857,\n          98.333333,\n          362.833333\n        ],\n        \"semantic_type\": \"\",\n        \"description\": \"\"\n      }\n    },\n    {\n      \"column\": \"jaccard_RR\",\n      \"properties\": {\n        \"dtype\": \"number\",\n        \"std\": 0.8460106720737913,\n        \"min\": 0.0,\n        \"max\": 183.75,\n        \"num_unique_values\": 5448,\n        \"samples\": [\n          0.074097,\n          0.003735,\n          0.012364\n        ],\n        \"semantic_type\": \"\",\n        \"description\": \"\"\n      }\n    },\n    {\n      \"column\": \"jaccard_RA\",\n      \"properties\": {\n        \"dtype\": \"number\",\n        \"std\": 0.02563776984702207,\n        \"min\": 0.0,\n        \"max\": 2.0,\n        \"num_unique_values\": 5629,\n        \"samples\": [\n          0.045369,\n          0.023166,\n          0.006489\n        ],\n        \"semantic_type\": \"\",\n        \"description\": \"\"\n      }\n    },\n    {\n      \"column\": \"jaccard_AR\",\n      \"properties\": {\n        \"dtype\": \"number\",\n        \"std\": 0.0240102705228762,\n        \"min\": 0.0,\n        \"max\": 1.0,\n        \"num_unique_values\": 5071,\n        \"samples\": [\n          0.042857,\n          0.004871,\n          0.001498\n        ],\n        \"semantic_type\": \"\",\n        \"description\": \"\"\n      }\n    },\n    {\n      \"column\": \"jaccard_AA\",\n      \"properties\": {\n        \"dtype\": \"number\",\n        \"std\": 0.028492199086782393,\n        \"min\": 0.0,\n        \"max\": 1.0,\n        \"num_unique_values\": 5313,\n        \"samples\": [\n          0.003759,\n          0.255278,\n          0.000366\n        ],\n        \"semantic_type\": \"\",\n        \"description\": \"\"\n      }\n    },\n    {\n      \"column\": \"jaccard_ARrd\",\n      \"properties\": {\n        \"dtype\": \"category\",\n        \"num_unique_values\": 1071,\n        \"samples\": [\n          \"0.413793\",\n          \"0.863636\",\n          \"0.698413\"\n        ],\n        \"semantic_type\": \"\",\n        \"description\": \"\"\n      }\n    },\n    {\n      \"column\": \"jaccard_ARrem\",\n      \"properties\": {\n        \"dtype\": \"category\",\n        \"num_unique_values\": 30750,\n        \"samples\": [\n          \"0.833429\",\n          \"0.753521\",\n          0.843663\n        ],\n        \"semantic_type\": \"\",\n        \"description\": \"\"\n      }\n    },\n    {\n      \"column\": \"label\",\n      \"properties\": {\n        \"dtype\": \"category\",\n        \"num_unique_values\": 5,\n        \"samples\": [\n          \"0.7'8049\",\n          0,\n          \"0.770083\"\n        ],\n        \"semantic_type\": \"\",\n        \"description\": \"\"\n      }\n    }\n  ]\n}"
            }
          },
          "metadata": {},
          "execution_count": 5
        }
      ]
    },
    {
      "cell_type": "code",
      "source": [
        "# Information about the dataset\n",
        "data.info()"
      ],
      "metadata": {
        "colab": {
          "base_uri": "https://localhost:8080/"
        },
        "id": "05vlyEghwK7F",
        "outputId": "fe151d2f-1484-4d8e-c94b-6cb2779aefe9"
      },
      "execution_count": 6,
      "outputs": [
        {
          "output_type": "stream",
          "name": "stdout",
          "text": [
            "<class 'pandas.core.frame.DataFrame'>\n",
            "RangeIndex: 96011 entries, 0 to 96010\n",
            "Data columns (total 14 columns):\n",
            " #   Column         Non-Null Count  Dtype  \n",
            "---  ------         --------------  -----  \n",
            " 0   domain         96007 non-null  object \n",
            " 1   ranking        95955 non-null  object \n",
            " 2   mld_res        95937 non-null  object \n",
            " 3   mld.ps_res     95926 non-null  object \n",
            " 4   card_rem       95925 non-null  float64\n",
            " 5   ratio_Rrem     95925 non-null  float64\n",
            " 6   ratio_Arem     95925 non-null  float64\n",
            " 7   jaccard_RR     95924 non-null  float64\n",
            " 8   jaccard_RA     95923 non-null  float64\n",
            " 9   jaccard_AR     95922 non-null  float64\n",
            " 10  jaccard_AA     95921 non-null  float64\n",
            " 11  jaccard_ARrd   95921 non-null  object \n",
            " 12  jaccard_ARrem  95919 non-null  object \n",
            " 13  label          95915 non-null  object \n",
            "dtypes: float64(7), object(7)\n",
            "memory usage: 10.3+ MB\n"
          ]
        }
      ]
    },
    {
      "cell_type": "code",
      "source": [
        "# Checking the shape of the dataset\n",
        "data.shape"
      ],
      "metadata": {
        "colab": {
          "base_uri": "https://localhost:8080/"
        },
        "id": "uINnVhWIwSnY",
        "outputId": "157bf7cf-d9b4-42cb-949d-cf15f19c5f7d"
      },
      "execution_count": 7,
      "outputs": [
        {
          "output_type": "execute_result",
          "data": {
            "text/plain": [
              "(96011, 14)"
            ]
          },
          "metadata": {},
          "execution_count": 7
        }
      ]
    },
    {
      "cell_type": "code",
      "source": [
        "# Check the columns of the dataset\n",
        "data.columns"
      ],
      "metadata": {
        "colab": {
          "base_uri": "https://localhost:8080/"
        },
        "id": "zqbSFkN1Dg1h",
        "outputId": "483144e5-3ef3-410a-e1e4-bf309d6215ed"
      },
      "execution_count": 8,
      "outputs": [
        {
          "output_type": "execute_result",
          "data": {
            "text/plain": [
              "Index(['domain', 'ranking', 'mld_res', 'mld.ps_res', 'card_rem', 'ratio_Rrem',\n",
              "       'ratio_Arem', 'jaccard_RR', 'jaccard_RA', 'jaccard_AR', 'jaccard_AA',\n",
              "       'jaccard_ARrd', 'jaccard_ARrem', 'label'],\n",
              "      dtype='object')"
            ]
          },
          "metadata": {},
          "execution_count": 8
        }
      ]
    },
    {
      "cell_type": "markdown",
      "source": [
        "# EDA"
      ],
      "metadata": {
        "id": "17pmacTvzL_S"
      }
    },
    {
      "cell_type": "code",
      "source": [
        "# show how many null values are there in each column of the dataset\n",
        "data.isnull().sum()"
      ],
      "metadata": {
        "colab": {
          "base_uri": "https://localhost:8080/"
        },
        "id": "VvdImAaYzM_B",
        "outputId": "f082208f-cbde-438c-9b1b-1371fa66aee4"
      },
      "execution_count": 9,
      "outputs": [
        {
          "output_type": "execute_result",
          "data": {
            "text/plain": [
              "domain            4\n",
              "ranking          56\n",
              "mld_res          74\n",
              "mld.ps_res       85\n",
              "card_rem         86\n",
              "ratio_Rrem       86\n",
              "ratio_Arem       86\n",
              "jaccard_RR       87\n",
              "jaccard_RA       88\n",
              "jaccard_AR       89\n",
              "jaccard_AA       90\n",
              "jaccard_ARrd     90\n",
              "jaccard_ARrem    92\n",
              "label            96\n",
              "dtype: int64"
            ]
          },
          "metadata": {},
          "execution_count": 9
        }
      ]
    },
    {
      "cell_type": "code",
      "source": [
        "# Visualize the missing values using a heatmap\n",
        "import seaborn as sns\n",
        "sns.heatmap(data.isnull(), cbar=True, yticklabels=False, cmap='coolwarm')"
      ],
      "metadata": {
        "colab": {
          "base_uri": "https://localhost:8080/",
          "height": 543
        },
        "id": "fwmBUFgvzUDJ",
        "outputId": "20d2c327-86b3-412f-8764-4a2a4c0718fb"
      },
      "execution_count": 10,
      "outputs": [
        {
          "output_type": "execute_result",
          "data": {
            "text/plain": [
              "<Axes: >"
            ]
          },
          "metadata": {},
          "execution_count": 10
        },
        {
          "output_type": "display_data",
          "data": {
            "text/plain": [
              "<Figure size 640x480 with 2 Axes>"
            ],
            "image/png": "[encoded data removed]"
          },
          "metadata": {}
        }
      ]
    },
    {
      "cell_type": "code",
      "source": [
        "# Drop missing data\n",
        "data = data.dropna()"
      ],
      "metadata": {
        "id": "qLhRPLlfzdWc"
      },
      "execution_count": 11,
      "outputs": []
    },
    {
      "cell_type": "code",
      "source": [
        "# Check missing data\n",
        "data.isnull().sum()"
      ],
      "metadata": {
        "colab": {
          "base_uri": "https://localhost:8080/"
        },
        "id": "of6CptQjzh6H",
        "outputId": "b93d8296-1745-4653-fefb-3c3906a5be87"
      },
      "execution_count": 12,
      "outputs": [
        {
          "output_type": "execute_result",
          "data": {
            "text/plain": [
              "domain           0\n",
              "ranking          0\n",
              "mld_res          0\n",
              "mld.ps_res       0\n",
              "card_rem         0\n",
              "ratio_Rrem       0\n",
              "ratio_Arem       0\n",
              "jaccard_RR       0\n",
              "jaccard_RA       0\n",
              "jaccard_AR       0\n",
              "jaccard_AA       0\n",
              "jaccard_ARrd     0\n",
              "jaccard_ARrem    0\n",
              "label            0\n",
              "dtype: int64"
            ]
          },
          "metadata": {},
          "execution_count": 12
        }
      ]
    },
    {
      "cell_type": "code",
      "source": [
        "# Dropping the domain column\n",
        "data = data.drop('domain', axis=1)"
      ],
      "metadata": {
        "id": "6tYP1RKx0rPX"
      },
      "execution_count": 13,
      "outputs": []
    },
    {
      "cell_type": "code",
      "source": [
        "data.info()"
      ],
      "metadata": {
        "colab": {
          "base_uri": "https://localhost:8080/"
        },
        "id": "xy9h2SLJMPWW",
        "outputId": "80b47207-a0ca-46fc-ce60-86b021d33a33"
      },
      "execution_count": 14,
      "outputs": [
        {
          "output_type": "stream",
          "name": "stdout",
          "text": [
            "<class 'pandas.core.frame.DataFrame'>\n",
            "Index: 95915 entries, 0 to 96010\n",
            "Data columns (total 13 columns):\n",
            " #   Column         Non-Null Count  Dtype  \n",
            "---  ------         --------------  -----  \n",
            " 0   ranking        95915 non-null  object \n",
            " 1   mld_res        95915 non-null  object \n",
            " 2   mld.ps_res     95915 non-null  object \n",
            " 3   card_rem       95915 non-null  float64\n",
            " 4   ratio_Rrem     95915 non-null  float64\n",
            " 5   ratio_Arem     95915 non-null  float64\n",
            " 6   jaccard_RR     95915 non-null  float64\n",
            " 7   jaccard_RA     95915 non-null  float64\n",
            " 8   jaccard_AR     95915 non-null  float64\n",
            " 9   jaccard_AA     95915 non-null  float64\n",
            " 10  jaccard_ARrd   95915 non-null  object \n",
            " 11  jaccard_ARrem  95915 non-null  object \n",
            " 12  label          95915 non-null  object \n",
            "dtypes: float64(7), object(6)\n",
            "memory usage: 10.2+ MB\n"
          ]
        }
      ]
    },
    {
      "cell_type": "code",
      "source": [
        "# Convert 'label' column to numeric data type\n",
        "data['label'] = pd.to_numeric(data['label'], errors='coerce')"
      ],
      "metadata": {
        "id": "HIQOuFG6znb6"
      },
      "execution_count": 15,
      "outputs": []
    },
    {
      "cell_type": "code",
      "source": [
        "# Check the data type of all the columns\n",
        "data.dtypes"
      ],
      "metadata": {
        "colab": {
          "base_uri": "https://localhost:8080/"
        },
        "id": "GcKCOi3BJt2v",
        "outputId": "66a08ca0-b962-44fb-ec8d-eea1922836b7"
      },
      "execution_count": 16,
      "outputs": [
        {
          "output_type": "execute_result",
          "data": {
            "text/plain": [
              "ranking           object\n",
              "mld_res           object\n",
              "mld.ps_res        object\n",
              "card_rem         float64\n",
              "ratio_Rrem       float64\n",
              "ratio_Arem       float64\n",
              "jaccard_RR       float64\n",
              "jaccard_RA       float64\n",
              "jaccard_AR       float64\n",
              "jaccard_AA       float64\n",
              "jaccard_ARrd      object\n",
              "jaccard_ARrem     object\n",
              "label            float64\n",
              "dtype: object"
            ]
          },
          "metadata": {},
          "execution_count": 16
        }
      ]
    },
    {
      "cell_type": "code",
      "source": [
        "# Check the values of the column 'label'\n",
        "data['label'].unique()"
      ],
      "metadata": {
        "colab": {
          "base_uri": "https://localhost:8080/"
        },
        "id": "aZpV_OnNFIQF",
        "outputId": "9f3a59a7-d655-4a69-fa1d-9f4c09c21996"
      },
      "execution_count": 17,
      "outputs": [
        {
          "output_type": "execute_result",
          "data": {
            "text/plain": [
              "array([1.      ,      nan, 0.770083, 0.      ])"
            ]
          },
          "metadata": {},
          "execution_count": 17
        }
      ]
    },
    {
      "cell_type": "markdown",
      "source": [
        "I realised that the 'label' column does not have values as either 1 or 0 but rather consists of array of values."
      ],
      "metadata": {
        "id": "3sffO_Yt3pW8"
      }
    },
    {
      "cell_type": "code",
      "source": [
        "# Fill NaNs with a specific value\n",
        "data['label'].fillna(0, inplace=True)"
      ],
      "metadata": {
        "id": "qIFt5AR5NYcU"
      },
      "execution_count": 18,
      "outputs": []
    },
    {
      "cell_type": "code",
      "source": [
        "# Check the values of the column 'label'\n",
        "data['label'].unique()"
      ],
      "metadata": {
        "colab": {
          "base_uri": "https://localhost:8080/"
        },
        "id": "WGgHYhCKNYQ5",
        "outputId": "fb20af42-6340-4ab8-97d8-aaf4952ffcb0"
      },
      "execution_count": 19,
      "outputs": [
        {
          "output_type": "execute_result",
          "data": {
            "text/plain": [
              "array([1.      , 0.      , 0.770083])"
            ]
          },
          "metadata": {},
          "execution_count": 19
        }
      ]
    },
    {
      "cell_type": "code",
      "source": [
        "data.head()"
      ],
      "metadata": {
        "colab": {
          "base_uri": "https://localhost:8080/",
          "height": 206
        },
        "id": "uaesGoSgG48u",
        "outputId": "b5b3f1ad-f3c3-4dcd-8b88-07be7b305e40"
      },
      "execution_count": 20,
      "outputs": [
        {
          "output_type": "execute_result",
          "data": {
            "text/plain": [
              "    ranking mld_res mld.ps_res  card_rem  ratio_Rrem  ratio_Arem  jaccard_RR  \\\n",
              "0  10000000       1          0      18.0  107.611111  107.277778         0.0   \n",
              "1  10000000       0          0      11.0  150.636364  152.272727         0.0   \n",
              "2  10000000       0          0      14.0   73.500000   72.642857         0.0   \n",
              "3  10000000       0          0       6.0  562.000000  590.666667         0.0   \n",
              "4  10000000       0          0       8.0   29.000000   24.125000         0.0   \n",
              "\n",
              "   jaccard_RA  jaccard_AR  jaccard_AA jaccard_ARrd jaccard_ARrem  label  \n",
              "0         0.0         0.0         0.0          0.8      0.795729    1.0  \n",
              "1         0.0         0.0         0.0            0      0.768577    1.0  \n",
              "2         0.0         0.0         0.0            0      0.726582    1.0  \n",
              "3         0.0         0.0         0.0            0       0.85964    1.0  \n",
              "4         0.0         0.0         0.0            0      0.748971    1.0  "
            ],
            "text/html": [
              "\n",
              "  <div id=\"df-676ad6b3-24ae-4ea5-ba24-09668eec6ee3\" class=\"colab-df-container\">\n",
              "    <div>\n",
              "<style scoped>\n",
              "    .dataframe tbody tr th:only-of-type {\n",
              "        vertical-align: middle;\n",
              "    }\n",
              "\n",
              "    .dataframe tbody tr th {\n",
              "        vertical-align: top;\n",
              "    }\n",
              "\n",
              "    .dataframe thead th {\n",
              "        text-align: right;\n",
              "    }\n",
              "</style>\n",
              "<table border=\"1\" class=\"dataframe\">\n",
              "  <thead>\n",
              "    <tr style=\"text-align: right;\">\n",
              "      <th></th>\n",
              "      <th>ranking</th>\n",
              "      <th>mld_res</th>\n",
              "      <th>mld.ps_res</th>\n",
              "      <th>card_rem</th>\n",
              "      <th>ratio_Rrem</th>\n",
              "      <th>ratio_Arem</th>\n",
              "      <th>jaccard_RR</th>\n",
              "      <th>jaccard_RA</th>\n",
              "      <th>jaccard_AR</th>\n",
              "      <th>jaccard_AA</th>\n",
              "      <th>jaccard_ARrd</th>\n",
              "      <th>jaccard_ARrem</th>\n",
              "      <th>label</th>\n",
              "    </tr>\n",
              "  </thead>\n",
              "  <tbody>\n",
              "    <tr>\n",
              "      <th>0</th>\n",
              "      <td>10000000</td>\n",
              "      <td>1</td>\n",
              "      <td>0</td>\n",
              "      <td>18.0</td>\n",
              "      <td>107.611111</td>\n",
              "      <td>107.277778</td>\n",
              "      <td>0.0</td>\n",
              "      <td>0.0</td>\n",
              "      <td>0.0</td>\n",
              "      <td>0.0</td>\n",
              "      <td>0.8</td>\n",
              "      <td>0.795729</td>\n",
              "      <td>1.0</td>\n",
              "    </tr>\n",
              "    <tr>\n",
              "      <th>1</th>\n",
              "      <td>10000000</td>\n",
              "      <td>0</td>\n",
              "      <td>0</td>\n",
              "      <td>11.0</td>\n",
              "      <td>150.636364</td>\n",
              "      <td>152.272727</td>\n",
              "      <td>0.0</td>\n",
              "      <td>0.0</td>\n",
              "      <td>0.0</td>\n",
              "      <td>0.0</td>\n",
              "      <td>0</td>\n",
              "      <td>0.768577</td>\n",
              "      <td>1.0</td>\n",
              "    </tr>\n",
              "    <tr>\n",
              "      <th>2</th>\n",
              "      <td>10000000</td>\n",
              "      <td>0</td>\n",
              "      <td>0</td>\n",
              "      <td>14.0</td>\n",
              "      <td>73.500000</td>\n",
              "      <td>72.642857</td>\n",
              "      <td>0.0</td>\n",
              "      <td>0.0</td>\n",
              "      <td>0.0</td>\n",
              "      <td>0.0</td>\n",
              "      <td>0</td>\n",
              "      <td>0.726582</td>\n",
              "      <td>1.0</td>\n",
              "    </tr>\n",
              "    <tr>\n",
              "      <th>3</th>\n",
              "      <td>10000000</td>\n",
              "      <td>0</td>\n",
              "      <td>0</td>\n",
              "      <td>6.0</td>\n",
              "      <td>562.000000</td>\n",
              "      <td>590.666667</td>\n",
              "      <td>0.0</td>\n",
              "      <td>0.0</td>\n",
              "      <td>0.0</td>\n",
              "      <td>0.0</td>\n",
              "      <td>0</td>\n",
              "      <td>0.85964</td>\n",
              "      <td>1.0</td>\n",
              "    </tr>\n",
              "    <tr>\n",
              "      <th>4</th>\n",
              "      <td>10000000</td>\n",
              "      <td>0</td>\n",
              "      <td>0</td>\n",
              "      <td>8.0</td>\n",
              "      <td>29.000000</td>\n",
              "      <td>24.125000</td>\n",
              "      <td>0.0</td>\n",
              "      <td>0.0</td>\n",
              "      <td>0.0</td>\n",
              "      <td>0.0</td>\n",
              "      <td>0</td>\n",
              "      <td>0.748971</td>\n",
              "      <td>1.0</td>\n",
              "    </tr>\n",
              "  </tbody>\n",
              "</table>\n",
              "</div>\n",
              "    <div class=\"colab-df-buttons\">\n",
              "\n",
              "  <div class=\"colab-df-container\">\n",
              "    <button class=\"colab-df-convert\" onclick=\"convertToInteractive('df-676ad6b3-24ae-4ea5-ba24-09668eec6ee3')\"\n",
              "            title=\"Convert this dataframe to an interactive table.\"\n",
              "            style=\"display:none;\">\n",
              "\n",
              "  <svg xmlns=\"http://www.w3.org/2000/svg\" height=\"24px\" viewBox=\"0 -960 960 960\">\n",
              "    <path d=\"M120-120v-720h720v720H120Zm60-500h600v-160H180v160Zm220 220h160v-160H400v160Zm0 220h160v-160H400v160ZM180-400h160v-160H180v160Zm440 0h160v-160H620v160ZM180-180h160v-160H180v160Zm440 0h160v-160H620v160Z\"/>\n",
              "  </svg>\n",
              "    </button>\n",
              "\n",
              "  <style>\n",
              "    .colab-df-container {\n",
              "      display:flex;\n",
              "      gap: 12px;\n",
              "    }\n",
              "\n",
              "    .colab-df-convert {\n",
              "      background-color: #E8F0FE;\n",
              "      border: none;\n",
              "      border-radius: 50%;\n",
              "      cursor: pointer;\n",
              "      display: none;\n",
              "      fill: #1967D2;\n",
              "      height: 32px;\n",
              "      padding: 0 0 0 0;\n",
              "      width: 32px;\n",
              "    }\n",
              "\n",
              "    .colab-df-convert:hover {\n",
              "      background-color: #E2EBFA;\n",
              "      box-shadow: 0px 1px 2px rgba(60, 64, 67, 0.3), 0px 1px 3px 1px rgba(60, 64, 67, 0.15);\n",
              "      fill: #174EA6;\n",
              "    }\n",
              "\n",
              "    .colab-df-buttons div {\n",
              "      margin-bottom: 4px;\n",
              "    }\n",
              "\n",
              "    [theme=dark] .colab-df-convert {\n",
              "      background-color: #3B4455;\n",
              "      fill: #D2E3FC;\n",
              "    }\n",
              "\n",
              "    [theme=dark] .colab-df-convert:hover {\n",
              "      background-color: #434B5C;\n",
              "      box-shadow: 0px 1px 3px 1px rgba(0, 0, 0, 0.15);\n",
              "      filter: drop-shadow(0px 1px 2px rgba(0, 0, 0, 0.3));\n",
              "      fill: #FFFFFF;\n",
              "    }\n",
              "  </style>\n",
              "\n",
              "    <script>\n",
              "      const buttonEl =\n",
              "        document.querySelector('#df-676ad6b3-24ae-4ea5-ba24-09668eec6ee3 button.colab-df-convert');\n",
              "      buttonEl.style.display =\n",
              "        google.colab.kernel.accessAllowed ? 'block' : 'none';\n",
              "\n",
              "      async function convertToInteractive(key) {\n",
              "        const element = document.querySelector('#df-676ad6b3-24ae-4ea5-ba24-09668eec6ee3');\n",
              "        const dataTable =\n",
              "          await google.colab.kernel.invokeFunction('convertToInteractive',\n",
              "                                                    [key], {});\n",
              "        if (!dataTable) return;\n",
              "\n",
              "        const docLinkHtml = 'Like what you see? Visit the ' +\n",
              "          '<a target=\"_blank\" href=https://colab.research.google.com/notebooks/data_table.ipynb>data table notebook</a>'\n",
              "          + ' to learn more about interactive tables.';\n",
              "        element.innerHTML = '';\n",
              "        dataTable['output_type'] = 'display_data';\n",
              "        await google.colab.output.renderOutput(dataTable, element);\n",
              "        const docLink = document.createElement('div');\n",
              "        docLink.innerHTML = docLinkHtml;\n",
              "        element.appendChild(docLink);\n",
              "      }\n",
              "    </script>\n",
              "  </div>\n",
              "\n",
              "\n",
              "<div id=\"df-b4b7fa52-be33-49e5-85af-59d9e2c8b43e\">\n",
              "  <button class=\"colab-df-quickchart\" onclick=\"quickchart('df-b4b7fa52-be33-49e5-85af-59d9e2c8b43e')\"\n",
              "            title=\"Suggest charts\"\n",
              "            style=\"display:none;\">\n",
              "\n",
              "<svg xmlns=\"http://www.w3.org/2000/svg\" height=\"24px\"viewBox=\"0 0 24 24\"\n",
              "     width=\"24px\">\n",
              "    <g>\n",
              "        <path d=\"M19 3H5c-1.1 0-2 .9-2 2v14c0 1.1.9 2 2 2h14c1.1 0 2-.9 2-2V5c0-1.1-.9-2-2-2zM9 17H7v-7h2v7zm4 0h-2V7h2v10zm4 0h-2v-4h2v4z\"/>\n",
              "    </g>\n",
              "</svg>\n",
              "  </button>\n",
              "\n",
              "<style>\n",
              "  .colab-df-quickchart {\n",
              "      --bg-color: #E8F0FE;\n",
              "      --fill-color: #1967D2;\n",
              "      --hover-bg-color: #E2EBFA;\n",
              "      --hover-fill-color: #174EA6;\n",
              "      --disabled-fill-color: #AAA;\n",
              "      --disabled-bg-color: #DDD;\n",
              "  }\n",
              "\n",
              "  [theme=dark] .colab-df-quickchart {\n",
              "      --bg-color: #3B4455;\n",
              "      --fill-color: #D2E3FC;\n",
              "      --hover-bg-color: #434B5C;\n",
              "      --hover-fill-color: #FFFFFF;\n",
              "      --disabled-bg-color: #3B4455;\n",
              "      --disabled-fill-color: #666;\n",
              "  }\n",
              "\n",
              "  .colab-df-quickchart {\n",
              "    background-color: var(--bg-color);\n",
              "    border: none;\n",
              "    border-radius: 50%;\n",
              "    cursor: pointer;\n",
              "    display: none;\n",
              "    fill: var(--fill-color);\n",
              "    height: 32px;\n",
              "    padding: 0;\n",
              "    width: 32px;\n",
              "  }\n",
              "\n",
              "  .colab-df-quickchart:hover {\n",
              "    background-color: var(--hover-bg-color);\n",
              "    box-shadow: 0 1px 2px rgba(60, 64, 67, 0.3), 0 1px 3px 1px rgba(60, 64, 67, 0.15);\n",
              "    fill: var(--button-hover-fill-color);\n",
              "  }\n",
              "\n",
              "  .colab-df-quickchart-complete:disabled,\n",
              "  .colab-df-quickchart-complete:disabled:hover {\n",
              "    background-color: var(--disabled-bg-color);\n",
              "    fill: var(--disabled-fill-color);\n",
              "    box-shadow: none;\n",
              "  }\n",
              "\n",
              "  .colab-df-spinner {\n",
              "    border: 2px solid var(--fill-color);\n",
              "    border-color: transparent;\n",
              "    border-bottom-color: var(--fill-color);\n",
              "    animation:\n",
              "      spin 1s steps(1) infinite;\n",
              "  }\n",
              "\n",
              "  @keyframes spin {\n",
              "    0% {\n",
              "      border-color: transparent;\n",
              "      border-bottom-color: var(--fill-color);\n",
              "      border-left-color: var(--fill-color);\n",
              "    }\n",
              "    20% {\n",
              "      border-color: transparent;\n",
              "      border-left-color: var(--fill-color);\n",
              "      border-top-color: var(--fill-color);\n",
              "    }\n",
              "    30% {\n",
              "      border-color: transparent;\n",
              "      border-left-color: var(--fill-color);\n",
              "      border-top-color: var(--fill-color);\n",
              "      border-right-color: var(--fill-color);\n",
              "    }\n",
              "    40% {\n",
              "      border-color: transparent;\n",
              "      border-right-color: var(--fill-color);\n",
              "      border-top-color: var(--fill-color);\n",
              "    }\n",
              "    60% {\n",
              "      border-color: transparent;\n",
              "      border-right-color: var(--fill-color);\n",
              "    }\n",
              "    80% {\n",
              "      border-color: transparent;\n",
              "      border-right-color: var(--fill-color);\n",
              "      border-bottom-color: var(--fill-color);\n",
              "    }\n",
              "    90% {\n",
              "      border-color: transparent;\n",
              "      border-bottom-color: var(--fill-color);\n",
              "    }\n",
              "  }\n",
              "</style>\n",
              "\n",
              "  <script>\n",
              "    async function quickchart(key) {\n",
              "      const quickchartButtonEl =\n",
              "        document.querySelector('#' + key + ' button');\n",
              "      quickchartButtonEl.disabled = true;  // To prevent multiple clicks.\n",
              "      quickchartButtonEl.classList.add('colab-df-spinner');\n",
              "      try {\n",
              "        const charts = await google.colab.kernel.invokeFunction(\n",
              "            'suggestCharts', [key], {});\n",
              "      } catch (error) {\n",
              "        console.error('Error during call to suggestCharts:', error);\n",
              "      }\n",
              "      quickchartButtonEl.classList.remove('colab-df-spinner');\n",
              "      quickchartButtonEl.classList.add('colab-df-quickchart-complete');\n",
              "    }\n",
              "    (() => {\n",
              "      let quickchartButtonEl =\n",
              "        document.querySelector('#df-b4b7fa52-be33-49e5-85af-59d9e2c8b43e button');\n",
              "      quickchartButtonEl.style.display =\n",
              "        google.colab.kernel.accessAllowed ? 'block' : 'none';\n",
              "    })();\n",
              "  </script>\n",
              "</div>\n",
              "\n",
              "    </div>\n",
              "  </div>\n"
            ],
            "application/vnd.google.colaboratory.intrinsic+json": {
              "type": "dataframe",
              "variable_name": "data",
              "summary": "{\n  \"name\": \"data\",\n  \"rows\": 95915,\n  \"fields\": [\n    {\n      \"column\": \"ranking\",\n      \"properties\": {\n        \"dtype\": \"category\",\n        \"num_unique_values\": 8173,\n        \"samples\": [\n          \"632814\",\n          \"148322\",\n          \"151871\"\n        ],\n        \"semantic_type\": \"\",\n        \"description\": \"\"\n      }\n    },\n    {\n      \"column\": \"mld_res\",\n      \"properties\": {\n        \"dtype\": \"category\",\n        \"num_unique_values\": 5,\n        \"samples\": [\n          \"0\",\n          0,\n          \"10000000\"\n        ],\n        \"semantic_type\": \"\",\n        \"description\": \"\"\n      }\n    },\n    {\n      \"column\": \"mld.ps_res\",\n      \"properties\": {\n        \"dtype\": \"category\",\n        \"num_unique_values\": 4,\n        \"samples\": [\n          \"1\",\n          1,\n          \"0\"\n        ],\n        \"semantic_type\": \"\",\n        \"description\": \"\"\n      }\n    },\n    {\n      \"column\": \"card_rem\",\n      \"properties\": {\n        \"dtype\": \"number\",\n        \"std\": 4.343253762798517,\n        \"min\": 0.0,\n        \"max\": 58.0,\n        \"num_unique_values\": 49,\n        \"samples\": [\n          0.0,\n          38.0,\n          37.0\n        ],\n        \"semantic_type\": \"\",\n        \"description\": \"\"\n      }\n    },\n    {\n      \"column\": \"ratio_Rrem\",\n      \"properties\": {\n        \"dtype\": \"number\",\n        \"std\": 160.99240057444825,\n        \"min\": 0.0,\n        \"max\": 5507.0,\n        \"num_unique_values\": 10040,\n        \"samples\": [\n          155.909091,\n          123.25,\n          97.625\n        ],\n        \"semantic_type\": \"\",\n        \"description\": \"\"\n      }\n    },\n    {\n      \"column\": \"ratio_Arem\",\n      \"properties\": {\n        \"dtype\": \"number\",\n        \"std\": 175.48317300874302,\n        \"min\": 0.0,\n        \"max\": 6097.0,\n        \"num_unique_values\": 10230,\n        \"samples\": [\n          2030.0,\n          98.333333,\n          138.4\n        ],\n        \"semantic_type\": \"\",\n        \"description\": \"\"\n      }\n    },\n    {\n      \"column\": \"jaccard_RR\",\n      \"properties\": {\n        \"dtype\": \"number\",\n        \"std\": 0.7872197239177752,\n        \"min\": 0.0,\n        \"max\": 183.75,\n        \"num_unique_values\": 5446,\n        \"samples\": [\n          0.01809,\n          0.015554,\n          0.001821\n        ],\n        \"semantic_type\": \"\",\n        \"description\": \"\"\n      }\n    },\n    {\n      \"column\": \"jaccard_RA\",\n      \"properties\": {\n        \"dtype\": \"number\",\n        \"std\": 0.025312581479027697,\n        \"min\": 0.0,\n        \"max\": 2.0,\n        \"num_unique_values\": 5626,\n        \"samples\": [\n          0.018006,\n          0.023622,\n          0.002045\n        ],\n        \"semantic_type\": \"\",\n        \"description\": \"\"\n      }\n    },\n    {\n      \"column\": \"jaccard_AR\",\n      \"properties\": {\n        \"dtype\": \"number\",\n        \"std\": 0.023794510474627485,\n        \"min\": 0.0,\n        \"max\": 1.0,\n        \"num_unique_values\": 5071,\n        \"samples\": [\n          0.002762,\n          0.071477,\n          0.001498\n        ],\n        \"semantic_type\": \"\",\n        \"description\": \"\"\n      }\n    },\n    {\n      \"column\": \"jaccard_AA\",\n      \"properties\": {\n        \"dtype\": \"number\",\n        \"std\": 0.02825939660636725,\n        \"min\": 0.0,\n        \"max\": 1.0,\n        \"num_unique_values\": 5311,\n        \"samples\": [\n          0.002167,\n          0.000598,\n          0.001771\n        ],\n        \"semantic_type\": \"\",\n        \"description\": \"\"\n      }\n    },\n    {\n      \"column\": \"jaccard_ARrd\",\n      \"properties\": {\n        \"dtype\": \"category\",\n        \"num_unique_values\": 1068,\n        \"samples\": [\n          0.717949,\n          \"0.166667\",\n          0.434783\n        ],\n        \"semantic_type\": \"\",\n        \"description\": \"\"\n      }\n    },\n    {\n      \"column\": \"jaccard_ARrem\",\n      \"properties\": {\n        \"dtype\": \"category\",\n        \"num_unique_values\": 30747,\n        \"samples\": [\n          \"0.885068\",\n          0.777448,\n          \"0.723881\"\n        ],\n        \"semantic_type\": \"\",\n        \"description\": \"\"\n      }\n    },\n    {\n      \"column\": \"label\",\n      \"properties\": {\n        \"dtype\": \"number\",\n        \"std\": 0.5000004582874227,\n        \"min\": 0.0,\n        \"max\": 1.0,\n        \"num_unique_values\": 3,\n        \"samples\": [\n          1.0,\n          0.0,\n          0.770083\n        ],\n        \"semantic_type\": \"\",\n        \"description\": \"\"\n      }\n    }\n  ]\n}"
            }
          },
          "metadata": {},
          "execution_count": 20
        }
      ]
    },
    {
      "cell_type": "code",
      "source": [
        "data.tail()"
      ],
      "metadata": {
        "colab": {
          "base_uri": "https://localhost:8080/",
          "height": 206
        },
        "id": "MykYNUZiG8fE",
        "outputId": "86abe9d7-5497-405d-f6bd-f02e4f85a841"
      },
      "execution_count": 21,
      "outputs": [
        {
          "output_type": "execute_result",
          "data": {
            "text/plain": [
              "      ranking mld_res mld.ps_res  card_rem  ratio_Rrem  ratio_Arem  \\\n",
              "96006     339       1          1       2.0       142.5  141.000000   \n",
              "96007   63029       1          0       3.0       114.0  128.333333   \n",
              "96008     753       1          1       3.0        91.0  101.333333   \n",
              "96009       6       1          1       4.0       682.0  744.250000   \n",
              "96010    2547       1          1       5.0        32.4   27.200000   \n",
              "\n",
              "       jaccard_RR  jaccard_RA  jaccard_AR  jaccard_AA jaccard_ARrd  \\\n",
              "96006    0.009009    0.009091    0.006536    0.006601      0.45098   \n",
              "96007    0.002899    0.002577    0.002907    0.002584         0.75   \n",
              "96008    0.000000    0.003106    0.000000    0.000000     0.111111   \n",
              "96009    0.033075    0.029412    0.030250    0.029145     0.809735   \n",
              "96010    0.022222    0.032680    0.017341    0.020408     0.636364   \n",
              "\n",
              "      jaccard_ARrem  label  \n",
              "96006      0.846906    0.0  \n",
              "96007      0.714623    0.0  \n",
              "96008      0.648571    0.0  \n",
              "96009      0.840323    0.0  \n",
              "96010      0.674157    0.0  "
            ],
            "text/html": [
              "\n",
              "  <div id=\"df-6d61ef82-94c7-42a8-b002-b610e38f32f3\" class=\"colab-df-container\">\n",
              "    <div>\n",
              "<style scoped>\n",
              "    .dataframe tbody tr th:only-of-type {\n",
              "        vertical-align: middle;\n",
              "    }\n",
              "\n",
              "    .dataframe tbody tr th {\n",
              "        vertical-align: top;\n",
              "    }\n",
              "\n",
              "    .dataframe thead th {\n",
              "        text-align: right;\n",
              "    }\n",
              "</style>\n",
              "<table border=\"1\" class=\"dataframe\">\n",
              "  <thead>\n",
              "    <tr style=\"text-align: right;\">\n",
              "      <th></th>\n",
              "      <th>ranking</th>\n",
              "      <th>mld_res</th>\n",
              "      <th>mld.ps_res</th>\n",
              "      <th>card_rem</th>\n",
              "      <th>ratio_Rrem</th>\n",
              "      <th>ratio_Arem</th>\n",
              "      <th>jaccard_RR</th>\n",
              "      <th>jaccard_RA</th>\n",
              "      <th>jaccard_AR</th>\n",
              "      <th>jaccard_AA</th>\n",
              "      <th>jaccard_ARrd</th>\n",
              "      <th>jaccard_ARrem</th>\n",
              "      <th>label</th>\n",
              "    </tr>\n",
              "  </thead>\n",
              "  <tbody>\n",
              "    <tr>\n",
              "      <th>96006</th>\n",
              "      <td>339</td>\n",
              "      <td>1</td>\n",
              "      <td>1</td>\n",
              "      <td>2.0</td>\n",
              "      <td>142.5</td>\n",
              "      <td>141.000000</td>\n",
              "      <td>0.009009</td>\n",
              "      <td>0.009091</td>\n",
              "      <td>0.006536</td>\n",
              "      <td>0.006601</td>\n",
              "      <td>0.45098</td>\n",
              "      <td>0.846906</td>\n",
              "      <td>0.0</td>\n",
              "    </tr>\n",
              "    <tr>\n",
              "      <th>96007</th>\n",
              "      <td>63029</td>\n",
              "      <td>1</td>\n",
              "      <td>0</td>\n",
              "      <td>3.0</td>\n",
              "      <td>114.0</td>\n",
              "      <td>128.333333</td>\n",
              "      <td>0.002899</td>\n",
              "      <td>0.002577</td>\n",
              "      <td>0.002907</td>\n",
              "      <td>0.002584</td>\n",
              "      <td>0.75</td>\n",
              "      <td>0.714623</td>\n",
              "      <td>0.0</td>\n",
              "    </tr>\n",
              "    <tr>\n",
              "      <th>96008</th>\n",
              "      <td>753</td>\n",
              "      <td>1</td>\n",
              "      <td>1</td>\n",
              "      <td>3.0</td>\n",
              "      <td>91.0</td>\n",
              "      <td>101.333333</td>\n",
              "      <td>0.000000</td>\n",
              "      <td>0.003106</td>\n",
              "      <td>0.000000</td>\n",
              "      <td>0.000000</td>\n",
              "      <td>0.111111</td>\n",
              "      <td>0.648571</td>\n",
              "      <td>0.0</td>\n",
              "    </tr>\n",
              "    <tr>\n",
              "      <th>96009</th>\n",
              "      <td>6</td>\n",
              "      <td>1</td>\n",
              "      <td>1</td>\n",
              "      <td>4.0</td>\n",
              "      <td>682.0</td>\n",
              "      <td>744.250000</td>\n",
              "      <td>0.033075</td>\n",
              "      <td>0.029412</td>\n",
              "      <td>0.030250</td>\n",
              "      <td>0.029145</td>\n",
              "      <td>0.809735</td>\n",
              "      <td>0.840323</td>\n",
              "      <td>0.0</td>\n",
              "    </tr>\n",
              "    <tr>\n",
              "      <th>96010</th>\n",
              "      <td>2547</td>\n",
              "      <td>1</td>\n",
              "      <td>1</td>\n",
              "      <td>5.0</td>\n",
              "      <td>32.4</td>\n",
              "      <td>27.200000</td>\n",
              "      <td>0.022222</td>\n",
              "      <td>0.032680</td>\n",
              "      <td>0.017341</td>\n",
              "      <td>0.020408</td>\n",
              "      <td>0.636364</td>\n",
              "      <td>0.674157</td>\n",
              "      <td>0.0</td>\n",
              "    </tr>\n",
              "  </tbody>\n",
              "</table>\n",
              "</div>\n",
              "    <div class=\"colab-df-buttons\">\n",
              "\n",
              "  <div class=\"colab-df-container\">\n",
              "    <button class=\"colab-df-convert\" onclick=\"convertToInteractive('df-6d61ef82-94c7-42a8-b002-b610e38f32f3')\"\n",
              "            title=\"Convert this dataframe to an interactive table.\"\n",
              "            style=\"display:none;\">\n",
              "\n",
              "  <svg xmlns=\"http://www.w3.org/2000/svg\" height=\"24px\" viewBox=\"0 -960 960 960\">\n",
              "    <path d=\"M120-120v-720h720v720H120Zm60-500h600v-160H180v160Zm220 220h160v-160H400v160Zm0 220h160v-160H400v160ZM180-400h160v-160H180v160Zm440 0h160v-160H620v160ZM180-180h160v-160H180v160Zm440 0h160v-160H620v160Z\"/>\n",
              "  </svg>\n",
              "    </button>\n",
              "\n",
              "  <style>\n",
              "    .colab-df-container {\n",
              "      display:flex;\n",
              "      gap: 12px;\n",
              "    }\n",
              "\n",
              "    .colab-df-convert {\n",
              "      background-color: #E8F0FE;\n",
              "      border: none;\n",
              "      border-radius: 50%;\n",
              "      cursor: pointer;\n",
              "      display: none;\n",
              "      fill: #1967D2;\n",
              "      height: 32px;\n",
              "      padding: 0 0 0 0;\n",
              "      width: 32px;\n",
              "    }\n",
              "\n",
              "    .colab-df-convert:hover {\n",
              "      background-color: #E2EBFA;\n",
              "      box-shadow: 0px 1px 2px rgba(60, 64, 67, 0.3), 0px 1px 3px 1px rgba(60, 64, 67, 0.15);\n",
              "      fill: #174EA6;\n",
              "    }\n",
              "\n",
              "    .colab-df-buttons div {\n",
              "      margin-bottom: 4px;\n",
              "    }\n",
              "\n",
              "    [theme=dark] .colab-df-convert {\n",
              "      background-color: #3B4455;\n",
              "      fill: #D2E3FC;\n",
              "    }\n",
              "\n",
              "    [theme=dark] .colab-df-convert:hover {\n",
              "      background-color: #434B5C;\n",
              "      box-shadow: 0px 1px 3px 1px rgba(0, 0, 0, 0.15);\n",
              "      filter: drop-shadow(0px 1px 2px rgba(0, 0, 0, 0.3));\n",
              "      fill: #FFFFFF;\n",
              "    }\n",
              "  </style>\n",
              "\n",
              "    <script>\n",
              "      const buttonEl =\n",
              "        document.querySelector('#df-6d61ef82-94c7-42a8-b002-b610e38f32f3 button.colab-df-convert');\n",
              "      buttonEl.style.display =\n",
              "        google.colab.kernel.accessAllowed ? 'block' : 'none';\n",
              "\n",
              "      async function convertToInteractive(key) {\n",
              "        const element = document.querySelector('#df-6d61ef82-94c7-42a8-b002-b610e38f32f3');\n",
              "        const dataTable =\n",
              "          await google.colab.kernel.invokeFunction('convertToInteractive',\n",
              "                                                    [key], {});\n",
              "        if (!dataTable) return;\n",
              "\n",
              "        const docLinkHtml = 'Like what you see? Visit the ' +\n",
              "          '<a target=\"_blank\" href=https://colab.research.google.com/notebooks/data_table.ipynb>data table notebook</a>'\n",
              "          + ' to learn more about interactive tables.';\n",
              "        element.innerHTML = '';\n",
              "        dataTable['output_type'] = 'display_data';\n",
              "        await google.colab.output.renderOutput(dataTable, element);\n",
              "        const docLink = document.createElement('div');\n",
              "        docLink.innerHTML = docLinkHtml;\n",
              "        element.appendChild(docLink);\n",
              "      }\n",
              "    </script>\n",
              "  </div>\n",
              "\n",
              "\n",
              "<div id=\"df-004e02d5-7970-44e4-96fa-b4083bb525ba\">\n",
              "  <button class=\"colab-df-quickchart\" onclick=\"quickchart('df-004e02d5-7970-44e4-96fa-b4083bb525ba')\"\n",
              "            title=\"Suggest charts\"\n",
              "            style=\"display:none;\">\n",
              "\n",
              "<svg xmlns=\"http://www.w3.org/2000/svg\" height=\"24px\"viewBox=\"0 0 24 24\"\n",
              "     width=\"24px\">\n",
              "    <g>\n",
              "        <path d=\"M19 3H5c-1.1 0-2 .9-2 2v14c0 1.1.9 2 2 2h14c1.1 0 2-.9 2-2V5c0-1.1-.9-2-2-2zM9 17H7v-7h2v7zm4 0h-2V7h2v10zm4 0h-2v-4h2v4z\"/>\n",
              "    </g>\n",
              "</svg>\n",
              "  </button>\n",
              "\n",
              "<style>\n",
              "  .colab-df-quickchart {\n",
              "      --bg-color: #E8F0FE;\n",
              "      --fill-color: #1967D2;\n",
              "      --hover-bg-color: #E2EBFA;\n",
              "      --hover-fill-color: #174EA6;\n",
              "      --disabled-fill-color: #AAA;\n",
              "      --disabled-bg-color: #DDD;\n",
              "  }\n",
              "\n",
              "  [theme=dark] .colab-df-quickchart {\n",
              "      --bg-color: #3B4455;\n",
              "      --fill-color: #D2E3FC;\n",
              "      --hover-bg-color: #434B5C;\n",
              "      --hover-fill-color: #FFFFFF;\n",
              "      --disabled-bg-color: #3B4455;\n",
              "      --disabled-fill-color: #666;\n",
              "  }\n",
              "\n",
              "  .colab-df-quickchart {\n",
              "    background-color: var(--bg-color);\n",
              "    border: none;\n",
              "    border-radius: 50%;\n",
              "    cursor: pointer;\n",
              "    display: none;\n",
              "    fill: var(--fill-color);\n",
              "    height: 32px;\n",
              "    padding: 0;\n",
              "    width: 32px;\n",
              "  }\n",
              "\n",
              "  .colab-df-quickchart:hover {\n",
              "    background-color: var(--hover-bg-color);\n",
              "    box-shadow: 0 1px 2px rgba(60, 64, 67, 0.3), 0 1px 3px 1px rgba(60, 64, 67, 0.15);\n",
              "    fill: var(--button-hover-fill-color);\n",
              "  }\n",
              "\n",
              "  .colab-df-quickchart-complete:disabled,\n",
              "  .colab-df-quickchart-complete:disabled:hover {\n",
              "    background-color: var(--disabled-bg-color);\n",
              "    fill: var(--disabled-fill-color);\n",
              "    box-shadow: none;\n",
              "  }\n",
              "\n",
              "  .colab-df-spinner {\n",
              "    border: 2px solid var(--fill-color);\n",
              "    border-color: transparent;\n",
              "    border-bottom-color: var(--fill-color);\n",
              "    animation:\n",
              "      spin 1s steps(1) infinite;\n",
              "  }\n",
              "\n",
              "  @keyframes spin {\n",
              "    0% {\n",
              "      border-color: transparent;\n",
              "      border-bottom-color: var(--fill-color);\n",
              "      border-left-color: var(--fill-color);\n",
              "    }\n",
              "    20% {\n",
              "      border-color: transparent;\n",
              "      border-left-color: var(--fill-color);\n",
              "      border-top-color: var(--fill-color);\n",
              "    }\n",
              "    30% {\n",
              "      border-color: transparent;\n",
              "      border-left-color: var(--fill-color);\n",
              "      border-top-color: var(--fill-color);\n",
              "      border-right-color: var(--fill-color);\n",
              "    }\n",
              "    40% {\n",
              "      border-color: transparent;\n",
              "      border-right-color: var(--fill-color);\n",
              "      border-top-color: var(--fill-color);\n",
              "    }\n",
              "    60% {\n",
              "      border-color: transparent;\n",
              "      border-right-color: var(--fill-color);\n",
              "    }\n",
              "    80% {\n",
              "      border-color: transparent;\n",
              "      border-right-color: var(--fill-color);\n",
              "      border-bottom-color: var(--fill-color);\n",
              "    }\n",
              "    90% {\n",
              "      border-color: transparent;\n",
              "      border-bottom-color: var(--fill-color);\n",
              "    }\n",
              "  }\n",
              "</style>\n",
              "\n",
              "  <script>\n",
              "    async function quickchart(key) {\n",
              "      const quickchartButtonEl =\n",
              "        document.querySelector('#' + key + ' button');\n",
              "      quickchartButtonEl.disabled = true;  // To prevent multiple clicks.\n",
              "      quickchartButtonEl.classList.add('colab-df-spinner');\n",
              "      try {\n",
              "        const charts = await google.colab.kernel.invokeFunction(\n",
              "            'suggestCharts', [key], {});\n",
              "      } catch (error) {\n",
              "        console.error('Error during call to suggestCharts:', error);\n",
              "      }\n",
              "      quickchartButtonEl.classList.remove('colab-df-spinner');\n",
              "      quickchartButtonEl.classList.add('colab-df-quickchart-complete');\n",
              "    }\n",
              "    (() => {\n",
              "      let quickchartButtonEl =\n",
              "        document.querySelector('#df-004e02d5-7970-44e4-96fa-b4083bb525ba button');\n",
              "      quickchartButtonEl.style.display =\n",
              "        google.colab.kernel.accessAllowed ? 'block' : 'none';\n",
              "    })();\n",
              "  </script>\n",
              "</div>\n",
              "\n",
              "    </div>\n",
              "  </div>\n"
            ],
            "application/vnd.google.colaboratory.intrinsic+json": {
              "type": "dataframe",
              "repr_error": "0"
            }
          },
          "metadata": {},
          "execution_count": 21
        }
      ]
    },
    {
      "cell_type": "code",
      "source": [
        "# Count the occurences of each unique value in the column 'label'\n",
        "data['label'].value_counts()"
      ],
      "metadata": {
        "colab": {
          "base_uri": "https://localhost:8080/"
        },
        "id": "notesdH4H4YS",
        "outputId": "f0b10a0a-5d39-4d0a-dc1a-fca2239a25f9"
      },
      "execution_count": 22,
      "outputs": [
        {
          "output_type": "execute_result",
          "data": {
            "text/plain": [
              "label\n",
              "0.000000    48010\n",
              "1.000000    47904\n",
              "0.770083        1\n",
              "Name: count, dtype: int64"
            ]
          },
          "metadata": {},
          "execution_count": 22
        }
      ]
    },
    {
      "cell_type": "code",
      "source": [
        "# Remove numbers after the decimal point and keep only whole numbers in the 'label column\n",
        "# data['label'] = data['label'].astype(int)"
      ],
      "metadata": {
        "id": "XnOmJIEIPIGi"
      },
      "execution_count": 23,
      "outputs": []
    },
    {
      "cell_type": "code",
      "source": [
        "# Count the occurences of each unique value in the column 'label'\n",
        "data['label'].value_counts()"
      ],
      "metadata": {
        "colab": {
          "base_uri": "https://localhost:8080/"
        },
        "id": "8UjCCLi1PSgk",
        "outputId": "bdcfb692-1b03-4cee-f2e4-0a31e619a507"
      },
      "execution_count": 24,
      "outputs": [
        {
          "output_type": "execute_result",
          "data": {
            "text/plain": [
              "label\n",
              "0.000000    48010\n",
              "1.000000    47904\n",
              "0.770083        1\n",
              "Name: count, dtype: int64"
            ]
          },
          "metadata": {},
          "execution_count": 24
        }
      ]
    },
    {
      "cell_type": "code",
      "source": [
        "# shuffling the rows in the dataset so that when splitting the train and test\n",
        "# sets are equally distributed\n",
        "data = data.sample(frac=1).reset_index(drop=True)\n",
        "data.head()"
      ],
      "metadata": {
        "colab": {
          "base_uri": "https://localhost:8080/",
          "height": 206
        },
        "id": "WjHZvl3F2Sw6",
        "outputId": "09fc91c4-9c9a-43ef-a0fc-aa58d38a29b1"
      },
      "execution_count": 25,
      "outputs": [
        {
          "output_type": "execute_result",
          "data": {
            "text/plain": [
              "    ranking mld_res mld.ps_res  card_rem  ratio_Rrem  ratio_Arem  jaccard_RR  \\\n",
              "0  10000000       0          0       7.0   97.285714   98.285714    0.000000   \n",
              "1     44061       1          0       3.0  105.666667  107.333333    0.003135   \n",
              "2     14324       0          0       3.0  253.333333  267.000000    0.000000   \n",
              "3    359561       1          0       5.0  102.800000  105.600000    0.000000   \n",
              "4  10000000       0          0       4.0   37.750000   39.500000    0.000000   \n",
              "\n",
              "   jaccard_RA  jaccard_AR  jaccard_AA jaccard_ARrd jaccard_ARrem  label  \n",
              "0         0.0    0.000000         0.0            0       0.81565    1.0  \n",
              "1         0.0    0.003145         0.0     0.666667      0.794944    1.0  \n",
              "2         0.0    0.000000         0.0          0.0      0.880723    0.0  \n",
              "3         0.0    0.000000         0.0          0.5       0.79346    0.0  \n",
              "4         0.0    0.000000         0.0          0.0      0.601036    0.0  "
            ],
            "text/html": [
              "\n",
              "  <div id=\"df-1056b6f8-4652-4e0b-a68e-3a9c293aab33\" class=\"colab-df-container\">\n",
              "    <div>\n",
              "<style scoped>\n",
              "    .dataframe tbody tr th:only-of-type {\n",
              "        vertical-align: middle;\n",
              "    }\n",
              "\n",
              "    .dataframe tbody tr th {\n",
              "        vertical-align: top;\n",
              "    }\n",
              "\n",
              "    .dataframe thead th {\n",
              "        text-align: right;\n",
              "    }\n",
              "</style>\n",
              "<table border=\"1\" class=\"dataframe\">\n",
              "  <thead>\n",
              "    <tr style=\"text-align: right;\">\n",
              "      <th></th>\n",
              "      <th>ranking</th>\n",
              "      <th>mld_res</th>\n",
              "      <th>mld.ps_res</th>\n",
              "      <th>card_rem</th>\n",
              "      <th>ratio_Rrem</th>\n",
              "      <th>ratio_Arem</th>\n",
              "      <th>jaccard_RR</th>\n",
              "      <th>jaccard_RA</th>\n",
              "      <th>jaccard_AR</th>\n",
              "      <th>jaccard_AA</th>\n",
              "      <th>jaccard_ARrd</th>\n",
              "      <th>jaccard_ARrem</th>\n",
              "      <th>label</th>\n",
              "    </tr>\n",
              "  </thead>\n",
              "  <tbody>\n",
              "    <tr>\n",
              "      <th>0</th>\n",
              "      <td>10000000</td>\n",
              "      <td>0</td>\n",
              "      <td>0</td>\n",
              "      <td>7.0</td>\n",
              "      <td>97.285714</td>\n",
              "      <td>98.285714</td>\n",
              "      <td>0.000000</td>\n",
              "      <td>0.0</td>\n",
              "      <td>0.000000</td>\n",
              "      <td>0.0</td>\n",
              "      <td>0</td>\n",
              "      <td>0.81565</td>\n",
              "      <td>1.0</td>\n",
              "    </tr>\n",
              "    <tr>\n",
              "      <th>1</th>\n",
              "      <td>44061</td>\n",
              "      <td>1</td>\n",
              "      <td>0</td>\n",
              "      <td>3.0</td>\n",
              "      <td>105.666667</td>\n",
              "      <td>107.333333</td>\n",
              "      <td>0.003135</td>\n",
              "      <td>0.0</td>\n",
              "      <td>0.003145</td>\n",
              "      <td>0.0</td>\n",
              "      <td>0.666667</td>\n",
              "      <td>0.794944</td>\n",
              "      <td>1.0</td>\n",
              "    </tr>\n",
              "    <tr>\n",
              "      <th>2</th>\n",
              "      <td>14324</td>\n",
              "      <td>0</td>\n",
              "      <td>0</td>\n",
              "      <td>3.0</td>\n",
              "      <td>253.333333</td>\n",
              "      <td>267.000000</td>\n",
              "      <td>0.000000</td>\n",
              "      <td>0.0</td>\n",
              "      <td>0.000000</td>\n",
              "      <td>0.0</td>\n",
              "      <td>0.0</td>\n",
              "      <td>0.880723</td>\n",
              "      <td>0.0</td>\n",
              "    </tr>\n",
              "    <tr>\n",
              "      <th>3</th>\n",
              "      <td>359561</td>\n",
              "      <td>1</td>\n",
              "      <td>0</td>\n",
              "      <td>5.0</td>\n",
              "      <td>102.800000</td>\n",
              "      <td>105.600000</td>\n",
              "      <td>0.000000</td>\n",
              "      <td>0.0</td>\n",
              "      <td>0.000000</td>\n",
              "      <td>0.0</td>\n",
              "      <td>0.5</td>\n",
              "      <td>0.79346</td>\n",
              "      <td>0.0</td>\n",
              "    </tr>\n",
              "    <tr>\n",
              "      <th>4</th>\n",
              "      <td>10000000</td>\n",
              "      <td>0</td>\n",
              "      <td>0</td>\n",
              "      <td>4.0</td>\n",
              "      <td>37.750000</td>\n",
              "      <td>39.500000</td>\n",
              "      <td>0.000000</td>\n",
              "      <td>0.0</td>\n",
              "      <td>0.000000</td>\n",
              "      <td>0.0</td>\n",
              "      <td>0.0</td>\n",
              "      <td>0.601036</td>\n",
              "      <td>0.0</td>\n",
              "    </tr>\n",
              "  </tbody>\n",
              "</table>\n",
              "</div>\n",
              "    <div class=\"colab-df-buttons\">\n",
              "\n",
              "  <div class=\"colab-df-container\">\n",
              "    <button class=\"colab-df-convert\" onclick=\"convertToInteractive('df-1056b6f8-4652-4e0b-a68e-3a9c293aab33')\"\n",
              "            title=\"Convert this dataframe to an interactive table.\"\n",
              "            style=\"display:none;\">\n",
              "\n",
              "  <svg xmlns=\"http://www.w3.org/2000/svg\" height=\"24px\" viewBox=\"0 -960 960 960\">\n",
              "    <path d=\"M120-120v-720h720v720H120Zm60-500h600v-160H180v160Zm220 220h160v-160H400v160Zm0 220h160v-160H400v160ZM180-400h160v-160H180v160Zm440 0h160v-160H620v160ZM180-180h160v-160H180v160Zm440 0h160v-160H620v160Z\"/>\n",
              "  </svg>\n",
              "    </button>\n",
              "\n",
              "  <style>\n",
              "    .colab-df-container {\n",
              "      display:flex;\n",
              "      gap: 12px;\n",
              "    }\n",
              "\n",
              "    .colab-df-convert {\n",
              "      background-color: #E8F0FE;\n",
              "      border: none;\n",
              "      border-radius: 50%;\n",
              "      cursor: pointer;\n",
              "      display: none;\n",
              "      fill: #1967D2;\n",
              "      height: 32px;\n",
              "      padding: 0 0 0 0;\n",
              "      width: 32px;\n",
              "    }\n",
              "\n",
              "    .colab-df-convert:hover {\n",
              "      background-color: #E2EBFA;\n",
              "      box-shadow: 0px 1px 2px rgba(60, 64, 67, 0.3), 0px 1px 3px 1px rgba(60, 64, 67, 0.15);\n",
              "      fill: #174EA6;\n",
              "    }\n",
              "\n",
              "    .colab-df-buttons div {\n",
              "      margin-bottom: 4px;\n",
              "    }\n",
              "\n",
              "    [theme=dark] .colab-df-convert {\n",
              "      background-color: #3B4455;\n",
              "      fill: #D2E3FC;\n",
              "    }\n",
              "\n",
              "    [theme=dark] .colab-df-convert:hover {\n",
              "      background-color: #434B5C;\n",
              "      box-shadow: 0px 1px 3px 1px rgba(0, 0, 0, 0.15);\n",
              "      filter: drop-shadow(0px 1px 2px rgba(0, 0, 0, 0.3));\n",
              "      fill: #FFFFFF;\n",
              "    }\n",
              "  </style>\n",
              "\n",
              "    <script>\n",
              "      const buttonEl =\n",
              "        document.querySelector('#df-1056b6f8-4652-4e0b-a68e-3a9c293aab33 button.colab-df-convert');\n",
              "      buttonEl.style.display =\n",
              "        google.colab.kernel.accessAllowed ? 'block' : 'none';\n",
              "\n",
              "      async function convertToInteractive(key) {\n",
              "        const element = document.querySelector('#df-1056b6f8-4652-4e0b-a68e-3a9c293aab33');\n",
              "        const dataTable =\n",
              "          await google.colab.kernel.invokeFunction('convertToInteractive',\n",
              "                                                    [key], {});\n",
              "        if (!dataTable) return;\n",
              "\n",
              "        const docLinkHtml = 'Like what you see? Visit the ' +\n",
              "          '<a target=\"_blank\" href=https://colab.research.google.com/notebooks/data_table.ipynb>data table notebook</a>'\n",
              "          + ' to learn more about interactive tables.';\n",
              "        element.innerHTML = '';\n",
              "        dataTable['output_type'] = 'display_data';\n",
              "        await google.colab.output.renderOutput(dataTable, element);\n",
              "        const docLink = document.createElement('div');\n",
              "        docLink.innerHTML = docLinkHtml;\n",
              "        element.appendChild(docLink);\n",
              "      }\n",
              "    </script>\n",
              "  </div>\n",
              "\n",
              "\n",
              "<div id=\"df-8cc9a11b-38b0-483f-a0b8-892fa6ec5ac9\">\n",
              "  <button class=\"colab-df-quickchart\" onclick=\"quickchart('df-8cc9a11b-38b0-483f-a0b8-892fa6ec5ac9')\"\n",
              "            title=\"Suggest charts\"\n",
              "            style=\"display:none;\">\n",
              "\n",
              "<svg xmlns=\"http://www.w3.org/2000/svg\" height=\"24px\"viewBox=\"0 0 24 24\"\n",
              "     width=\"24px\">\n",
              "    <g>\n",
              "        <path d=\"M19 3H5c-1.1 0-2 .9-2 2v14c0 1.1.9 2 2 2h14c1.1 0 2-.9 2-2V5c0-1.1-.9-2-2-2zM9 17H7v-7h2v7zm4 0h-2V7h2v10zm4 0h-2v-4h2v4z\"/>\n",
              "    </g>\n",
              "</svg>\n",
              "  </button>\n",
              "\n",
              "<style>\n",
              "  .colab-df-quickchart {\n",
              "      --bg-color: #E8F0FE;\n",
              "      --fill-color: #1967D2;\n",
              "      --hover-bg-color: #E2EBFA;\n",
              "      --hover-fill-color: #174EA6;\n",
              "      --disabled-fill-color: #AAA;\n",
              "      --disabled-bg-color: #DDD;\n",
              "  }\n",
              "\n",
              "  [theme=dark] .colab-df-quickchart {\n",
              "      --bg-color: #3B4455;\n",
              "      --fill-color: #D2E3FC;\n",
              "      --hover-bg-color: #434B5C;\n",
              "      --hover-fill-color: #FFFFFF;\n",
              "      --disabled-bg-color: #3B4455;\n",
              "      --disabled-fill-color: #666;\n",
              "  }\n",
              "\n",
              "  .colab-df-quickchart {\n",
              "    background-color: var(--bg-color);\n",
              "    border: none;\n",
              "    border-radius: 50%;\n",
              "    cursor: pointer;\n",
              "    display: none;\n",
              "    fill: var(--fill-color);\n",
              "    height: 32px;\n",
              "    padding: 0;\n",
              "    width: 32px;\n",
              "  }\n",
              "\n",
              "  .colab-df-quickchart:hover {\n",
              "    background-color: var(--hover-bg-color);\n",
              "    box-shadow: 0 1px 2px rgba(60, 64, 67, 0.3), 0 1px 3px 1px rgba(60, 64, 67, 0.15);\n",
              "    fill: var(--button-hover-fill-color);\n",
              "  }\n",
              "\n",
              "  .colab-df-quickchart-complete:disabled,\n",
              "  .colab-df-quickchart-complete:disabled:hover {\n",
              "    background-color: var(--disabled-bg-color);\n",
              "    fill: var(--disabled-fill-color);\n",
              "    box-shadow: none;\n",
              "  }\n",
              "\n",
              "  .colab-df-spinner {\n",
              "    border: 2px solid var(--fill-color);\n",
              "    border-color: transparent;\n",
              "    border-bottom-color: var(--fill-color);\n",
              "    animation:\n",
              "      spin 1s steps(1) infinite;\n",
              "  }\n",
              "\n",
              "  @keyframes spin {\n",
              "    0% {\n",
              "      border-color: transparent;\n",
              "      border-bottom-color: var(--fill-color);\n",
              "      border-left-color: var(--fill-color);\n",
              "    }\n",
              "    20% {\n",
              "      border-color: transparent;\n",
              "      border-left-color: var(--fill-color);\n",
              "      border-top-color: var(--fill-color);\n",
              "    }\n",
              "    30% {\n",
              "      border-color: transparent;\n",
              "      border-left-color: var(--fill-color);\n",
              "      border-top-color: var(--fill-color);\n",
              "      border-right-color: var(--fill-color);\n",
              "    }\n",
              "    40% {\n",
              "      border-color: transparent;\n",
              "      border-right-color: var(--fill-color);\n",
              "      border-top-color: var(--fill-color);\n",
              "    }\n",
              "    60% {\n",
              "      border-color: transparent;\n",
              "      border-right-color: var(--fill-color);\n",
              "    }\n",
              "    80% {\n",
              "      border-color: transparent;\n",
              "      border-right-color: var(--fill-color);\n",
              "      border-bottom-color: var(--fill-color);\n",
              "    }\n",
              "    90% {\n",
              "      border-color: transparent;\n",
              "      border-bottom-color: var(--fill-color);\n",
              "    }\n",
              "  }\n",
              "</style>\n",
              "\n",
              "  <script>\n",
              "    async function quickchart(key) {\n",
              "      const quickchartButtonEl =\n",
              "        document.querySelector('#' + key + ' button');\n",
              "      quickchartButtonEl.disabled = true;  // To prevent multiple clicks.\n",
              "      quickchartButtonEl.classList.add('colab-df-spinner');\n",
              "      try {\n",
              "        const charts = await google.colab.kernel.invokeFunction(\n",
              "            'suggestCharts', [key], {});\n",
              "      } catch (error) {\n",
              "        console.error('Error during call to suggestCharts:', error);\n",
              "      }\n",
              "      quickchartButtonEl.classList.remove('colab-df-spinner');\n",
              "      quickchartButtonEl.classList.add('colab-df-quickchart-complete');\n",
              "    }\n",
              "    (() => {\n",
              "      let quickchartButtonEl =\n",
              "        document.querySelector('#df-8cc9a11b-38b0-483f-a0b8-892fa6ec5ac9 button');\n",
              "      quickchartButtonEl.style.display =\n",
              "        google.colab.kernel.accessAllowed ? 'block' : 'none';\n",
              "    })();\n",
              "  </script>\n",
              "</div>\n",
              "\n",
              "    </div>\n",
              "  </div>\n"
            ],
            "application/vnd.google.colaboratory.intrinsic+json": {
              "type": "dataframe",
              "variable_name": "data",
              "summary": "{\n  \"name\": \"data\",\n  \"rows\": 95915,\n  \"fields\": [\n    {\n      \"column\": \"ranking\",\n      \"properties\": {\n        \"dtype\": \"category\",\n        \"num_unique_values\": 8173,\n        \"samples\": [\n          100926,\n          13773,\n          \"152252\"\n        ],\n        \"semantic_type\": \"\",\n        \"description\": \"\"\n      }\n    },\n    {\n      \"column\": \"mld_res\",\n      \"properties\": {\n        \"dtype\": \"category\",\n        \"num_unique_values\": 5,\n        \"samples\": [\n          \"1\",\n          \"10000000\",\n          0\n        ],\n        \"semantic_type\": \"\",\n        \"description\": \"\"\n      }\n    },\n    {\n      \"column\": \"mld.ps_res\",\n      \"properties\": {\n        \"dtype\": \"category\",\n        \"num_unique_values\": 4,\n        \"samples\": [\n          0,\n          1,\n          \"0\"\n        ],\n        \"semantic_type\": \"\",\n        \"description\": \"\"\n      }\n    },\n    {\n      \"column\": \"card_rem\",\n      \"properties\": {\n        \"dtype\": \"number\",\n        \"std\": 4.343253762798517,\n        \"min\": 0.0,\n        \"max\": 58.0,\n        \"num_unique_values\": 49,\n        \"samples\": [\n          25.0,\n          52.0,\n          56.0\n        ],\n        \"semantic_type\": \"\",\n        \"description\": \"\"\n      }\n    },\n    {\n      \"column\": \"ratio_Rrem\",\n      \"properties\": {\n        \"dtype\": \"number\",\n        \"std\": 160.99240057444823,\n        \"min\": 0.0,\n        \"max\": 5507.0,\n        \"num_unique_values\": 10040,\n        \"samples\": [\n          146.7,\n          84.7,\n          48.625\n        ],\n        \"semantic_type\": \"\",\n        \"description\": \"\"\n      }\n    },\n    {\n      \"column\": \"ratio_Arem\",\n      \"properties\": {\n        \"dtype\": \"number\",\n        \"std\": 175.483173008743,\n        \"min\": 0.0,\n        \"max\": 6097.0,\n        \"num_unique_values\": 10230,\n        \"samples\": [\n          25.2,\n          127.333333,\n          104.6\n        ],\n        \"semantic_type\": \"\",\n        \"description\": \"\"\n      }\n    },\n    {\n      \"column\": \"jaccard_RR\",\n      \"properties\": {\n        \"dtype\": \"number\",\n        \"std\": 0.7872197239177753,\n        \"min\": 0.0,\n        \"max\": 183.75,\n        \"num_unique_values\": 5446,\n        \"samples\": [\n          0.007317,\n          0.039272,\n          0.001987\n        ],\n        \"semantic_type\": \"\",\n        \"description\": \"\"\n      }\n    },\n    {\n      \"column\": \"jaccard_RA\",\n      \"properties\": {\n        \"dtype\": \"number\",\n        \"std\": 0.025312581479027693,\n        \"min\": 0.0,\n        \"max\": 2.0,\n        \"num_unique_values\": 5626,\n        \"samples\": [\n          0.005913,\n          0.044444,\n          0.025321\n        ],\n        \"semantic_type\": \"\",\n        \"description\": \"\"\n      }\n    },\n    {\n      \"column\": \"jaccard_AR\",\n      \"properties\": {\n        \"dtype\": \"number\",\n        \"std\": 0.023794510474627485,\n        \"min\": 0.0,\n        \"max\": 1.0,\n        \"num_unique_values\": 5071,\n        \"samples\": [\n          0.013445,\n          0.022491,\n          0.001014\n        ],\n        \"semantic_type\": \"\",\n        \"description\": \"\"\n      }\n    },\n    {\n      \"column\": \"jaccard_AA\",\n      \"properties\": {\n        \"dtype\": \"number\",\n        \"std\": 0.02825939660636725,\n        \"min\": 0.0,\n        \"max\": 1.0,\n        \"num_unique_values\": 5311,\n        \"samples\": [\n          0.048913,\n          0.183908,\n          0.020763\n        ],\n        \"semantic_type\": \"\",\n        \"description\": \"\"\n      }\n    },\n    {\n      \"column\": \"jaccard_ARrd\",\n      \"properties\": {\n        \"dtype\": \"category\",\n        \"num_unique_values\": 1068,\n        \"samples\": [\n          \"0.868421\",\n          \"0.754717\",\n          0.536585\n        ],\n        \"semantic_type\": \"\",\n        \"description\": \"\"\n      }\n    },\n    {\n      \"column\": \"jaccard_ARrem\",\n      \"properties\": {\n        \"dtype\": \"category\",\n        \"num_unique_values\": 30747,\n        \"samples\": [\n          \"0.647951\",\n          \"0.857426\",\n          0.865487\n        ],\n        \"semantic_type\": \"\",\n        \"description\": \"\"\n      }\n    },\n    {\n      \"column\": \"label\",\n      \"properties\": {\n        \"dtype\": \"number\",\n        \"std\": 0.5000004582874228,\n        \"min\": 0.0,\n        \"max\": 1.0,\n        \"num_unique_values\": 3,\n        \"samples\": [\n          1.0,\n          0.0,\n          0.770083\n        ],\n        \"semantic_type\": \"\",\n        \"description\": \"\"\n      }\n    }\n  ]\n}"
            }
          },
          "metadata": {},
          "execution_count": 25
        }
      ]
    },
    {
      "cell_type": "code",
      "source": [
        "# Check the data types of all the columns\n",
        "data.dtypes"
      ],
      "metadata": {
        "colab": {
          "base_uri": "https://localhost:8080/"
        },
        "id": "hcGO2CzACGYy",
        "outputId": "d4e1298b-b029-467d-f72b-5c24e5b77953"
      },
      "execution_count": 26,
      "outputs": [
        {
          "output_type": "execute_result",
          "data": {
            "text/plain": [
              "ranking           object\n",
              "mld_res           object\n",
              "mld.ps_res        object\n",
              "card_rem         float64\n",
              "ratio_Rrem       float64\n",
              "ratio_Arem       float64\n",
              "jaccard_RR       float64\n",
              "jaccard_RA       float64\n",
              "jaccard_AR       float64\n",
              "jaccard_AA       float64\n",
              "jaccard_ARrd      object\n",
              "jaccard_ARrem     object\n",
              "label            float64\n",
              "dtype: object"
            ]
          },
          "metadata": {},
          "execution_count": 26
        }
      ]
    },
    {
      "cell_type": "markdown",
      "source": [
        "# Visualize the dataset"
      ],
      "metadata": {
        "id": "gwMw9AXSyuV4"
      }
    },
    {
      "cell_type": "code",
      "source": [
        "# plotting the data distribution\n",
        "import matplotlib.pyplot as plt\n",
        "import seaborn as sns\n",
        "\n",
        "data.hist(bins=50, figsize=(20,15))\n",
        "plt.show()"
      ],
      "metadata": {
        "colab": {
          "base_uri": "https://localhost:8080/",
          "height": 1000
        },
        "id": "Y2ZxQkFsxaE_",
        "outputId": "7027cbc9-6edb-4ff7-9b70-906ec7e043ac"
      },
      "execution_count": 27,
      "outputs": [
        {
          "output_type": "display_data",
          "data": {
            "text/plain": [
              "<Figure size 2000x1500 with 9 Axes>"
            ],
            "image/png": "[encoded data removed]"
          },
          "metadata": {}
        }
      ]
    },
    {
      "cell_type": "code",
      "source": [
        "# Convert categorical data to numeric\n",
        "label_encoders = {}\n",
        "for column in data.columns:\n",
        "    if data[column].dtype == 'object':\n",
        "        le = LabelEncoder()\n",
        "        # Check if the column contains mixed types and convert to strings if necessary\n",
        "        if any(isinstance(x, int) for x in data[column]) and any(isinstance(x, str) for x in data[column]):\n",
        "            data[column] = data[column].astype(str)\n",
        "        data[column] = le.fit_transform(data[column].astype(str))\n",
        "        label_encoders[column] = le"
      ],
      "metadata": {
        "id": "ennHfx-CIB-G"
      },
      "execution_count": 30,
      "outputs": []
    },
    {
      "cell_type": "code",
      "source": [
        "# Feature and target separation\n",
        "X = data.drop('label', axis=1)\n",
        "y = data['label']"
      ],
      "metadata": {
        "id": "GIBGuzCNIhkh"
      },
      "execution_count": 31,
      "outputs": []
    },
    {
      "cell_type": "markdown",
      "source": [
        "# Split and Train"
      ],
      "metadata": {
        "id": "95tVUoD0IlOX"
      }
    },
    {
      "cell_type": "code",
      "source": [
        "# Split the data into training and testing sets\n",
        "X_train, X_test, y_train, y_test = train_test_split(X, y, test_size=0.2, random_state=42)"
      ],
      "metadata": {
        "id": "OifZubPeIm1f"
      },
      "execution_count": 32,
      "outputs": []
    },
    {
      "cell_type": "code",
      "source": [
        "# Convert y_train to a categorical data type\n",
        "y_train = y_train.astype('int')"
      ],
      "metadata": {
        "id": "tIHgFRQSJTpL"
      },
      "execution_count": 33,
      "outputs": []
    },
    {
      "cell_type": "code",
      "source": [
        "# Initialize and train the decision tree classifier\n",
        "clf = DecisionTreeClassifier()\n",
        "clf.fit(X_train, y_train)"
      ],
      "metadata": {
        "colab": {
          "base_uri": "https://localhost:8080/",
          "height": 74
        },
        "id": "3NKcDn9lI_S6",
        "outputId": "aaebe2cd-2579-4315-e198-e8bab8eedfec"
      },
      "execution_count": 34,
      "outputs": [
        {
          "output_type": "execute_result",
          "data": {
            "text/plain": [
              "DecisionTreeClassifier()"
            ],
            "text/html": [
              "<style>#sk-container-id-1 {color: black;background-color: white;}#sk-container-id-1 pre{padding: 0;}#sk-container-id-1 div.sk-toggleable {background-color: white;}#sk-container-id-1 label.sk-toggleable__label {cursor: pointer;display: block;width: 100%;margin-bottom: 0;padding: 0.3em;box-sizing: border-box;text-align: center;}#sk-container-id-1 label.sk-toggleable__label-arrow:before {content: \"▸\";float: left;margin-right: 0.25em;color: #696969;}#sk-container-id-1 label.sk-toggleable__label-arrow:hover:before {color: black;}#sk-container-id-1 div.sk-estimator:hover label.sk-toggleable__label-arrow:before {color: black;}#sk-container-id-1 div.sk-toggleable__content {max-height: 0;max-width: 0;overflow: hidden;text-align: left;background-color: #f0f8ff;}#sk-container-id-1 div.sk-toggleable__content pre {margin: 0.2em;color: black;border-radius: 0.25em;background-color: #f0f8ff;}#sk-container-id-1 input.sk-toggleable__control:checked~div.sk-toggleable__content {max-height: 200px;max-width: 100%;overflow: auto;}#sk-container-id-1 input.sk-toggleable__control:checked~label.sk-toggleable__label-arrow:before {content: \"▾\";}#sk-container-id-1 div.sk-estimator input.sk-toggleable__control:checked~label.sk-toggleable__label {background-color: #d4ebff;}#sk-container-id-1 div.sk-label input.sk-toggleable__control:checked~label.sk-toggleable__label {background-color: #d4ebff;}#sk-container-id-1 input.sk-hidden--visually {border: 0;clip: rect(1px 1px 1px 1px);clip: rect(1px, 1px, 1px, 1px);height: 1px;margin: -1px;overflow: hidden;padding: 0;position: absolute;width: 1px;}#sk-container-id-1 div.sk-estimator {font-family: monospace;background-color: #f0f8ff;border: 1px dotted black;border-radius: 0.25em;box-sizing: border-box;margin-bottom: 0.5em;}#sk-container-id-1 div.sk-estimator:hover {background-color: #d4ebff;}#sk-container-id-1 div.sk-parallel-item::after {content: \"\";width: 100%;border-bottom: 1px solid gray;flex-grow: 1;}#sk-container-id-1 div.sk-label:hover label.sk-toggleable__label {background-color: #d4ebff;}#sk-container-id-1 div.sk-serial::before {content: \"\";position: absolute;border-left: 1px solid gray;box-sizing: border-box;top: 0;bottom: 0;left: 50%;z-index: 0;}#sk-container-id-1 div.sk-serial {display: flex;flex-direction: column;align-items: center;background-color: white;padding-right: 0.2em;padding-left: 0.2em;position: relative;}#sk-container-id-1 div.sk-item {position: relative;z-index: 1;}#sk-container-id-1 div.sk-parallel {display: flex;align-items: stretch;justify-content: center;background-color: white;position: relative;}#sk-container-id-1 div.sk-item::before, #sk-container-id-1 div.sk-parallel-item::before {content: \"\";position: absolute;border-left: 1px solid gray;box-sizing: border-box;top: 0;bottom: 0;left: 50%;z-index: -1;}#sk-container-id-1 div.sk-parallel-item {display: flex;flex-direction: column;z-index: 1;position: relative;background-color: white;}#sk-container-id-1 div.sk-parallel-item:first-child::after {align-self: flex-end;width: 50%;}#sk-container-id-1 div.sk-parallel-item:last-child::after {align-self: flex-start;width: 50%;}#sk-container-id-1 div.sk-parallel-item:only-child::after {width: 0;}#sk-container-id-1 div.sk-dashed-wrapped {border: 1px dashed gray;margin: 0 0.4em 0.5em 0.4em;box-sizing: border-box;padding-bottom: 0.4em;background-color: white;}#sk-container-id-1 div.sk-label label {font-family: monospace;font-weight: bold;display: inline-block;line-height: 1.2em;}#sk-container-id-1 div.sk-label-container {text-align: center;}#sk-container-id-1 div.sk-container {/* jupyter's `normalize.less` sets `[hidden] { display: none; }` but bootstrap.min.css set `[hidden] { display: none !important; }` so we also need the `!important` here to be able to override the default hidden behavior on the sphinx rendered scikit-learn.org. See: https://github.com/scikit-learn/scikit-learn/issues/21755 */display: inline-block !important;position: relative;}#sk-container-id-1 div.sk-text-repr-fallback {display: none;}</style><div id=\"sk-container-id-1\" class=\"sk-top-container\"><div class=\"sk-text-repr-fallback\"><pre>DecisionTreeClassifier()</pre><b>In a Jupyter environment, please rerun this cell to show the HTML representation or trust the notebook. <br />On GitHub, the HTML representation is unable to render, please try loading this page with nbviewer.org.</b></div><div class=\"sk-container\" hidden><div class=\"sk-item\"><div class=\"sk-estimator sk-toggleable\"><input class=\"sk-toggleable__control sk-hidden--visually\" id=\"sk-estimator-id-1\" type=\"checkbox\" checked><label for=\"sk-estimator-id-1\" class=\"sk-toggleable__label sk-toggleable__label-arrow\">DecisionTreeClassifier</label><div class=\"sk-toggleable__content\"><pre>DecisionTreeClassifier()</pre></div></div></div></div></div>"
            ]
          },
          "metadata": {},
          "execution_count": 34
        }
      ]
    },
    {
      "cell_type": "code",
      "source": [
        "# Make predictionns on the test set\n",
        "y_pred = clf.predict(X_test)"
      ],
      "metadata": {
        "id": "zl8cLfBMNK5e"
      },
      "execution_count": 35,
      "outputs": []
    },
    {
      "cell_type": "markdown",
      "source": [
        "# Log Metrics to Wandb"
      ],
      "metadata": {
        "id": "k9RJM2m2NsmI"
      }
    },
    {
      "cell_type": "code",
      "source": [
        "# Import the necessary modules\n",
        "from sklearn.metrics import accuracy_score, precision_score, recall_score, f1_score"
      ],
      "metadata": {
        "id": "-sL_vAH1N_AH"
      },
      "execution_count": 37,
      "outputs": []
    },
    {
      "cell_type": "code",
      "source": [
        "# Calculate metrics\n",
        "accuracy = accuracy_score(y_test, y_pred)\n",
        "precision = precision_score(y_test, y_pred)\n",
        "recall = recall_score(y_test, y_pred)\n",
        "f1 = f1_score(y_test, y_pred)\n",
        "\n",
        "print('Accuracy:', accuracy)\n",
        "print('Precision:', precision)\n",
        "print('Recall:', recall)\n",
        "print('F1 Score:', f1)"
      ],
      "metadata": {
        "colab": {
          "base_uri": "https://localhost:8080/"
        },
        "id": "_-7MYTauNrNa",
        "outputId": "c03ba191-122c-48a0-f7a0-aa704af1a731"
      },
      "execution_count": 52,
      "outputs": [
        {
          "output_type": "stream",
          "name": "stdout",
          "text": [
            "Accuracy: 0.9468800500443101\n",
            "Precision: 0.9425881866142547\n",
            "Recall: 0.9515455304928989\n",
            "F1 Score: 0.9470456789481889\n"
          ]
        }
      ]
    },
    {
      "cell_type": "code",
      "source": [
        "# log the model hyperparameters\n",
        "wandb.log({\n",
        "    'accuracy': accuracy,\n",
        "    'confusion_matrix': cm,\n",
        "    'precision': precision,\n",
        "    'recall': recall,\n",
        "    'f1_score': f1_score\n",
        "})"
      ],
      "metadata": {
        "id": "3QfDtulHOdzA"
      },
      "execution_count": 49,
      "outputs": []
    },
    {
      "cell_type": "markdown",
      "source": [
        "# Evaluate the model"
      ],
      "metadata": {
        "id": "qKJN01tiOnKa"
      }
    },
    {
      "cell_type": "code",
      "source": [
        "# Calculate accuracy\n",
        "accuracy = accuracy_score(y_test, y_pred)\n",
        "print('Accuracy:', accuracy)"
      ],
      "metadata": {
        "colab": {
          "base_uri": "https://localhost:8080/"
        },
        "id": "1ksKGYEMOpDG",
        "outputId": "8c6f10d2-b56f-474b-cfbf-a5a8585a3a9c"
      },
      "execution_count": 41,
      "outputs": [
        {
          "output_type": "stream",
          "name": "stdout",
          "text": [
            "Accuracy: 0.9468800500443101\n"
          ]
        }
      ]
    },
    {
      "cell_type": "code",
      "source": [
        "# Calculate confusion matrix\n",
        "cm = confusion_matrix(y_test, y_pred)\n",
        "print('Confusion Matrix:\\n', cm)"
      ],
      "metadata": {
        "colab": {
          "base_uri": "https://localhost:8080/"
        },
        "id": "xHmqLMdTOvzX",
        "outputId": "37b6141b-46a4-44e2-a628-4cc917d0f68b"
      },
      "execution_count": 47,
      "outputs": [
        {
          "output_type": "stream",
          "name": "stdout",
          "text": [
            "Confusion Matrix:\n",
            " [[9052  555]\n",
            " [ 464 9112]]\n"
          ]
        }
      ]
    },
    {
      "cell_type": "markdown",
      "source": [
        "The confusion matrix has:\n",
        "- 9052 True Positives (TP) and 555 False Negatives (FN) indicating correct and missed positive predictions.\n",
        "- 464 False Positives (FP) and 9112 True Negatives (TN) indicating incorrect and correct negative predictions.\n",
        "This shows the model's strength in correctly predicting both classes with relatively low errors in both false positives and negatives."
      ],
      "metadata": {
        "id": "qQ-YNqDRPlK3"
      }
    },
    {
      "cell_type": "markdown",
      "source": [
        "![image.png](data:image/png;base64,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)"
      ],
      "metadata": {
        "id": "pyiLo0OfRiSV"
      }
    },
    {
      "cell_type": "markdown",
      "source": [
        "![image.png](data:image/png;base64,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)"
      ],
      "metadata": {
        "id": "9E6KWJE3Rjat"
      }
    },
    {
      "cell_type": "markdown",
      "source": [
        "The model achieved an accuracy of 94.6%, indicatding that it correctly classified 83% of the samples.\n",
        "\n",
        "The model's precision is 94%, which means that 83% of the samples predicted as positive were indeed positive.\n",
        "\n",
        "The recall of 95% indicates that the model successfully identified 83% of the actual positive instances.\n",
        "\n",
        "The F1 score is 94.7%, reflecting a good balance between precision and recall."
      ],
      "metadata": {
        "id": "zWjBbVH7SCPy"
      }
    },
    {
      "cell_type": "markdown",
      "source": [
        "# Save the model"
      ],
      "metadata": {
        "id": "URMKcg5GQyoM"
      }
    },
    {
      "cell_type": "code",
      "source": [
        "import joblib\n",
        "\n",
        "# Save the trained model to a file\n",
        "joblib.dump(clf, 'clf_model.pkl')"
      ],
      "metadata": {
        "colab": {
          "base_uri": "https://localhost:8080/"
        },
        "id": "tBUloxVRQ0am",
        "outputId": "e6e64ed6-61af-4643-d349-ea7e221dad18"
      },
      "execution_count": 50,
      "outputs": [
        {
          "output_type": "execute_result",
          "data": {
            "text/plain": [
              "['clf_model.pkl']"
            ]
          },
          "metadata": {},
          "execution_count": 50
        }
      ]
    },
    {
      "cell_type": "code",
      "source": [
        "# load the model to wandb\n",
        "wandb.save('clf_model.pkl')"
      ],
      "metadata": {
        "colab": {
          "base_uri": "https://localhost:8080/"
        },
        "id": "wcE7ebZ2RBDr",
        "outputId": "1ad7a2da-f4c4-4bbc-c940-1036cde27b32"
      },
      "execution_count": 51,
      "outputs": [
        {
          "output_type": "execute_result",
          "data": {
            "text/plain": [
              "['/content/wandb/run-20240725_092133-u24e0ayf/files/clf_model.pkl']"
            ]
          },
          "metadata": {},
          "execution_count": 51
        }
      ]
    },
    {
      "cell_type": "markdown",
      "source": [
        "![image.png](data:image/png;base64,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)"
      ],
      "metadata": {
        "id": "2wf_zBywRuwj"
      }
    },
    {
      "cell_type": "markdown",
      "source": [
        "![image.png](data:image/png;base64,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)"
      ],
      "metadata": {
        "id": "1qb3L1ZDRvqy"
      }
    },
    {
      "cell_type": "markdown",
      "source": [
        "Decision tree classification often outperforms logistic regression in terms of accuracy, especially in scenarios involving non-linear relationships, feature interactions, robustness to outliers, and datasets with mixed feature types as the dataset used in this repository."
      ],
      "metadata": {
        "id": "k-laNdBXR2v7"
      }
    }
  ]
}