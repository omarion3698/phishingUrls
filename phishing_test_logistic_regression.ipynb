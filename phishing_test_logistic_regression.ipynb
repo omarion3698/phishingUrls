{
  "nbformat": 4,
  "nbformat_minor": 0,
  "metadata": {
    "colab": {
      "provenance": [],
      "authorship_tag": "ABX9TyMo9ROGAvg6cd4GxmaPo7Eg",
      "include_colab_link": true
    },
    "kernelspec": {
      "name": "python3",
      "display_name": "Python 3"
    },
    "language_info": {
      "name": "python"
    },
    "widgets": {
      "application/vnd.jupyter.widget-state+json": {
        "12413336baa24e4f8ebb265bf5aa05d3": {
          "model_module": "@jupyter-widgets/controls",
          "model_name": "VBoxModel",
          "model_module_version": "1.5.0",
          "state": {
            "_dom_classes": [],
            "_model_module": "@jupyter-widgets/controls",
            "_model_module_version": "1.5.0",
            "_model_name": "VBoxModel",
            "_view_count": null,
            "_view_module": "@jupyter-widgets/controls",
            "_view_module_version": "1.5.0",
            "_view_name": "VBoxView",
            "box_style": "",
            "children": [
              "IPY_MODEL_5209ebcc44944c1ca2d7e116aa2eeb4d",
              "IPY_MODEL_51d0ee9481ad4718a869e5dd611dea2f"
            ],
            "layout": "IPY_MODEL_877d12fb803f4cc7a82f448a4516b08d"
          }
        },
        "5209ebcc44944c1ca2d7e116aa2eeb4d": {
          "model_module": "@jupyter-widgets/controls",
          "model_name": "LabelModel",
          "model_module_version": "1.5.0",
          "state": {
            "_dom_classes": [],
            "_model_module": "@jupyter-widgets/controls",
            "_model_module_version": "1.5.0",
            "_model_name": "LabelModel",
            "_view_count": null,
            "_view_module": "@jupyter-widgets/controls",
            "_view_module_version": "1.5.0",
            "_view_name": "LabelView",
            "description": "",
            "description_tooltip": null,
            "layout": "IPY_MODEL_b43b6950c86a44e98788d62cb4f10451",
            "placeholder": "​",
            "style": "IPY_MODEL_92aeea719eb04cd4908c71f2cb4e6fb9",
            "value": "0.011 MB of 0.011 MB uploaded\r"
          }
        },
        "51d0ee9481ad4718a869e5dd611dea2f": {
          "model_module": "@jupyter-widgets/controls",
          "model_name": "FloatProgressModel",
          "model_module_version": "1.5.0",
          "state": {
            "_dom_classes": [],
            "_model_module": "@jupyter-widgets/controls",
            "_model_module_version": "1.5.0",
            "_model_name": "FloatProgressModel",
            "_view_count": null,
            "_view_module": "@jupyter-widgets/controls",
            "_view_module_version": "1.5.0",
            "_view_name": "ProgressView",
            "bar_style": "",
            "description": "",
            "description_tooltip": null,
            "layout": "IPY_MODEL_5a92e9508e724594a1409f38c45df3f8",
            "max": 1,
            "min": 0,
            "orientation": "horizontal",
            "style": "IPY_MODEL_dc3cf6c4dd874a6abdbc26d4ec10f54d",
            "value": 1
          }
        },
        "877d12fb803f4cc7a82f448a4516b08d": {
          "model_module": "@jupyter-widgets/base",
          "model_name": "LayoutModel",
          "model_module_version": "1.2.0",
          "state": {
            "_model_module": "@jupyter-widgets/base",
            "_model_module_version": "1.2.0",
            "_model_name": "LayoutModel",
            "_view_count": null,
            "_view_module": "@jupyter-widgets/base",
            "_view_module_version": "1.2.0",
            "_view_name": "LayoutView",
            "align_content": null,
            "align_items": null,
            "align_self": null,
            "border": null,
            "bottom": null,
            "display": null,
            "flex": null,
            "flex_flow": null,
            "grid_area": null,
            "grid_auto_columns": null,
            "grid_auto_flow": null,
            "grid_auto_rows": null,
            "grid_column": null,
            "grid_gap": null,
            "grid_row": null,
            "grid_template_areas": null,
            "grid_template_columns": null,
            "grid_template_rows": null,
            "height": null,
            "justify_content": null,
            "justify_items": null,
            "left": null,
            "margin": null,
            "max_height": null,
            "max_width": null,
            "min_height": null,
            "min_width": null,
            "object_fit": null,
            "object_position": null,
            "order": null,
            "overflow": null,
            "overflow_x": null,
            "overflow_y": null,
            "padding": null,
            "right": null,
            "top": null,
            "visibility": null,
            "width": null
          }
        },
        "b43b6950c86a44e98788d62cb4f10451": {
          "model_module": "@jupyter-widgets/base",
          "model_name": "LayoutModel",
          "model_module_version": "1.2.0",
          "state": {
            "_model_module": "@jupyter-widgets/base",
            "_model_module_version": "1.2.0",
            "_model_name": "LayoutModel",
            "_view_count": null,
            "_view_module": "@jupyter-widgets/base",
            "_view_module_version": "1.2.0",
            "_view_name": "LayoutView",
            "align_content": null,
            "align_items": null,
            "align_self": null,
            "border": null,
            "bottom": null,
            "display": null,
            "flex": null,
            "flex_flow": null,
            "grid_area": null,
            "grid_auto_columns": null,
            "grid_auto_flow": null,
            "grid_auto_rows": null,
            "grid_column": null,
            "grid_gap": null,
            "grid_row": null,
            "grid_template_areas": null,
            "grid_template_columns": null,
            "grid_template_rows": null,
            "height": null,
            "justify_content": null,
            "justify_items": null,
            "left": null,
            "margin": null,
            "max_height": null,
            "max_width": null,
            "min_height": null,
            "min_width": null,
            "object_fit": null,
            "object_position": null,
            "order": null,
            "overflow": null,
            "overflow_x": null,
            "overflow_y": null,
            "padding": null,
            "right": null,
            "top": null,
            "visibility": null,
            "width": null
          }
        },
        "92aeea719eb04cd4908c71f2cb4e6fb9": {
          "model_module": "@jupyter-widgets/controls",
          "model_name": "DescriptionStyleModel",
          "model_module_version": "1.5.0",
          "state": {
            "_model_module": "@jupyter-widgets/controls",
            "_model_module_version": "1.5.0",
            "_model_name": "DescriptionStyleModel",
            "_view_count": null,
            "_view_module": "@jupyter-widgets/base",
            "_view_module_version": "1.2.0",
            "_view_name": "StyleView",
            "description_width": ""
          }
        },
        "5a92e9508e724594a1409f38c45df3f8": {
          "model_module": "@jupyter-widgets/base",
          "model_name": "LayoutModel",
          "model_module_version": "1.2.0",
          "state": {
            "_model_module": "@jupyter-widgets/base",
            "_model_module_version": "1.2.0",
            "_model_name": "LayoutModel",
            "_view_count": null,
            "_view_module": "@jupyter-widgets/base",
            "_view_module_version": "1.2.0",
            "_view_name": "LayoutView",
            "align_content": null,
            "align_items": null,
            "align_self": null,
            "border": null,
            "bottom": null,
            "display": null,
            "flex": null,
            "flex_flow": null,
            "grid_area": null,
            "grid_auto_columns": null,
            "grid_auto_flow": null,
            "grid_auto_rows": null,
            "grid_column": null,
            "grid_gap": null,
            "grid_row": null,
            "grid_template_areas": null,
            "grid_template_columns": null,
            "grid_template_rows": null,
            "height": null,
            "justify_content": null,
            "justify_items": null,
            "left": null,
            "margin": null,
            "max_height": null,
            "max_width": null,
            "min_height": null,
            "min_width": null,
            "object_fit": null,
            "object_position": null,
            "order": null,
            "overflow": null,
            "overflow_x": null,
            "overflow_y": null,
            "padding": null,
            "right": null,
            "top": null,
            "visibility": null,
            "width": null
          }
        },
        "dc3cf6c4dd874a6abdbc26d4ec10f54d": {
          "model_module": "@jupyter-widgets/controls",
          "model_name": "ProgressStyleModel",
          "model_module_version": "1.5.0",
          "state": {
            "_model_module": "@jupyter-widgets/controls",
            "_model_module_version": "1.5.0",
            "_model_name": "ProgressStyleModel",
            "_view_count": null,
            "_view_module": "@jupyter-widgets/base",
            "_view_module_version": "1.2.0",
            "_view_name": "StyleView",
            "bar_color": null,
            "description_width": ""
          }
        }
      }
    }
  },
  "cells": [
    {
      "cell_type": "markdown",
      "metadata": {
        "id": "view-in-github",
        "colab_type": "text"
      },
      "source": [
        "<a href=\"https://colab.research.google.com/github/omarion3698/phishingUrls/blob/master/phishing_test_logistic_regression.ipynb\" target=\"_parent\"><img src=\"https://colab.research.google.com/assets/colab-badge.svg\" alt=\"Open In Colab\"/></a>"
      ]
    },
    {
      "cell_type": "markdown",
      "source": [
        "# Import Libraries"
      ],
      "metadata": {
        "id": "Pw8suPgiVX07"
      }
    },
    {
      "cell_type": "code",
      "execution_count": 65,
      "metadata": {
        "id": "NVmURQnSVHmM"
      },
      "outputs": [],
      "source": [
        "# install necessary libraries\n",
        "!pip install wandb -qU"
      ]
    },
    {
      "cell_type": "code",
      "source": [
        "# import necessary libraries\n",
        "import pandas as pd\n",
        "import numpy as np\n",
        "from sklearn.model_selection import train_test_split\n",
        "from sklearn.linear_model import LogisticRegression\n",
        "from sklearn.metrics import accuracy_score, confusion_matrix"
      ],
      "metadata": {
        "id": "BgJxkvC1VVm4"
      },
      "execution_count": 66,
      "outputs": []
    },
    {
      "cell_type": "code",
      "source": [
        "# Log in to your W&B account\n",
        "import wandb\n",
        "wandb.login()"
      ],
      "metadata": {
        "colab": {
          "base_uri": "https://localhost:8080/"
        },
        "id": "wLqAXRjPVecX",
        "outputId": "73dd4601-ce58-4efc-a63d-ed13e24018e4"
      },
      "execution_count": 67,
      "outputs": [
        {
          "output_type": "stream",
          "name": "stderr",
          "text": [
            "\u001b[34m\u001b[1mwandb\u001b[0m: \u001b[33mWARNING\u001b[0m Calling wandb.login() after wandb.init() has no effect.\n"
          ]
        },
        {
          "output_type": "execute_result",
          "data": {
            "text/plain": [
              "True"
            ]
          },
          "metadata": {},
          "execution_count": 67
        }
      ]
    },
    {
      "cell_type": "code",
      "source": [
        "# intialize W&B\n",
        "wandb.init(project='test_phishing_using_logistic_regression')"
      ],
      "metadata": {
        "colab": {
          "base_uri": "https://localhost:8080/",
          "height": 448,
          "referenced_widgets": [
            "12413336baa24e4f8ebb265bf5aa05d3",
            "5209ebcc44944c1ca2d7e116aa2eeb4d",
            "51d0ee9481ad4718a869e5dd611dea2f",
            "877d12fb803f4cc7a82f448a4516b08d",
            "b43b6950c86a44e98788d62cb4f10451",
            "92aeea719eb04cd4908c71f2cb4e6fb9",
            "5a92e9508e724594a1409f38c45df3f8",
            "dc3cf6c4dd874a6abdbc26d4ec10f54d"
          ]
        },
        "id": "UTRssSgeVhYQ",
        "outputId": "1584f272-fce6-4b59-c4e5-c51310976f50"
      },
      "execution_count": 106,
      "outputs": [
        {
          "output_type": "display_data",
          "data": {
            "text/plain": [
              "<IPython.core.display.HTML object>"
            ],
            "text/html": [
              "Finishing last run (ID:4tlbum18) before initializing another..."
            ]
          },
          "metadata": {}
        },
        {
          "output_type": "display_data",
          "data": {
            "text/plain": [
              "VBox(children=(Label(value='0.011 MB of 0.011 MB uploaded\\r'), FloatProgress(value=1.0, max=1.0)))"
            ],
            "application/vnd.jupyter.widget-view+json": {
              "version_major": 2,
              "version_minor": 0,
              "model_id": "12413336baa24e4f8ebb265bf5aa05d3"
            }
          },
          "metadata": {}
        },
        {
          "output_type": "display_data",
          "data": {
            "text/plain": [
              "<IPython.core.display.HTML object>"
            ],
            "text/html": [
              "<style>\n",
              "    table.wandb td:nth-child(1) { padding: 0 10px; text-align: left ; width: auto;} td:nth-child(2) {text-align: left ; width: 100%}\n",
              "    .wandb-row { display: flex; flex-direction: row; flex-wrap: wrap; justify-content: flex-start; width: 100% }\n",
              "    .wandb-col { display: flex; flex-direction: column; flex-basis: 100%; flex: 1; padding: 10px; }\n",
              "    </style>\n",
              "<div class=\"wandb-row\"><div class=\"wandb-col\"><h3>Run history:</h3><br/><table class=\"wandb\"><tr><td>accuracy</td><td>▁</td></tr><tr><td>f1_score</td><td>▁</td></tr><tr><td>precision</td><td>▁</td></tr><tr><td>recall</td><td>▁</td></tr></table><br/></div><div class=\"wandb-col\"><h3>Run summary:</h3><br/><table class=\"wandb\"><tr><td>accuracy</td><td>0.83006</td></tr><tr><td>classification_report</td><td>sklearn.metrics._cla...</td></tr><tr><td>f1_score</td><td>0.8296</td></tr><tr><td>precision</td><td>0.83374</td></tr><tr><td>recall</td><td>0.83006</td></tr></table><br/></div></div>"
            ]
          },
          "metadata": {}
        },
        {
          "output_type": "display_data",
          "data": {
            "text/plain": [
              "<IPython.core.display.HTML object>"
            ],
            "text/html": [
              " View run <strong style=\"color:#cdcd00\">apricot-frost-4</strong> at: <a href='https://wandb.ai/unitedStatesInternationalUniversity/test_phishing_using_logistic_regression/runs/4tlbum18' target=\"_blank\">https://wandb.ai/unitedStatesInternationalUniversity/test_phishing_using_logistic_regression/runs/4tlbum18</a><br/> View project at: <a href='https://wandb.ai/unitedStatesInternationalUniversity/test_phishing_using_logistic_regression' target=\"_blank\">https://wandb.ai/unitedStatesInternationalUniversity/test_phishing_using_logistic_regression</a><br/>Synced 4 W&B file(s), 0 media file(s), 0 artifact file(s) and 0 other file(s)"
            ]
          },
          "metadata": {}
        },
        {
          "output_type": "display_data",
          "data": {
            "text/plain": [
              "<IPython.core.display.HTML object>"
            ],
            "text/html": [
              "Find logs at: <code>./wandb/run-20240721_145654-4tlbum18/logs</code>"
            ]
          },
          "metadata": {}
        },
        {
          "output_type": "display_data",
          "data": {
            "text/plain": [
              "<IPython.core.display.HTML object>"
            ],
            "text/html": [
              "The new W&B backend becomes opt-out in version 0.18.0; try it out with `wandb.require(\"core\")`! See https://wandb.me/wandb-core for more information."
            ]
          },
          "metadata": {}
        },
        {
          "output_type": "display_data",
          "data": {
            "text/plain": [
              "<IPython.core.display.HTML object>"
            ],
            "text/html": [
              "Successfully finished last run (ID:4tlbum18). Initializing new run:<br/>"
            ]
          },
          "metadata": {}
        },
        {
          "output_type": "display_data",
          "data": {
            "text/plain": [
              "<IPython.core.display.HTML object>"
            ],
            "text/html": [
              "Tracking run with wandb version 0.17.5"
            ]
          },
          "metadata": {}
        },
        {
          "output_type": "display_data",
          "data": {
            "text/plain": [
              "<IPython.core.display.HTML object>"
            ],
            "text/html": [
              "Run data is saved locally in <code>/content/wandb/run-20240721_150330-3qxpegu5</code>"
            ]
          },
          "metadata": {}
        },
        {
          "output_type": "display_data",
          "data": {
            "text/plain": [
              "<IPython.core.display.HTML object>"
            ],
            "text/html": [
              "Syncing run <strong><a href='https://wandb.ai/unitedStatesInternationalUniversity/test_phishing_using_logistic_regression/runs/3qxpegu5' target=\"_blank\">swept-serenity-5</a></strong> to <a href='https://wandb.ai/unitedStatesInternationalUniversity/test_phishing_using_logistic_regression' target=\"_blank\">Weights & Biases</a> (<a href='https://wandb.me/run' target=\"_blank\">docs</a>)<br/>"
            ]
          },
          "metadata": {}
        },
        {
          "output_type": "display_data",
          "data": {
            "text/plain": [
              "<IPython.core.display.HTML object>"
            ],
            "text/html": [
              " View project at <a href='https://wandb.ai/unitedStatesInternationalUniversity/test_phishing_using_logistic_regression' target=\"_blank\">https://wandb.ai/unitedStatesInternationalUniversity/test_phishing_using_logistic_regression</a>"
            ]
          },
          "metadata": {}
        },
        {
          "output_type": "display_data",
          "data": {
            "text/plain": [
              "<IPython.core.display.HTML object>"
            ],
            "text/html": [
              " View run at <a href='https://wandb.ai/unitedStatesInternationalUniversity/test_phishing_using_logistic_regression/runs/3qxpegu5' target=\"_blank\">https://wandb.ai/unitedStatesInternationalUniversity/test_phishing_using_logistic_regression/runs/3qxpegu5</a>"
            ]
          },
          "metadata": {}
        },
        {
          "output_type": "execute_result",
          "data": {
            "text/html": [
              "<button onClick=\"this.nextSibling.style.display='block';this.style.display='none';\">Display W&B run</button><iframe src='https://wandb.ai/unitedStatesInternationalUniversity/test_phishing_using_logistic_regression/runs/3qxpegu5?jupyter=true' style='border:none;width:100%;height:420px;display:none;'></iframe>"
            ],
            "text/plain": [
              "<wandb.sdk.wandb_run.Run at 0x793de410f4c0>"
            ]
          },
          "metadata": {},
          "execution_count": 106
        }
      ]
    },
    {
      "cell_type": "markdown",
      "source": [
        "# Load the Dataset"
      ],
      "metadata": {
        "id": "qfY9jMN7VuBG"
      }
    },
    {
      "cell_type": "code",
      "source": [
        "df = pd.read_csv('/content/sample_data/urlset.csv', encoding='ISO-8859-1')"
      ],
      "metadata": {
        "colab": {
          "base_uri": "https://localhost:8080/"
        },
        "id": "yJf50Fj8VtAV",
        "outputId": "cdbe769a-a0a6-4aff-a7ab-90800a0911ba"
      },
      "execution_count": 69,
      "outputs": [
        {
          "output_type": "stream",
          "name": "stderr",
          "text": [
            "<ipython-input-69-5ee076fef675>:1: DtypeWarning: Columns (1,2,3,11,12,13) have mixed types. Specify dtype option on import or set low_memory=False.\n",
            "  df = pd.read_csv('/content/sample_data/urlset.csv', encoding='ISO-8859-1')\n"
          ]
        }
      ]
    },
    {
      "cell_type": "code",
      "source": [
        "# Check the data type of the dataset\n",
        "df.info()"
      ],
      "metadata": {
        "colab": {
          "base_uri": "https://localhost:8080/"
        },
        "id": "ylG8XyjJVyYY",
        "outputId": "f5b30296-111b-4bc6-b922-f2407d10a2ab"
      },
      "execution_count": 70,
      "outputs": [
        {
          "output_type": "stream",
          "name": "stdout",
          "text": [
            "<class 'pandas.core.frame.DataFrame'>\n",
            "RangeIndex: 96011 entries, 0 to 96010\n",
            "Data columns (total 14 columns):\n",
            " #   Column         Non-Null Count  Dtype  \n",
            "---  ------         --------------  -----  \n",
            " 0   domain         96007 non-null  object \n",
            " 1   ranking        95955 non-null  object \n",
            " 2   mld_res        95937 non-null  object \n",
            " 3   mld.ps_res     95926 non-null  object \n",
            " 4   card_rem       95925 non-null  float64\n",
            " 5   ratio_Rrem     95925 non-null  float64\n",
            " 6   ratio_Arem     95925 non-null  float64\n",
            " 7   jaccard_RR     95924 non-null  float64\n",
            " 8   jaccard_RA     95923 non-null  float64\n",
            " 9   jaccard_AR     95922 non-null  float64\n",
            " 10  jaccard_AA     95921 non-null  float64\n",
            " 11  jaccard_ARrd   95921 non-null  object \n",
            " 12  jaccard_ARrem  95919 non-null  object \n",
            " 13  label          95915 non-null  object \n",
            "dtypes: float64(7), object(7)\n",
            "memory usage: 10.3+ MB\n"
          ]
        }
      ]
    },
    {
      "cell_type": "code",
      "source": [
        "# Display the first few rows of the DataFrame\n",
        "df.head()"
      ],
      "metadata": {
        "colab": {
          "base_uri": "https://localhost:8080/",
          "height": 243
        },
        "id": "wIRrTYHMV71T",
        "outputId": "53cb2927-9bf1-43df-bba0-760ca88e1b34"
      },
      "execution_count": 71,
      "outputs": [
        {
          "output_type": "execute_result",
          "data": {
            "text/plain": [
              "                                              domain   ranking mld_res  \\\n",
              "0  nobell.it/70ffb52d079109dca5664cce6f317373782/...  10000000       1   \n",
              "1  www.dghjdgf.com/paypal.co.uk/cycgi-bin/webscrc...  10000000       0   \n",
              "2  serviciosbys.com/paypal.cgi.bin.get-into.herf....  10000000       0   \n",
              "3  mail.printakid.com/www.online.americanexpress....  10000000       0   \n",
              "4  thewhiskeydregs.com/wp-content/themes/widescre...  10000000       0   \n",
              "\n",
              "  mld.ps_res  card_rem  ratio_Rrem  ratio_Arem  jaccard_RR  jaccard_RA  \\\n",
              "0          0      18.0  107.611111  107.277778         0.0         0.0   \n",
              "1          0      11.0  150.636364  152.272727         0.0         0.0   \n",
              "2          0      14.0   73.500000   72.642857         0.0         0.0   \n",
              "3          0       6.0  562.000000  590.666667         0.0         0.0   \n",
              "4          0       8.0   29.000000   24.125000         0.0         0.0   \n",
              "\n",
              "   jaccard_AR  jaccard_AA jaccard_ARrd jaccard_ARrem label  \n",
              "0         0.0         0.0          0.8      0.795729     1  \n",
              "1         0.0         0.0            0      0.768577     1  \n",
              "2         0.0         0.0            0      0.726582     1  \n",
              "3         0.0         0.0            0       0.85964     1  \n",
              "4         0.0         0.0            0      0.748971     1  "
            ],
            "text/html": [
              "\n",
              "  <div id=\"df-42184e3e-8ba3-4b14-a436-2be7b3daf04f\" class=\"colab-df-container\">\n",
              "    <div>\n",
              "<style scoped>\n",
              "    .dataframe tbody tr th:only-of-type {\n",
              "        vertical-align: middle;\n",
              "    }\n",
              "\n",
              "    .dataframe tbody tr th {\n",
              "        vertical-align: top;\n",
              "    }\n",
              "\n",
              "    .dataframe thead th {\n",
              "        text-align: right;\n",
              "    }\n",
              "</style>\n",
              "<table border=\"1\" class=\"dataframe\">\n",
              "  <thead>\n",
              "    <tr style=\"text-align: right;\">\n",
              "      <th></th>\n",
              "      <th>domain</th>\n",
              "      <th>ranking</th>\n",
              "      <th>mld_res</th>\n",
              "      <th>mld.ps_res</th>\n",
              "      <th>card_rem</th>\n",
              "      <th>ratio_Rrem</th>\n",
              "      <th>ratio_Arem</th>\n",
              "      <th>jaccard_RR</th>\n",
              "      <th>jaccard_RA</th>\n",
              "      <th>jaccard_AR</th>\n",
              "      <th>jaccard_AA</th>\n",
              "      <th>jaccard_ARrd</th>\n",
              "      <th>jaccard_ARrem</th>\n",
              "      <th>label</th>\n",
              "    </tr>\n",
              "  </thead>\n",
              "  <tbody>\n",
              "    <tr>\n",
              "      <th>0</th>\n",
              "      <td>nobell.it/70ffb52d079109dca5664cce6f317373782/...</td>\n",
              "      <td>10000000</td>\n",
              "      <td>1</td>\n",
              "      <td>0</td>\n",
              "      <td>18.0</td>\n",
              "      <td>107.611111</td>\n",
              "      <td>107.277778</td>\n",
              "      <td>0.0</td>\n",
              "      <td>0.0</td>\n",
              "      <td>0.0</td>\n",
              "      <td>0.0</td>\n",
              "      <td>0.8</td>\n",
              "      <td>0.795729</td>\n",
              "      <td>1</td>\n",
              "    </tr>\n",
              "    <tr>\n",
              "      <th>1</th>\n",
              "      <td>www.dghjdgf.com/paypal.co.uk/cycgi-bin/webscrc...</td>\n",
              "      <td>10000000</td>\n",
              "      <td>0</td>\n",
              "      <td>0</td>\n",
              "      <td>11.0</td>\n",
              "      <td>150.636364</td>\n",
              "      <td>152.272727</td>\n",
              "      <td>0.0</td>\n",
              "      <td>0.0</td>\n",
              "      <td>0.0</td>\n",
              "      <td>0.0</td>\n",
              "      <td>0</td>\n",
              "      <td>0.768577</td>\n",
              "      <td>1</td>\n",
              "    </tr>\n",
              "    <tr>\n",
              "      <th>2</th>\n",
              "      <td>serviciosbys.com/paypal.cgi.bin.get-into.herf....</td>\n",
              "      <td>10000000</td>\n",
              "      <td>0</td>\n",
              "      <td>0</td>\n",
              "      <td>14.0</td>\n",
              "      <td>73.500000</td>\n",
              "      <td>72.642857</td>\n",
              "      <td>0.0</td>\n",
              "      <td>0.0</td>\n",
              "      <td>0.0</td>\n",
              "      <td>0.0</td>\n",
              "      <td>0</td>\n",
              "      <td>0.726582</td>\n",
              "      <td>1</td>\n",
              "    </tr>\n",
              "    <tr>\n",
              "      <th>3</th>\n",
              "      <td>mail.printakid.com/www.online.americanexpress....</td>\n",
              "      <td>10000000</td>\n",
              "      <td>0</td>\n",
              "      <td>0</td>\n",
              "      <td>6.0</td>\n",
              "      <td>562.000000</td>\n",
              "      <td>590.666667</td>\n",
              "      <td>0.0</td>\n",
              "      <td>0.0</td>\n",
              "      <td>0.0</td>\n",
              "      <td>0.0</td>\n",
              "      <td>0</td>\n",
              "      <td>0.85964</td>\n",
              "      <td>1</td>\n",
              "    </tr>\n",
              "    <tr>\n",
              "      <th>4</th>\n",
              "      <td>thewhiskeydregs.com/wp-content/themes/widescre...</td>\n",
              "      <td>10000000</td>\n",
              "      <td>0</td>\n",
              "      <td>0</td>\n",
              "      <td>8.0</td>\n",
              "      <td>29.000000</td>\n",
              "      <td>24.125000</td>\n",
              "      <td>0.0</td>\n",
              "      <td>0.0</td>\n",
              "      <td>0.0</td>\n",
              "      <td>0.0</td>\n",
              "      <td>0</td>\n",
              "      <td>0.748971</td>\n",
              "      <td>1</td>\n",
              "    </tr>\n",
              "  </tbody>\n",
              "</table>\n",
              "</div>\n",
              "    <div class=\"colab-df-buttons\">\n",
              "\n",
              "  <div class=\"colab-df-container\">\n",
              "    <button class=\"colab-df-convert\" onclick=\"convertToInteractive('df-42184e3e-8ba3-4b14-a436-2be7b3daf04f')\"\n",
              "            title=\"Convert this dataframe to an interactive table.\"\n",
              "            style=\"display:none;\">\n",
              "\n",
              "  <svg xmlns=\"http://www.w3.org/2000/svg\" height=\"24px\" viewBox=\"0 -960 960 960\">\n",
              "    <path d=\"M120-120v-720h720v720H120Zm60-500h600v-160H180v160Zm220 220h160v-160H400v160Zm0 220h160v-160H400v160ZM180-400h160v-160H180v160Zm440 0h160v-160H620v160ZM180-180h160v-160H180v160Zm440 0h160v-160H620v160Z\"/>\n",
              "  </svg>\n",
              "    </button>\n",
              "\n",
              "  <style>\n",
              "    .colab-df-container {\n",
              "      display:flex;\n",
              "      gap: 12px;\n",
              "    }\n",
              "\n",
              "    .colab-df-convert {\n",
              "      background-color: #E8F0FE;\n",
              "      border: none;\n",
              "      border-radius: 50%;\n",
              "      cursor: pointer;\n",
              "      display: none;\n",
              "      fill: #1967D2;\n",
              "      height: 32px;\n",
              "      padding: 0 0 0 0;\n",
              "      width: 32px;\n",
              "    }\n",
              "\n",
              "    .colab-df-convert:hover {\n",
              "      background-color: #E2EBFA;\n",
              "      box-shadow: 0px 1px 2px rgba(60, 64, 67, 0.3), 0px 1px 3px 1px rgba(60, 64, 67, 0.15);\n",
              "      fill: #174EA6;\n",
              "    }\n",
              "\n",
              "    .colab-df-buttons div {\n",
              "      margin-bottom: 4px;\n",
              "    }\n",
              "\n",
              "    [theme=dark] .colab-df-convert {\n",
              "      background-color: #3B4455;\n",
              "      fill: #D2E3FC;\n",
              "    }\n",
              "\n",
              "    [theme=dark] .colab-df-convert:hover {\n",
              "      background-color: #434B5C;\n",
              "      box-shadow: 0px 1px 3px 1px rgba(0, 0, 0, 0.15);\n",
              "      filter: drop-shadow(0px 1px 2px rgba(0, 0, 0, 0.3));\n",
              "      fill: #FFFFFF;\n",
              "    }\n",
              "  </style>\n",
              "\n",
              "    <script>\n",
              "      const buttonEl =\n",
              "        document.querySelector('#df-42184e3e-8ba3-4b14-a436-2be7b3daf04f button.colab-df-convert');\n",
              "      buttonEl.style.display =\n",
              "        google.colab.kernel.accessAllowed ? 'block' : 'none';\n",
              "\n",
              "      async function convertToInteractive(key) {\n",
              "        const element = document.querySelector('#df-42184e3e-8ba3-4b14-a436-2be7b3daf04f');\n",
              "        const dataTable =\n",
              "          await google.colab.kernel.invokeFunction('convertToInteractive',\n",
              "                                                    [key], {});\n",
              "        if (!dataTable) return;\n",
              "\n",
              "        const docLinkHtml = 'Like what you see? Visit the ' +\n",
              "          '<a target=\"_blank\" href=https://colab.research.google.com/notebooks/data_table.ipynb>data table notebook</a>'\n",
              "          + ' to learn more about interactive tables.';\n",
              "        element.innerHTML = '';\n",
              "        dataTable['output_type'] = 'display_data';\n",
              "        await google.colab.output.renderOutput(dataTable, element);\n",
              "        const docLink = document.createElement('div');\n",
              "        docLink.innerHTML = docLinkHtml;\n",
              "        element.appendChild(docLink);\n",
              "      }\n",
              "    </script>\n",
              "  </div>\n",
              "\n",
              "\n",
              "<div id=\"df-11df7602-ef03-4435-add5-5badef9e8d01\">\n",
              "  <button class=\"colab-df-quickchart\" onclick=\"quickchart('df-11df7602-ef03-4435-add5-5badef9e8d01')\"\n",
              "            title=\"Suggest charts\"\n",
              "            style=\"display:none;\">\n",
              "\n",
              "<svg xmlns=\"http://www.w3.org/2000/svg\" height=\"24px\"viewBox=\"0 0 24 24\"\n",
              "     width=\"24px\">\n",
              "    <g>\n",
              "        <path d=\"M19 3H5c-1.1 0-2 .9-2 2v14c0 1.1.9 2 2 2h14c1.1 0 2-.9 2-2V5c0-1.1-.9-2-2-2zM9 17H7v-7h2v7zm4 0h-2V7h2v10zm4 0h-2v-4h2v4z\"/>\n",
              "    </g>\n",
              "</svg>\n",
              "  </button>\n",
              "\n",
              "<style>\n",
              "  .colab-df-quickchart {\n",
              "      --bg-color: #E8F0FE;\n",
              "      --fill-color: #1967D2;\n",
              "      --hover-bg-color: #E2EBFA;\n",
              "      --hover-fill-color: #174EA6;\n",
              "      --disabled-fill-color: #AAA;\n",
              "      --disabled-bg-color: #DDD;\n",
              "  }\n",
              "\n",
              "  [theme=dark] .colab-df-quickchart {\n",
              "      --bg-color: #3B4455;\n",
              "      --fill-color: #D2E3FC;\n",
              "      --hover-bg-color: #434B5C;\n",
              "      --hover-fill-color: #FFFFFF;\n",
              "      --disabled-bg-color: #3B4455;\n",
              "      --disabled-fill-color: #666;\n",
              "  }\n",
              "\n",
              "  .colab-df-quickchart {\n",
              "    background-color: var(--bg-color);\n",
              "    border: none;\n",
              "    border-radius: 50%;\n",
              "    cursor: pointer;\n",
              "    display: none;\n",
              "    fill: var(--fill-color);\n",
              "    height: 32px;\n",
              "    padding: 0;\n",
              "    width: 32px;\n",
              "  }\n",
              "\n",
              "  .colab-df-quickchart:hover {\n",
              "    background-color: var(--hover-bg-color);\n",
              "    box-shadow: 0 1px 2px rgba(60, 64, 67, 0.3), 0 1px 3px 1px rgba(60, 64, 67, 0.15);\n",
              "    fill: var(--button-hover-fill-color);\n",
              "  }\n",
              "\n",
              "  .colab-df-quickchart-complete:disabled,\n",
              "  .colab-df-quickchart-complete:disabled:hover {\n",
              "    background-color: var(--disabled-bg-color);\n",
              "    fill: var(--disabled-fill-color);\n",
              "    box-shadow: none;\n",
              "  }\n",
              "\n",
              "  .colab-df-spinner {\n",
              "    border: 2px solid var(--fill-color);\n",
              "    border-color: transparent;\n",
              "    border-bottom-color: var(--fill-color);\n",
              "    animation:\n",
              "      spin 1s steps(1) infinite;\n",
              "  }\n",
              "\n",
              "  @keyframes spin {\n",
              "    0% {\n",
              "      border-color: transparent;\n",
              "      border-bottom-color: var(--fill-color);\n",
              "      border-left-color: var(--fill-color);\n",
              "    }\n",
              "    20% {\n",
              "      border-color: transparent;\n",
              "      border-left-color: var(--fill-color);\n",
              "      border-top-color: var(--fill-color);\n",
              "    }\n",
              "    30% {\n",
              "      border-color: transparent;\n",
              "      border-left-color: var(--fill-color);\n",
              "      border-top-color: var(--fill-color);\n",
              "      border-right-color: var(--fill-color);\n",
              "    }\n",
              "    40% {\n",
              "      border-color: transparent;\n",
              "      border-right-color: var(--fill-color);\n",
              "      border-top-color: var(--fill-color);\n",
              "    }\n",
              "    60% {\n",
              "      border-color: transparent;\n",
              "      border-right-color: var(--fill-color);\n",
              "    }\n",
              "    80% {\n",
              "      border-color: transparent;\n",
              "      border-right-color: var(--fill-color);\n",
              "      border-bottom-color: var(--fill-color);\n",
              "    }\n",
              "    90% {\n",
              "      border-color: transparent;\n",
              "      border-bottom-color: var(--fill-color);\n",
              "    }\n",
              "  }\n",
              "</style>\n",
              "\n",
              "  <script>\n",
              "    async function quickchart(key) {\n",
              "      const quickchartButtonEl =\n",
              "        document.querySelector('#' + key + ' button');\n",
              "      quickchartButtonEl.disabled = true;  // To prevent multiple clicks.\n",
              "      quickchartButtonEl.classList.add('colab-df-spinner');\n",
              "      try {\n",
              "        const charts = await google.colab.kernel.invokeFunction(\n",
              "            'suggestCharts', [key], {});\n",
              "      } catch (error) {\n",
              "        console.error('Error during call to suggestCharts:', error);\n",
              "      }\n",
              "      quickchartButtonEl.classList.remove('colab-df-spinner');\n",
              "      quickchartButtonEl.classList.add('colab-df-quickchart-complete');\n",
              "    }\n",
              "    (() => {\n",
              "      let quickchartButtonEl =\n",
              "        document.querySelector('#df-11df7602-ef03-4435-add5-5badef9e8d01 button');\n",
              "      quickchartButtonEl.style.display =\n",
              "        google.colab.kernel.accessAllowed ? 'block' : 'none';\n",
              "    })();\n",
              "  </script>\n",
              "</div>\n",
              "\n",
              "    </div>\n",
              "  </div>\n"
            ],
            "application/vnd.google.colaboratory.intrinsic+json": {
              "type": "dataframe",
              "variable_name": "df",
              "summary": "{\n  \"name\": \"df\",\n  \"rows\": 96011,\n  \"fields\": [\n    {\n      \"column\": \"domain\",\n      \"properties\": {\n        \"dtype\": \"string\",\n        \"num_unique_values\": 96005,\n        \"samples\": [\n          \"keir.net/bosskey.html\",\n          \"amf-online.de/cli/files/archives/upload/html/register_user/index.html?5BWVIFC36F9K73BWQNBHT816QW7B4XN99J4QZGT6V3Q362ZVOADIHDN9AUJER8MZRQQQ7JW3LM6QO5MDEZVWDJ5ODO36VO6MEVDLFAN2WSSLXEYBET9SCDGQ2JVX81KMWY8B9VC6O5QLJPXYI7QVJ8MLQHJYI4KE3SQA?ios\",\n          \"members.ozemail.com.au/~ksengs/\"\n        ],\n        \"semantic_type\": \"\",\n        \"description\": \"\"\n      }\n    },\n    {\n      \"column\": \"ranking\",\n      \"properties\": {\n        \"dtype\": \"category\",\n        \"num_unique_values\": 8206,\n        \"samples\": [\n          \"726958\",\n          \"3776\",\n          \"529916\"\n        ],\n        \"semantic_type\": \"\",\n        \"description\": \"\"\n      }\n    },\n    {\n      \"column\": \"mld_res\",\n      \"properties\": {\n        \"dtype\": \"category\",\n        \"num_unique_values\": 20,\n        \"samples\": [\n          \"1\",\n          \"11\",\n          \"P\\u008b\\u00f2\\u00a8p\\u009bkk/(k:i\\u00cf\\u00db(\\u001c?[\\u00e2u\\u00b4\\u0087\\u00898\\u00d8z\\u007f\\u00beX\\u00de\\u0092?\\u0017e\\u00de\\u008f\\u00fe[\\u00ee\\u00b5(\\u00d8\\u00b6v{\\u00ab*x\\u0002\\u00029\\u00bb\\\"4\\u00e3\\u00ad\\u00e0;\"\n        ],\n        \"semantic_type\": \"\",\n        \"description\": \"\"\n      }\n    },\n    {\n      \"column\": \"mld.ps_res\",\n      \"properties\": {\n        \"dtype\": \"category\",\n        \"num_unique_values\": 9,\n        \"samples\": [\n          0,\n          \"1\",\n          \"\\u00be\\u0081\\u0096\\u00f3-\\u00a2\\\\\\u0007\\u00e9\\\\t\\u00ac\\u001al\\u0017\\u00bc\\u0096\\u00ee\\u00ec\\u00ee\\u00d7lNz\\u00994\\u00d4\\u00ef\\u00e5r\\u00e2\\u0097~\\u007f\\u008dZ\\u00af\\u00ee\\u00c2-\\u00ea\\u009b\\u00d8\\u00e70\\u009c\\u001b8\"\n        ],\n        \"semantic_type\": \"\",\n        \"description\": \"\"\n      }\n    },\n    {\n      \"column\": \"card_rem\",\n      \"properties\": {\n        \"dtype\": \"number\",\n        \"std\": 4.466075343153312,\n        \"min\": 0.0,\n        \"max\": 187.333333,\n        \"num_unique_values\": 53,\n        \"samples\": [\n          17.0,\n          187.333333,\n          51.0\n        ],\n        \"semantic_type\": \"\",\n        \"description\": \"\"\n      }\n    },\n    {\n      \"column\": \"ratio_Rrem\",\n      \"properties\": {\n        \"dtype\": \"number\",\n        \"std\": 160.98826572875907,\n        \"min\": 0.0,\n        \"max\": 5507.0,\n        \"num_unique_values\": 10042,\n        \"samples\": [\n          135.642857,\n          149.9,\n          256.1875\n        ],\n        \"semantic_type\": \"\",\n        \"description\": \"\"\n      }\n    },\n    {\n      \"column\": \"ratio_Arem\",\n      \"properties\": {\n        \"dtype\": \"number\",\n        \"std\": 175.4787219630995,\n        \"min\": 0.0,\n        \"max\": 6097.0,\n        \"num_unique_values\": 10231,\n        \"samples\": [\n          36.642857,\n          98.333333,\n          362.833333\n        ],\n        \"semantic_type\": \"\",\n        \"description\": \"\"\n      }\n    },\n    {\n      \"column\": \"jaccard_RR\",\n      \"properties\": {\n        \"dtype\": \"number\",\n        \"std\": 0.8460106720737913,\n        \"min\": 0.0,\n        \"max\": 183.75,\n        \"num_unique_values\": 5448,\n        \"samples\": [\n          0.074097,\n          0.003735,\n          0.012364\n        ],\n        \"semantic_type\": \"\",\n        \"description\": \"\"\n      }\n    },\n    {\n      \"column\": \"jaccard_RA\",\n      \"properties\": {\n        \"dtype\": \"number\",\n        \"std\": 0.02563776984702207,\n        \"min\": 0.0,\n        \"max\": 2.0,\n        \"num_unique_values\": 5629,\n        \"samples\": [\n          0.045369,\n          0.023166,\n          0.006489\n        ],\n        \"semantic_type\": \"\",\n        \"description\": \"\"\n      }\n    },\n    {\n      \"column\": \"jaccard_AR\",\n      \"properties\": {\n        \"dtype\": \"number\",\n        \"std\": 0.0240102705228762,\n        \"min\": 0.0,\n        \"max\": 1.0,\n        \"num_unique_values\": 5071,\n        \"samples\": [\n          0.042857,\n          0.004871,\n          0.001498\n        ],\n        \"semantic_type\": \"\",\n        \"description\": \"\"\n      }\n    },\n    {\n      \"column\": \"jaccard_AA\",\n      \"properties\": {\n        \"dtype\": \"number\",\n        \"std\": 0.028492199086782393,\n        \"min\": 0.0,\n        \"max\": 1.0,\n        \"num_unique_values\": 5313,\n        \"samples\": [\n          0.003759,\n          0.255278,\n          0.000366\n        ],\n        \"semantic_type\": \"\",\n        \"description\": \"\"\n      }\n    },\n    {\n      \"column\": \"jaccard_ARrd\",\n      \"properties\": {\n        \"dtype\": \"category\",\n        \"num_unique_values\": 1071,\n        \"samples\": [\n          \"0.413793\",\n          \"0.863636\",\n          \"0.698413\"\n        ],\n        \"semantic_type\": \"\",\n        \"description\": \"\"\n      }\n    },\n    {\n      \"column\": \"jaccard_ARrem\",\n      \"properties\": {\n        \"dtype\": \"category\",\n        \"num_unique_values\": 30750,\n        \"samples\": [\n          \"0.833429\",\n          \"0.753521\",\n          0.843663\n        ],\n        \"semantic_type\": \"\",\n        \"description\": \"\"\n      }\n    },\n    {\n      \"column\": \"label\",\n      \"properties\": {\n        \"dtype\": \"category\",\n        \"num_unique_values\": 5,\n        \"samples\": [\n          \"0.7'8049\",\n          0,\n          \"0.770083\"\n        ],\n        \"semantic_type\": \"\",\n        \"description\": \"\"\n      }\n    }\n  ]\n}"
            }
          },
          "metadata": {},
          "execution_count": 71
        }
      ]
    },
    {
      "cell_type": "code",
      "source": [
        "# Check last 15 rows of each column\n",
        "df.tail(15)"
      ],
      "metadata": {
        "colab": {
          "base_uri": "https://localhost:8080/",
          "height": 557
        },
        "id": "Uj9Bk_vwV-Ce",
        "outputId": "d692fd94-ab9b-4148-d9e8-5e607514a661"
      },
      "execution_count": 72,
      "outputs": [
        {
          "output_type": "execute_result",
          "data": {
            "text/plain": [
              "                                                  domain ranking mld_res  \\\n",
              "95996  www.gamefaqs.com/computer/doswin/data/926310.html     833       1   \n",
              "95997  www.gamespot.com/condemned-criminal-origins/pl...     753       1   \n",
              "95998  xbox360.gamespy.com/xbox-360/condemned-2-blood...   11812       1   \n",
              "95999            xbox360.ign.com/objects/903/903765.html     339       1   \n",
              "96000  games.teamxbox.com/xbox-360/1737/Condemned-2-B...   63029       1   \n",
              "96001            www.1up.com/do/gameOverview?cId=3159391   11106       1   \n",
              "96002             psx.ign.com/articles/131/131835p1.html     339       1   \n",
              "96003               wii.gamespy.com/wii/cursed-mountain/   11812       1   \n",
              "96004              wii.ign.com/objects/142/14270799.html     339       1   \n",
              "96005           xbox360.gamespy.com/xbox-360/dead-space/   11812       1   \n",
              "96006            xbox360.ign.com/objects/850/850402.html     339       1   \n",
              "96007       games.teamxbox.com/xbox-360/1860/Dead-Space/   63029       1   \n",
              "96008         www.gamespot.com/xbox360/action/deadspace/     753       1   \n",
              "96009      en.wikipedia.org/wiki/Dead_Space_(video_game)       6       1   \n",
              "96010          www.angelfire.com/goth/devilmaycrytonite/    2547       1   \n",
              "\n",
              "      mld.ps_res  card_rem  ratio_Rrem  ratio_Arem  jaccard_RR  jaccard_RA  \\\n",
              "95996          1       5.0  169.800000  177.000000    0.004515    0.004338   \n",
              "95997          1       4.0   24.250000   21.000000    0.008696    0.009804   \n",
              "95998          1       3.0   47.333333   48.666667    0.038462    0.044025   \n",
              "95999          1       2.0  142.500000  141.000000    0.009009    0.009091   \n",
              "96000          0       3.0   47.333333   48.666667    0.006897    0.006711   \n",
              "96001          1       4.0  277.250000  289.250000    0.002681    0.003431   \n",
              "96002          1       2.0  152.000000  151.000000    0.002825    0.002841   \n",
              "96003          1       2.0   47.000000   49.000000    0.017857    0.017241   \n",
              "96004          1       2.0  142.500000  141.000000    0.009009    0.009091   \n",
              "96005          1       3.0  114.000000  128.333333    0.019718    0.020151   \n",
              "96006          1       2.0  142.500000  141.000000    0.009009    0.009091   \n",
              "96007          0       3.0  114.000000  128.333333    0.002899    0.002577   \n",
              "96008          1       3.0   91.000000  101.333333    0.000000    0.003106   \n",
              "96009          1       4.0  682.000000  744.250000    0.033075    0.029412   \n",
              "96010          1       5.0   32.400000   27.200000    0.022222    0.032680   \n",
              "\n",
              "       jaccard_AR  jaccard_AA jaccard_ARrd jaccard_ARrem label  \n",
              "95996    0.000000    0.000000     0.414634      0.749748     0  \n",
              "95997    0.000000    0.000000     0.111111      0.691589     0  \n",
              "95998    0.020000    0.026144         0.55      0.858065     0  \n",
              "95999    0.006536    0.006601      0.45098      0.846906     0  \n",
              "96000    0.006944    0.006757         0.75      0.858065     0  \n",
              "96001    0.002691    0.003442     0.692308      0.802705     0  \n",
              "96002    0.000000    0.000000      0.45098      0.830816     0  \n",
              "96003    0.000000    0.000000         0.55      0.811321     0  \n",
              "96004    0.006536    0.006601      0.45098      0.846906     0  \n",
              "96005    0.011461    0.012788         0.55      0.714623     0  \n",
              "96006    0.006536    0.006601      0.45098      0.846906     0  \n",
              "96007    0.002907    0.002584         0.75      0.714623     0  \n",
              "96008    0.000000    0.000000     0.111111      0.648571     0  \n",
              "96009    0.030250    0.029145     0.809735      0.840323     0  \n",
              "96010    0.017341    0.020408     0.636364      0.674157     0  "
            ],
            "text/html": [
              "\n",
              "  <div id=\"df-268ca181-a2d2-4643-8acb-a3a7d3266381\" class=\"colab-df-container\">\n",
              "    <div>\n",
              "<style scoped>\n",
              "    .dataframe tbody tr th:only-of-type {\n",
              "        vertical-align: middle;\n",
              "    }\n",
              "\n",
              "    .dataframe tbody tr th {\n",
              "        vertical-align: top;\n",
              "    }\n",
              "\n",
              "    .dataframe thead th {\n",
              "        text-align: right;\n",
              "    }\n",
              "</style>\n",
              "<table border=\"1\" class=\"dataframe\">\n",
              "  <thead>\n",
              "    <tr style=\"text-align: right;\">\n",
              "      <th></th>\n",
              "      <th>domain</th>\n",
              "      <th>ranking</th>\n",
              "      <th>mld_res</th>\n",
              "      <th>mld.ps_res</th>\n",
              "      <th>card_rem</th>\n",
              "      <th>ratio_Rrem</th>\n",
              "      <th>ratio_Arem</th>\n",
              "      <th>jaccard_RR</th>\n",
              "      <th>jaccard_RA</th>\n",
              "      <th>jaccard_AR</th>\n",
              "      <th>jaccard_AA</th>\n",
              "      <th>jaccard_ARrd</th>\n",
              "      <th>jaccard_ARrem</th>\n",
              "      <th>label</th>\n",
              "    </tr>\n",
              "  </thead>\n",
              "  <tbody>\n",
              "    <tr>\n",
              "      <th>95996</th>\n",
              "      <td>www.gamefaqs.com/computer/doswin/data/926310.html</td>\n",
              "      <td>833</td>\n",
              "      <td>1</td>\n",
              "      <td>1</td>\n",
              "      <td>5.0</td>\n",
              "      <td>169.800000</td>\n",
              "      <td>177.000000</td>\n",
              "      <td>0.004515</td>\n",
              "      <td>0.004338</td>\n",
              "      <td>0.000000</td>\n",
              "      <td>0.000000</td>\n",
              "      <td>0.414634</td>\n",
              "      <td>0.749748</td>\n",
              "      <td>0</td>\n",
              "    </tr>\n",
              "    <tr>\n",
              "      <th>95997</th>\n",
              "      <td>www.gamespot.com/condemned-criminal-origins/pl...</td>\n",
              "      <td>753</td>\n",
              "      <td>1</td>\n",
              "      <td>1</td>\n",
              "      <td>4.0</td>\n",
              "      <td>24.250000</td>\n",
              "      <td>21.000000</td>\n",
              "      <td>0.008696</td>\n",
              "      <td>0.009804</td>\n",
              "      <td>0.000000</td>\n",
              "      <td>0.000000</td>\n",
              "      <td>0.111111</td>\n",
              "      <td>0.691589</td>\n",
              "      <td>0</td>\n",
              "    </tr>\n",
              "    <tr>\n",
              "      <th>95998</th>\n",
              "      <td>xbox360.gamespy.com/xbox-360/condemned-2-blood...</td>\n",
              "      <td>11812</td>\n",
              "      <td>1</td>\n",
              "      <td>1</td>\n",
              "      <td>3.0</td>\n",
              "      <td>47.333333</td>\n",
              "      <td>48.666667</td>\n",
              "      <td>0.038462</td>\n",
              "      <td>0.044025</td>\n",
              "      <td>0.020000</td>\n",
              "      <td>0.026144</td>\n",
              "      <td>0.55</td>\n",
              "      <td>0.858065</td>\n",
              "      <td>0</td>\n",
              "    </tr>\n",
              "    <tr>\n",
              "      <th>95999</th>\n",
              "      <td>xbox360.ign.com/objects/903/903765.html</td>\n",
              "      <td>339</td>\n",
              "      <td>1</td>\n",
              "      <td>1</td>\n",
              "      <td>2.0</td>\n",
              "      <td>142.500000</td>\n",
              "      <td>141.000000</td>\n",
              "      <td>0.009009</td>\n",
              "      <td>0.009091</td>\n",
              "      <td>0.006536</td>\n",
              "      <td>0.006601</td>\n",
              "      <td>0.45098</td>\n",
              "      <td>0.846906</td>\n",
              "      <td>0</td>\n",
              "    </tr>\n",
              "    <tr>\n",
              "      <th>96000</th>\n",
              "      <td>games.teamxbox.com/xbox-360/1737/Condemned-2-B...</td>\n",
              "      <td>63029</td>\n",
              "      <td>1</td>\n",
              "      <td>0</td>\n",
              "      <td>3.0</td>\n",
              "      <td>47.333333</td>\n",
              "      <td>48.666667</td>\n",
              "      <td>0.006897</td>\n",
              "      <td>0.006711</td>\n",
              "      <td>0.006944</td>\n",
              "      <td>0.006757</td>\n",
              "      <td>0.75</td>\n",
              "      <td>0.858065</td>\n",
              "      <td>0</td>\n",
              "    </tr>\n",
              "    <tr>\n",
              "      <th>96001</th>\n",
              "      <td>www.1up.com/do/gameOverview?cId=3159391</td>\n",
              "      <td>11106</td>\n",
              "      <td>1</td>\n",
              "      <td>1</td>\n",
              "      <td>4.0</td>\n",
              "      <td>277.250000</td>\n",
              "      <td>289.250000</td>\n",
              "      <td>0.002681</td>\n",
              "      <td>0.003431</td>\n",
              "      <td>0.002691</td>\n",
              "      <td>0.003442</td>\n",
              "      <td>0.692308</td>\n",
              "      <td>0.802705</td>\n",
              "      <td>0</td>\n",
              "    </tr>\n",
              "    <tr>\n",
              "      <th>96002</th>\n",
              "      <td>psx.ign.com/articles/131/131835p1.html</td>\n",
              "      <td>339</td>\n",
              "      <td>1</td>\n",
              "      <td>1</td>\n",
              "      <td>2.0</td>\n",
              "      <td>152.000000</td>\n",
              "      <td>151.000000</td>\n",
              "      <td>0.002825</td>\n",
              "      <td>0.002841</td>\n",
              "      <td>0.000000</td>\n",
              "      <td>0.000000</td>\n",
              "      <td>0.45098</td>\n",
              "      <td>0.830816</td>\n",
              "      <td>0</td>\n",
              "    </tr>\n",
              "    <tr>\n",
              "      <th>96003</th>\n",
              "      <td>wii.gamespy.com/wii/cursed-mountain/</td>\n",
              "      <td>11812</td>\n",
              "      <td>1</td>\n",
              "      <td>1</td>\n",
              "      <td>2.0</td>\n",
              "      <td>47.000000</td>\n",
              "      <td>49.000000</td>\n",
              "      <td>0.017857</td>\n",
              "      <td>0.017241</td>\n",
              "      <td>0.000000</td>\n",
              "      <td>0.000000</td>\n",
              "      <td>0.55</td>\n",
              "      <td>0.811321</td>\n",
              "      <td>0</td>\n",
              "    </tr>\n",
              "    <tr>\n",
              "      <th>96004</th>\n",
              "      <td>wii.ign.com/objects/142/14270799.html</td>\n",
              "      <td>339</td>\n",
              "      <td>1</td>\n",
              "      <td>1</td>\n",
              "      <td>2.0</td>\n",
              "      <td>142.500000</td>\n",
              "      <td>141.000000</td>\n",
              "      <td>0.009009</td>\n",
              "      <td>0.009091</td>\n",
              "      <td>0.006536</td>\n",
              "      <td>0.006601</td>\n",
              "      <td>0.45098</td>\n",
              "      <td>0.846906</td>\n",
              "      <td>0</td>\n",
              "    </tr>\n",
              "    <tr>\n",
              "      <th>96005</th>\n",
              "      <td>xbox360.gamespy.com/xbox-360/dead-space/</td>\n",
              "      <td>11812</td>\n",
              "      <td>1</td>\n",
              "      <td>1</td>\n",
              "      <td>3.0</td>\n",
              "      <td>114.000000</td>\n",
              "      <td>128.333333</td>\n",
              "      <td>0.019718</td>\n",
              "      <td>0.020151</td>\n",
              "      <td>0.011461</td>\n",
              "      <td>0.012788</td>\n",
              "      <td>0.55</td>\n",
              "      <td>0.714623</td>\n",
              "      <td>0</td>\n",
              "    </tr>\n",
              "    <tr>\n",
              "      <th>96006</th>\n",
              "      <td>xbox360.ign.com/objects/850/850402.html</td>\n",
              "      <td>339</td>\n",
              "      <td>1</td>\n",
              "      <td>1</td>\n",
              "      <td>2.0</td>\n",
              "      <td>142.500000</td>\n",
              "      <td>141.000000</td>\n",
              "      <td>0.009009</td>\n",
              "      <td>0.009091</td>\n",
              "      <td>0.006536</td>\n",
              "      <td>0.006601</td>\n",
              "      <td>0.45098</td>\n",
              "      <td>0.846906</td>\n",
              "      <td>0</td>\n",
              "    </tr>\n",
              "    <tr>\n",
              "      <th>96007</th>\n",
              "      <td>games.teamxbox.com/xbox-360/1860/Dead-Space/</td>\n",
              "      <td>63029</td>\n",
              "      <td>1</td>\n",
              "      <td>0</td>\n",
              "      <td>3.0</td>\n",
              "      <td>114.000000</td>\n",
              "      <td>128.333333</td>\n",
              "      <td>0.002899</td>\n",
              "      <td>0.002577</td>\n",
              "      <td>0.002907</td>\n",
              "      <td>0.002584</td>\n",
              "      <td>0.75</td>\n",
              "      <td>0.714623</td>\n",
              "      <td>0</td>\n",
              "    </tr>\n",
              "    <tr>\n",
              "      <th>96008</th>\n",
              "      <td>www.gamespot.com/xbox360/action/deadspace/</td>\n",
              "      <td>753</td>\n",
              "      <td>1</td>\n",
              "      <td>1</td>\n",
              "      <td>3.0</td>\n",
              "      <td>91.000000</td>\n",
              "      <td>101.333333</td>\n",
              "      <td>0.000000</td>\n",
              "      <td>0.003106</td>\n",
              "      <td>0.000000</td>\n",
              "      <td>0.000000</td>\n",
              "      <td>0.111111</td>\n",
              "      <td>0.648571</td>\n",
              "      <td>0</td>\n",
              "    </tr>\n",
              "    <tr>\n",
              "      <th>96009</th>\n",
              "      <td>en.wikipedia.org/wiki/Dead_Space_(video_game)</td>\n",
              "      <td>6</td>\n",
              "      <td>1</td>\n",
              "      <td>1</td>\n",
              "      <td>4.0</td>\n",
              "      <td>682.000000</td>\n",
              "      <td>744.250000</td>\n",
              "      <td>0.033075</td>\n",
              "      <td>0.029412</td>\n",
              "      <td>0.030250</td>\n",
              "      <td>0.029145</td>\n",
              "      <td>0.809735</td>\n",
              "      <td>0.840323</td>\n",
              "      <td>0</td>\n",
              "    </tr>\n",
              "    <tr>\n",
              "      <th>96010</th>\n",
              "      <td>www.angelfire.com/goth/devilmaycrytonite/</td>\n",
              "      <td>2547</td>\n",
              "      <td>1</td>\n",
              "      <td>1</td>\n",
              "      <td>5.0</td>\n",
              "      <td>32.400000</td>\n",
              "      <td>27.200000</td>\n",
              "      <td>0.022222</td>\n",
              "      <td>0.032680</td>\n",
              "      <td>0.017341</td>\n",
              "      <td>0.020408</td>\n",
              "      <td>0.636364</td>\n",
              "      <td>0.674157</td>\n",
              "      <td>0</td>\n",
              "    </tr>\n",
              "  </tbody>\n",
              "</table>\n",
              "</div>\n",
              "    <div class=\"colab-df-buttons\">\n",
              "\n",
              "  <div class=\"colab-df-container\">\n",
              "    <button class=\"colab-df-convert\" onclick=\"convertToInteractive('df-268ca181-a2d2-4643-8acb-a3a7d3266381')\"\n",
              "            title=\"Convert this dataframe to an interactive table.\"\n",
              "            style=\"display:none;\">\n",
              "\n",
              "  <svg xmlns=\"http://www.w3.org/2000/svg\" height=\"24px\" viewBox=\"0 -960 960 960\">\n",
              "    <path d=\"M120-120v-720h720v720H120Zm60-500h600v-160H180v160Zm220 220h160v-160H400v160Zm0 220h160v-160H400v160ZM180-400h160v-160H180v160Zm440 0h160v-160H620v160ZM180-180h160v-160H180v160Zm440 0h160v-160H620v160Z\"/>\n",
              "  </svg>\n",
              "    </button>\n",
              "\n",
              "  <style>\n",
              "    .colab-df-container {\n",
              "      display:flex;\n",
              "      gap: 12px;\n",
              "    }\n",
              "\n",
              "    .colab-df-convert {\n",
              "      background-color: #E8F0FE;\n",
              "      border: none;\n",
              "      border-radius: 50%;\n",
              "      cursor: pointer;\n",
              "      display: none;\n",
              "      fill: #1967D2;\n",
              "      height: 32px;\n",
              "      padding: 0 0 0 0;\n",
              "      width: 32px;\n",
              "    }\n",
              "\n",
              "    .colab-df-convert:hover {\n",
              "      background-color: #E2EBFA;\n",
              "      box-shadow: 0px 1px 2px rgba(60, 64, 67, 0.3), 0px 1px 3px 1px rgba(60, 64, 67, 0.15);\n",
              "      fill: #174EA6;\n",
              "    }\n",
              "\n",
              "    .colab-df-buttons div {\n",
              "      margin-bottom: 4px;\n",
              "    }\n",
              "\n",
              "    [theme=dark] .colab-df-convert {\n",
              "      background-color: #3B4455;\n",
              "      fill: #D2E3FC;\n",
              "    }\n",
              "\n",
              "    [theme=dark] .colab-df-convert:hover {\n",
              "      background-color: #434B5C;\n",
              "      box-shadow: 0px 1px 3px 1px rgba(0, 0, 0, 0.15);\n",
              "      filter: drop-shadow(0px 1px 2px rgba(0, 0, 0, 0.3));\n",
              "      fill: #FFFFFF;\n",
              "    }\n",
              "  </style>\n",
              "\n",
              "    <script>\n",
              "      const buttonEl =\n",
              "        document.querySelector('#df-268ca181-a2d2-4643-8acb-a3a7d3266381 button.colab-df-convert');\n",
              "      buttonEl.style.display =\n",
              "        google.colab.kernel.accessAllowed ? 'block' : 'none';\n",
              "\n",
              "      async function convertToInteractive(key) {\n",
              "        const element = document.querySelector('#df-268ca181-a2d2-4643-8acb-a3a7d3266381');\n",
              "        const dataTable =\n",
              "          await google.colab.kernel.invokeFunction('convertToInteractive',\n",
              "                                                    [key], {});\n",
              "        if (!dataTable) return;\n",
              "\n",
              "        const docLinkHtml = 'Like what you see? Visit the ' +\n",
              "          '<a target=\"_blank\" href=https://colab.research.google.com/notebooks/data_table.ipynb>data table notebook</a>'\n",
              "          + ' to learn more about interactive tables.';\n",
              "        element.innerHTML = '';\n",
              "        dataTable['output_type'] = 'display_data';\n",
              "        await google.colab.output.renderOutput(dataTable, element);\n",
              "        const docLink = document.createElement('div');\n",
              "        docLink.innerHTML = docLinkHtml;\n",
              "        element.appendChild(docLink);\n",
              "      }\n",
              "    </script>\n",
              "  </div>\n",
              "\n",
              "\n",
              "<div id=\"df-60216316-b7f3-45a0-b8ed-c2227ea84536\">\n",
              "  <button class=\"colab-df-quickchart\" onclick=\"quickchart('df-60216316-b7f3-45a0-b8ed-c2227ea84536')\"\n",
              "            title=\"Suggest charts\"\n",
              "            style=\"display:none;\">\n",
              "\n",
              "<svg xmlns=\"http://www.w3.org/2000/svg\" height=\"24px\"viewBox=\"0 0 24 24\"\n",
              "     width=\"24px\">\n",
              "    <g>\n",
              "        <path d=\"M19 3H5c-1.1 0-2 .9-2 2v14c0 1.1.9 2 2 2h14c1.1 0 2-.9 2-2V5c0-1.1-.9-2-2-2zM9 17H7v-7h2v7zm4 0h-2V7h2v10zm4 0h-2v-4h2v4z\"/>\n",
              "    </g>\n",
              "</svg>\n",
              "  </button>\n",
              "\n",
              "<style>\n",
              "  .colab-df-quickchart {\n",
              "      --bg-color: #E8F0FE;\n",
              "      --fill-color: #1967D2;\n",
              "      --hover-bg-color: #E2EBFA;\n",
              "      --hover-fill-color: #174EA6;\n",
              "      --disabled-fill-color: #AAA;\n",
              "      --disabled-bg-color: #DDD;\n",
              "  }\n",
              "\n",
              "  [theme=dark] .colab-df-quickchart {\n",
              "      --bg-color: #3B4455;\n",
              "      --fill-color: #D2E3FC;\n",
              "      --hover-bg-color: #434B5C;\n",
              "      --hover-fill-color: #FFFFFF;\n",
              "      --disabled-bg-color: #3B4455;\n",
              "      --disabled-fill-color: #666;\n",
              "  }\n",
              "\n",
              "  .colab-df-quickchart {\n",
              "    background-color: var(--bg-color);\n",
              "    border: none;\n",
              "    border-radius: 50%;\n",
              "    cursor: pointer;\n",
              "    display: none;\n",
              "    fill: var(--fill-color);\n",
              "    height: 32px;\n",
              "    padding: 0;\n",
              "    width: 32px;\n",
              "  }\n",
              "\n",
              "  .colab-df-quickchart:hover {\n",
              "    background-color: var(--hover-bg-color);\n",
              "    box-shadow: 0 1px 2px rgba(60, 64, 67, 0.3), 0 1px 3px 1px rgba(60, 64, 67, 0.15);\n",
              "    fill: var(--button-hover-fill-color);\n",
              "  }\n",
              "\n",
              "  .colab-df-quickchart-complete:disabled,\n",
              "  .colab-df-quickchart-complete:disabled:hover {\n",
              "    background-color: var(--disabled-bg-color);\n",
              "    fill: var(--disabled-fill-color);\n",
              "    box-shadow: none;\n",
              "  }\n",
              "\n",
              "  .colab-df-spinner {\n",
              "    border: 2px solid var(--fill-color);\n",
              "    border-color: transparent;\n",
              "    border-bottom-color: var(--fill-color);\n",
              "    animation:\n",
              "      spin 1s steps(1) infinite;\n",
              "  }\n",
              "\n",
              "  @keyframes spin {\n",
              "    0% {\n",
              "      border-color: transparent;\n",
              "      border-bottom-color: var(--fill-color);\n",
              "      border-left-color: var(--fill-color);\n",
              "    }\n",
              "    20% {\n",
              "      border-color: transparent;\n",
              "      border-left-color: var(--fill-color);\n",
              "      border-top-color: var(--fill-color);\n",
              "    }\n",
              "    30% {\n",
              "      border-color: transparent;\n",
              "      border-left-color: var(--fill-color);\n",
              "      border-top-color: var(--fill-color);\n",
              "      border-right-color: var(--fill-color);\n",
              "    }\n",
              "    40% {\n",
              "      border-color: transparent;\n",
              "      border-right-color: var(--fill-color);\n",
              "      border-top-color: var(--fill-color);\n",
              "    }\n",
              "    60% {\n",
              "      border-color: transparent;\n",
              "      border-right-color: var(--fill-color);\n",
              "    }\n",
              "    80% {\n",
              "      border-color: transparent;\n",
              "      border-right-color: var(--fill-color);\n",
              "      border-bottom-color: var(--fill-color);\n",
              "    }\n",
              "    90% {\n",
              "      border-color: transparent;\n",
              "      border-bottom-color: var(--fill-color);\n",
              "    }\n",
              "  }\n",
              "</style>\n",
              "\n",
              "  <script>\n",
              "    async function quickchart(key) {\n",
              "      const quickchartButtonEl =\n",
              "        document.querySelector('#' + key + ' button');\n",
              "      quickchartButtonEl.disabled = true;  // To prevent multiple clicks.\n",
              "      quickchartButtonEl.classList.add('colab-df-spinner');\n",
              "      try {\n",
              "        const charts = await google.colab.kernel.invokeFunction(\n",
              "            'suggestCharts', [key], {});\n",
              "      } catch (error) {\n",
              "        console.error('Error during call to suggestCharts:', error);\n",
              "      }\n",
              "      quickchartButtonEl.classList.remove('colab-df-spinner');\n",
              "      quickchartButtonEl.classList.add('colab-df-quickchart-complete');\n",
              "    }\n",
              "    (() => {\n",
              "      let quickchartButtonEl =\n",
              "        document.querySelector('#df-60216316-b7f3-45a0-b8ed-c2227ea84536 button');\n",
              "      quickchartButtonEl.style.display =\n",
              "        google.colab.kernel.accessAllowed ? 'block' : 'none';\n",
              "    })();\n",
              "  </script>\n",
              "</div>\n",
              "\n",
              "    </div>\n",
              "  </div>\n"
            ],
            "application/vnd.google.colaboratory.intrinsic+json": {
              "type": "dataframe",
              "repr_error": "0"
            }
          },
          "metadata": {},
          "execution_count": 72
        }
      ]
    },
    {
      "cell_type": "code",
      "source": [
        "# dimensions of the dataset\n",
        "df.shape"
      ],
      "metadata": {
        "colab": {
          "base_uri": "https://localhost:8080/"
        },
        "id": "E5T1utNZYbYT",
        "outputId": "52afd0cc-529e-4d99-fc90-a5da0e406d3d"
      },
      "execution_count": 73,
      "outputs": [
        {
          "output_type": "execute_result",
          "data": {
            "text/plain": [
              "(96011, 14)"
            ]
          },
          "metadata": {},
          "execution_count": 73
        }
      ]
    },
    {
      "cell_type": "code",
      "source": [
        "# Generate descriptive statistics for the dataset\n",
        "df.describe()"
      ],
      "metadata": {
        "colab": {
          "base_uri": "https://localhost:8080/",
          "height": 300
        },
        "id": "N8ttDd2pV_0I",
        "outputId": "8305c802-bc09-4b72-ce86-4578838a1880"
      },
      "execution_count": 74,
      "outputs": [
        {
          "output_type": "execute_result",
          "data": {
            "text/plain": [
              "           card_rem    ratio_Rrem    ratio_Arem    jaccard_RR    jaccard_RA  \\\n",
              "count  95925.000000  95925.000000  95925.000000  95924.000000  95923.000000   \n",
              "mean       4.580402    135.252548    138.544869      0.008613      0.003808   \n",
              "std        4.466075    160.988266    175.478722      0.846011      0.025638   \n",
              "min        0.000000      0.000000      0.000000      0.000000      0.000000   \n",
              "25%        2.000000     43.000000     39.666667      0.000000      0.000000   \n",
              "50%        3.000000    104.000000    103.333333      0.000000      0.000000   \n",
              "75%        6.000000    174.142857    178.300000      0.000000      0.000000   \n",
              "max      187.333333   5507.000000   6097.000000    183.750000      2.000000   \n",
              "\n",
              "         jaccard_AR    jaccard_AA  \n",
              "count  95922.000000  95921.000000  \n",
              "mean       0.003378      0.003661  \n",
              "std        0.024010      0.028492  \n",
              "min        0.000000      0.000000  \n",
              "25%        0.000000      0.000000  \n",
              "50%        0.000000      0.000000  \n",
              "75%        0.000000      0.000000  \n",
              "max        1.000000      1.000000  "
            ],
            "text/html": [
              "\n",
              "  <div id=\"df-83543806-7f05-47b6-b7e0-008e07d95a1f\" class=\"colab-df-container\">\n",
              "    <div>\n",
              "<style scoped>\n",
              "    .dataframe tbody tr th:only-of-type {\n",
              "        vertical-align: middle;\n",
              "    }\n",
              "\n",
              "    .dataframe tbody tr th {\n",
              "        vertical-align: top;\n",
              "    }\n",
              "\n",
              "    .dataframe thead th {\n",
              "        text-align: right;\n",
              "    }\n",
              "</style>\n",
              "<table border=\"1\" class=\"dataframe\">\n",
              "  <thead>\n",
              "    <tr style=\"text-align: right;\">\n",
              "      <th></th>\n",
              "      <th>card_rem</th>\n",
              "      <th>ratio_Rrem</th>\n",
              "      <th>ratio_Arem</th>\n",
              "      <th>jaccard_RR</th>\n",
              "      <th>jaccard_RA</th>\n",
              "      <th>jaccard_AR</th>\n",
              "      <th>jaccard_AA</th>\n",
              "    </tr>\n",
              "  </thead>\n",
              "  <tbody>\n",
              "    <tr>\n",
              "      <th>count</th>\n",
              "      <td>95925.000000</td>\n",
              "      <td>95925.000000</td>\n",
              "      <td>95925.000000</td>\n",
              "      <td>95924.000000</td>\n",
              "      <td>95923.000000</td>\n",
              "      <td>95922.000000</td>\n",
              "      <td>95921.000000</td>\n",
              "    </tr>\n",
              "    <tr>\n",
              "      <th>mean</th>\n",
              "      <td>4.580402</td>\n",
              "      <td>135.252548</td>\n",
              "      <td>138.544869</td>\n",
              "      <td>0.008613</td>\n",
              "      <td>0.003808</td>\n",
              "      <td>0.003378</td>\n",
              "      <td>0.003661</td>\n",
              "    </tr>\n",
              "    <tr>\n",
              "      <th>std</th>\n",
              "      <td>4.466075</td>\n",
              "      <td>160.988266</td>\n",
              "      <td>175.478722</td>\n",
              "      <td>0.846011</td>\n",
              "      <td>0.025638</td>\n",
              "      <td>0.024010</td>\n",
              "      <td>0.028492</td>\n",
              "    </tr>\n",
              "    <tr>\n",
              "      <th>min</th>\n",
              "      <td>0.000000</td>\n",
              "      <td>0.000000</td>\n",
              "      <td>0.000000</td>\n",
              "      <td>0.000000</td>\n",
              "      <td>0.000000</td>\n",
              "      <td>0.000000</td>\n",
              "      <td>0.000000</td>\n",
              "    </tr>\n",
              "    <tr>\n",
              "      <th>25%</th>\n",
              "      <td>2.000000</td>\n",
              "      <td>43.000000</td>\n",
              "      <td>39.666667</td>\n",
              "      <td>0.000000</td>\n",
              "      <td>0.000000</td>\n",
              "      <td>0.000000</td>\n",
              "      <td>0.000000</td>\n",
              "    </tr>\n",
              "    <tr>\n",
              "      <th>50%</th>\n",
              "      <td>3.000000</td>\n",
              "      <td>104.000000</td>\n",
              "      <td>103.333333</td>\n",
              "      <td>0.000000</td>\n",
              "      <td>0.000000</td>\n",
              "      <td>0.000000</td>\n",
              "      <td>0.000000</td>\n",
              "    </tr>\n",
              "    <tr>\n",
              "      <th>75%</th>\n",
              "      <td>6.000000</td>\n",
              "      <td>174.142857</td>\n",
              "      <td>178.300000</td>\n",
              "      <td>0.000000</td>\n",
              "      <td>0.000000</td>\n",
              "      <td>0.000000</td>\n",
              "      <td>0.000000</td>\n",
              "    </tr>\n",
              "    <tr>\n",
              "      <th>max</th>\n",
              "      <td>187.333333</td>\n",
              "      <td>5507.000000</td>\n",
              "      <td>6097.000000</td>\n",
              "      <td>183.750000</td>\n",
              "      <td>2.000000</td>\n",
              "      <td>1.000000</td>\n",
              "      <td>1.000000</td>\n",
              "    </tr>\n",
              "  </tbody>\n",
              "</table>\n",
              "</div>\n",
              "    <div class=\"colab-df-buttons\">\n",
              "\n",
              "  <div class=\"colab-df-container\">\n",
              "    <button class=\"colab-df-convert\" onclick=\"convertToInteractive('df-83543806-7f05-47b6-b7e0-008e07d95a1f')\"\n",
              "            title=\"Convert this dataframe to an interactive table.\"\n",
              "            style=\"display:none;\">\n",
              "\n",
              "  <svg xmlns=\"http://www.w3.org/2000/svg\" height=\"24px\" viewBox=\"0 -960 960 960\">\n",
              "    <path d=\"M120-120v-720h720v720H120Zm60-500h600v-160H180v160Zm220 220h160v-160H400v160Zm0 220h160v-160H400v160ZM180-400h160v-160H180v160Zm440 0h160v-160H620v160ZM180-180h160v-160H180v160Zm440 0h160v-160H620v160Z\"/>\n",
              "  </svg>\n",
              "    </button>\n",
              "\n",
              "  <style>\n",
              "    .colab-df-container {\n",
              "      display:flex;\n",
              "      gap: 12px;\n",
              "    }\n",
              "\n",
              "    .colab-df-convert {\n",
              "      background-color: #E8F0FE;\n",
              "      border: none;\n",
              "      border-radius: 50%;\n",
              "      cursor: pointer;\n",
              "      display: none;\n",
              "      fill: #1967D2;\n",
              "      height: 32px;\n",
              "      padding: 0 0 0 0;\n",
              "      width: 32px;\n",
              "    }\n",
              "\n",
              "    .colab-df-convert:hover {\n",
              "      background-color: #E2EBFA;\n",
              "      box-shadow: 0px 1px 2px rgba(60, 64, 67, 0.3), 0px 1px 3px 1px rgba(60, 64, 67, 0.15);\n",
              "      fill: #174EA6;\n",
              "    }\n",
              "\n",
              "    .colab-df-buttons div {\n",
              "      margin-bottom: 4px;\n",
              "    }\n",
              "\n",
              "    [theme=dark] .colab-df-convert {\n",
              "      background-color: #3B4455;\n",
              "      fill: #D2E3FC;\n",
              "    }\n",
              "\n",
              "    [theme=dark] .colab-df-convert:hover {\n",
              "      background-color: #434B5C;\n",
              "      box-shadow: 0px 1px 3px 1px rgba(0, 0, 0, 0.15);\n",
              "      filter: drop-shadow(0px 1px 2px rgba(0, 0, 0, 0.3));\n",
              "      fill: #FFFFFF;\n",
              "    }\n",
              "  </style>\n",
              "\n",
              "    <script>\n",
              "      const buttonEl =\n",
              "        document.querySelector('#df-83543806-7f05-47b6-b7e0-008e07d95a1f button.colab-df-convert');\n",
              "      buttonEl.style.display =\n",
              "        google.colab.kernel.accessAllowed ? 'block' : 'none';\n",
              "\n",
              "      async function convertToInteractive(key) {\n",
              "        const element = document.querySelector('#df-83543806-7f05-47b6-b7e0-008e07d95a1f');\n",
              "        const dataTable =\n",
              "          await google.colab.kernel.invokeFunction('convertToInteractive',\n",
              "                                                    [key], {});\n",
              "        if (!dataTable) return;\n",
              "\n",
              "        const docLinkHtml = 'Like what you see? Visit the ' +\n",
              "          '<a target=\"_blank\" href=https://colab.research.google.com/notebooks/data_table.ipynb>data table notebook</a>'\n",
              "          + ' to learn more about interactive tables.';\n",
              "        element.innerHTML = '';\n",
              "        dataTable['output_type'] = 'display_data';\n",
              "        await google.colab.output.renderOutput(dataTable, element);\n",
              "        const docLink = document.createElement('div');\n",
              "        docLink.innerHTML = docLinkHtml;\n",
              "        element.appendChild(docLink);\n",
              "      }\n",
              "    </script>\n",
              "  </div>\n",
              "\n",
              "\n",
              "<div id=\"df-778b8642-f9f0-4f86-a1a4-d9341982ced4\">\n",
              "  <button class=\"colab-df-quickchart\" onclick=\"quickchart('df-778b8642-f9f0-4f86-a1a4-d9341982ced4')\"\n",
              "            title=\"Suggest charts\"\n",
              "            style=\"display:none;\">\n",
              "\n",
              "<svg xmlns=\"http://www.w3.org/2000/svg\" height=\"24px\"viewBox=\"0 0 24 24\"\n",
              "     width=\"24px\">\n",
              "    <g>\n",
              "        <path d=\"M19 3H5c-1.1 0-2 .9-2 2v14c0 1.1.9 2 2 2h14c1.1 0 2-.9 2-2V5c0-1.1-.9-2-2-2zM9 17H7v-7h2v7zm4 0h-2V7h2v10zm4 0h-2v-4h2v4z\"/>\n",
              "    </g>\n",
              "</svg>\n",
              "  </button>\n",
              "\n",
              "<style>\n",
              "  .colab-df-quickchart {\n",
              "      --bg-color: #E8F0FE;\n",
              "      --fill-color: #1967D2;\n",
              "      --hover-bg-color: #E2EBFA;\n",
              "      --hover-fill-color: #174EA6;\n",
              "      --disabled-fill-color: #AAA;\n",
              "      --disabled-bg-color: #DDD;\n",
              "  }\n",
              "\n",
              "  [theme=dark] .colab-df-quickchart {\n",
              "      --bg-color: #3B4455;\n",
              "      --fill-color: #D2E3FC;\n",
              "      --hover-bg-color: #434B5C;\n",
              "      --hover-fill-color: #FFFFFF;\n",
              "      --disabled-bg-color: #3B4455;\n",
              "      --disabled-fill-color: #666;\n",
              "  }\n",
              "\n",
              "  .colab-df-quickchart {\n",
              "    background-color: var(--bg-color);\n",
              "    border: none;\n",
              "    border-radius: 50%;\n",
              "    cursor: pointer;\n",
              "    display: none;\n",
              "    fill: var(--fill-color);\n",
              "    height: 32px;\n",
              "    padding: 0;\n",
              "    width: 32px;\n",
              "  }\n",
              "\n",
              "  .colab-df-quickchart:hover {\n",
              "    background-color: var(--hover-bg-color);\n",
              "    box-shadow: 0 1px 2px rgba(60, 64, 67, 0.3), 0 1px 3px 1px rgba(60, 64, 67, 0.15);\n",
              "    fill: var(--button-hover-fill-color);\n",
              "  }\n",
              "\n",
              "  .colab-df-quickchart-complete:disabled,\n",
              "  .colab-df-quickchart-complete:disabled:hover {\n",
              "    background-color: var(--disabled-bg-color);\n",
              "    fill: var(--disabled-fill-color);\n",
              "    box-shadow: none;\n",
              "  }\n",
              "\n",
              "  .colab-df-spinner {\n",
              "    border: 2px solid var(--fill-color);\n",
              "    border-color: transparent;\n",
              "    border-bottom-color: var(--fill-color);\n",
              "    animation:\n",
              "      spin 1s steps(1) infinite;\n",
              "  }\n",
              "\n",
              "  @keyframes spin {\n",
              "    0% {\n",
              "      border-color: transparent;\n",
              "      border-bottom-color: var(--fill-color);\n",
              "      border-left-color: var(--fill-color);\n",
              "    }\n",
              "    20% {\n",
              "      border-color: transparent;\n",
              "      border-left-color: var(--fill-color);\n",
              "      border-top-color: var(--fill-color);\n",
              "    }\n",
              "    30% {\n",
              "      border-color: transparent;\n",
              "      border-left-color: var(--fill-color);\n",
              "      border-top-color: var(--fill-color);\n",
              "      border-right-color: var(--fill-color);\n",
              "    }\n",
              "    40% {\n",
              "      border-color: transparent;\n",
              "      border-right-color: var(--fill-color);\n",
              "      border-top-color: var(--fill-color);\n",
              "    }\n",
              "    60% {\n",
              "      border-color: transparent;\n",
              "      border-right-color: var(--fill-color);\n",
              "    }\n",
              "    80% {\n",
              "      border-color: transparent;\n",
              "      border-right-color: var(--fill-color);\n",
              "      border-bottom-color: var(--fill-color);\n",
              "    }\n",
              "    90% {\n",
              "      border-color: transparent;\n",
              "      border-bottom-color: var(--fill-color);\n",
              "    }\n",
              "  }\n",
              "</style>\n",
              "\n",
              "  <script>\n",
              "    async function quickchart(key) {\n",
              "      const quickchartButtonEl =\n",
              "        document.querySelector('#' + key + ' button');\n",
              "      quickchartButtonEl.disabled = true;  // To prevent multiple clicks.\n",
              "      quickchartButtonEl.classList.add('colab-df-spinner');\n",
              "      try {\n",
              "        const charts = await google.colab.kernel.invokeFunction(\n",
              "            'suggestCharts', [key], {});\n",
              "      } catch (error) {\n",
              "        console.error('Error during call to suggestCharts:', error);\n",
              "      }\n",
              "      quickchartButtonEl.classList.remove('colab-df-spinner');\n",
              "      quickchartButtonEl.classList.add('colab-df-quickchart-complete');\n",
              "    }\n",
              "    (() => {\n",
              "      let quickchartButtonEl =\n",
              "        document.querySelector('#df-778b8642-f9f0-4f86-a1a4-d9341982ced4 button');\n",
              "      quickchartButtonEl.style.display =\n",
              "        google.colab.kernel.accessAllowed ? 'block' : 'none';\n",
              "    })();\n",
              "  </script>\n",
              "</div>\n",
              "\n",
              "    </div>\n",
              "  </div>\n"
            ],
            "application/vnd.google.colaboratory.intrinsic+json": {
              "type": "dataframe",
              "summary": "{\n  \"name\": \"df\",\n  \"rows\": 8,\n  \"fields\": [\n    {\n      \"column\": \"card_rem\",\n      \"properties\": {\n        \"dtype\": \"number\",\n        \"std\": 33904.19591119766,\n        \"min\": 0.0,\n        \"max\": 95925.0,\n        \"num_unique_values\": 8,\n        \"samples\": [\n          4.580402393192599,\n          3.0,\n          95925.0\n        ],\n        \"semantic_type\": \"\",\n        \"description\": \"\"\n      }\n    },\n    {\n      \"column\": \"ratio_Rrem\",\n      \"properties\": {\n        \"dtype\": \"number\",\n        \"std\": 33658.495609282916,\n        \"min\": 0.0,\n        \"max\": 95925.0,\n        \"num_unique_values\": 8,\n        \"samples\": [\n          135.25254801249937,\n          104.0,\n          95925.0\n        ],\n        \"semantic_type\": \"\",\n        \"description\": \"\"\n      }\n    },\n    {\n      \"column\": \"ratio_Arem\",\n      \"properties\": {\n        \"dtype\": \"number\",\n        \"std\": 33640.02145129838,\n        \"min\": 0.0,\n        \"max\": 95925.0,\n        \"num_unique_values\": 8,\n        \"samples\": [\n          138.54486941737815,\n          103.333333,\n          95925.0\n        ],\n        \"semantic_type\": \"\",\n        \"description\": \"\"\n      }\n    },\n    {\n      \"column\": \"jaccard_RR\",\n      \"properties\": {\n        \"dtype\": \"number\",\n        \"std\": 33904.992374575995,\n        \"min\": 0.0,\n        \"max\": 95924.0,\n        \"num_unique_values\": 5,\n        \"samples\": [\n          0.008612968714815894,\n          183.75,\n          0.8460106720737913\n        ],\n        \"semantic_type\": \"\",\n        \"description\": \"\"\n      }\n    },\n    {\n      \"column\": \"jaccard_RA\",\n      \"properties\": {\n        \"dtype\": \"number\",\n        \"std\": 33913.79939058094,\n        \"min\": 0.0,\n        \"max\": 95923.0,\n        \"num_unique_values\": 5,\n        \"samples\": [\n          0.0038078839902838738,\n          2.0,\n          0.02563776984702207\n        ],\n        \"semantic_type\": \"\",\n        \"description\": \"\"\n      }\n    },\n    {\n      \"column\": \"jaccard_AR\",\n      \"properties\": {\n        \"dtype\": \"number\",\n        \"std\": 33913.49644334348,\n        \"min\": 0.0,\n        \"max\": 95922.0,\n        \"num_unique_values\": 5,\n        \"samples\": [\n          0.00337781356727341,\n          1.0,\n          0.0240102705228762\n        ],\n        \"semantic_type\": \"\",\n        \"description\": \"\"\n      }\n    },\n    {\n      \"column\": \"jaccard_AA\",\n      \"properties\": {\n        \"dtype\": \"number\",\n        \"std\": 33913.14264927472,\n        \"min\": 0.0,\n        \"max\": 95921.0,\n        \"num_unique_values\": 5,\n        \"samples\": [\n          0.00366102144473056,\n          1.0,\n          0.028492199086782393\n        ],\n        \"semantic_type\": \"\",\n        \"description\": \"\"\n      }\n    }\n  ]\n}"
            }
          },
          "metadata": {},
          "execution_count": 74
        }
      ]
    },
    {
      "cell_type": "markdown",
      "source": [
        "# Exploratory Data Analysis"
      ],
      "metadata": {
        "id": "vcHZul0oWHwR"
      }
    },
    {
      "cell_type": "code",
      "source": [
        "# show how many null values are there in each column of the dataset\n",
        "df.isnull().sum()"
      ],
      "metadata": {
        "colab": {
          "base_uri": "https://localhost:8080/"
        },
        "id": "EqjTtiKiWLxV",
        "outputId": "1e998529-289f-4a5b-c209-f84df3932636"
      },
      "execution_count": 75,
      "outputs": [
        {
          "output_type": "execute_result",
          "data": {
            "text/plain": [
              "domain            4\n",
              "ranking          56\n",
              "mld_res          74\n",
              "mld.ps_res       85\n",
              "card_rem         86\n",
              "ratio_Rrem       86\n",
              "ratio_Arem       86\n",
              "jaccard_RR       87\n",
              "jaccard_RA       88\n",
              "jaccard_AR       89\n",
              "jaccard_AA       90\n",
              "jaccard_ARrd     90\n",
              "jaccard_ARrem    92\n",
              "label            96\n",
              "dtype: int64"
            ]
          },
          "metadata": {},
          "execution_count": 75
        }
      ]
    },
    {
      "cell_type": "code",
      "source": [
        "# Visualize the missing values using a heatmap\n",
        "import seaborn as sns\n",
        "sns.heatmap(df.isnull(), cbar=True, yticklabels=False, cmap='coolwarm')"
      ],
      "metadata": {
        "colab": {
          "base_uri": "https://localhost:8080/",
          "height": 543
        },
        "id": "qqI5r6X4WHVa",
        "outputId": "4d4b5a8b-6d2a-4cd7-de80-ac2e0a0a0b0e"
      },
      "execution_count": 76,
      "outputs": [
        {
          "output_type": "execute_result",
          "data": {
            "text/plain": [
              "<Axes: >"
            ]
          },
          "metadata": {},
          "execution_count": 76
        },
        {
          "output_type": "display_data",
          "data": {
            "text/plain": [
              "<Figure size 640x480 with 2 Axes>"
            ],
            "image/png": "[encoded data removed]"
          },
          "metadata": {}
        }
      ]
    },
    {
      "cell_type": "code",
      "source": [
        "# Drop missing data\n",
        "df = df.dropna()"
      ],
      "metadata": {
        "id": "6ehk35npYxI3"
      },
      "execution_count": 77,
      "outputs": []
    },
    {
      "cell_type": "code",
      "source": [
        "# Check missing data\n",
        "df.isnull().sum()"
      ],
      "metadata": {
        "colab": {
          "base_uri": "https://localhost:8080/"
        },
        "id": "QWf2iUsDY7RW",
        "outputId": "4e59bbf0-358e-42ba-b6f8-91c59f1bb192"
      },
      "execution_count": 78,
      "outputs": [
        {
          "output_type": "execute_result",
          "data": {
            "text/plain": [
              "domain           0\n",
              "ranking          0\n",
              "mld_res          0\n",
              "mld.ps_res       0\n",
              "card_rem         0\n",
              "ratio_Rrem       0\n",
              "ratio_Arem       0\n",
              "jaccard_RR       0\n",
              "jaccard_RA       0\n",
              "jaccard_AR       0\n",
              "jaccard_AA       0\n",
              "jaccard_ARrd     0\n",
              "jaccard_ARrem    0\n",
              "label            0\n",
              "dtype: int64"
            ]
          },
          "metadata": {},
          "execution_count": 78
        }
      ]
    },
    {
      "cell_type": "code",
      "source": [
        "# Function to check if a column has mixed types\n",
        "def has_mixed_types(series):\n",
        "    return series.apply(type).nunique() > 1\n",
        "\n",
        "# Identify columns with mixed data types\n",
        "mixed_type_columns = [col for col in df.columns if has_mixed_types(df[col])]\n",
        "\n",
        "# Convert columns with mixed data types to string type\n",
        "for col in mixed_type_columns:\n",
        "    df[col] = df[col].astype(str)\n"
      ],
      "metadata": {
        "id": "_lEZhGR0ZiPY"
      },
      "execution_count": 79,
      "outputs": []
    },
    {
      "cell_type": "code",
      "source": [
        "df.info()"
      ],
      "metadata": {
        "colab": {
          "base_uri": "https://localhost:8080/"
        },
        "id": "CmYVhv44adiG",
        "outputId": "e028954e-2720-44f4-c9be-dce3f91c6144"
      },
      "execution_count": 80,
      "outputs": [
        {
          "output_type": "stream",
          "name": "stdout",
          "text": [
            "<class 'pandas.core.frame.DataFrame'>\n",
            "Index: 95915 entries, 0 to 96010\n",
            "Data columns (total 14 columns):\n",
            " #   Column         Non-Null Count  Dtype  \n",
            "---  ------         --------------  -----  \n",
            " 0   domain         95915 non-null  object \n",
            " 1   ranking        95915 non-null  object \n",
            " 2   mld_res        95915 non-null  object \n",
            " 3   mld.ps_res     95915 non-null  object \n",
            " 4   card_rem       95915 non-null  float64\n",
            " 5   ratio_Rrem     95915 non-null  float64\n",
            " 6   ratio_Arem     95915 non-null  float64\n",
            " 7   jaccard_RR     95915 non-null  float64\n",
            " 8   jaccard_RA     95915 non-null  float64\n",
            " 9   jaccard_AR     95915 non-null  float64\n",
            " 10  jaccard_AA     95915 non-null  float64\n",
            " 11  jaccard_ARrd   95915 non-null  object \n",
            " 12  jaccard_ARrem  95915 non-null  object \n",
            " 13  label          95915 non-null  object \n",
            "dtypes: float64(7), object(7)\n",
            "memory usage: 11.0+ MB\n"
          ]
        }
      ]
    },
    {
      "cell_type": "markdown",
      "source": [
        "# Convert categorical features"
      ],
      "metadata": {
        "id": "F7Ho0OV2lDrX"
      }
    },
    {
      "cell_type": "code",
      "source": [
        "from sklearn.preprocessing import LabelEncoder\n",
        "# Assuming 'columns' is a list of categorical column names\n",
        "for col in df.columns:\n",
        "  df[col] = LabelEncoder().fit_transform(df[col])\n"
      ],
      "metadata": {
        "id": "vZd2uDUGpnFH"
      },
      "execution_count": 81,
      "outputs": []
    },
    {
      "cell_type": "code",
      "source": [
        "df.info()"
      ],
      "metadata": {
        "colab": {
          "base_uri": "https://localhost:8080/"
        },
        "id": "DrG31PBepIx3",
        "outputId": "2390a277-0b14-4e98-c898-c749f2388e21"
      },
      "execution_count": 82,
      "outputs": [
        {
          "output_type": "stream",
          "name": "stdout",
          "text": [
            "<class 'pandas.core.frame.DataFrame'>\n",
            "Index: 95915 entries, 0 to 96010\n",
            "Data columns (total 14 columns):\n",
            " #   Column         Non-Null Count  Dtype\n",
            "---  ------         --------------  -----\n",
            " 0   domain         95915 non-null  int64\n",
            " 1   ranking        95915 non-null  int64\n",
            " 2   mld_res        95915 non-null  int64\n",
            " 3   mld.ps_res     95915 non-null  int64\n",
            " 4   card_rem       95915 non-null  int64\n",
            " 5   ratio_Rrem     95915 non-null  int64\n",
            " 6   ratio_Arem     95915 non-null  int64\n",
            " 7   jaccard_RR     95915 non-null  int64\n",
            " 8   jaccard_RA     95915 non-null  int64\n",
            " 9   jaccard_AR     95915 non-null  int64\n",
            " 10  jaccard_AA     95915 non-null  int64\n",
            " 11  jaccard_ARrd   95915 non-null  int64\n",
            " 12  jaccard_ARrem  95915 non-null  int64\n",
            " 13  label          95915 non-null  int64\n",
            "dtypes: int64(14)\n",
            "memory usage: 11.0 MB\n"
          ]
        }
      ]
    },
    {
      "cell_type": "code",
      "source": [
        "# Select binary classification for simplicity\n",
        "df = df[df['label'] != 2]"
      ],
      "metadata": {
        "id": "1cbmy9R5q1EV"
      },
      "execution_count": 83,
      "outputs": []
    },
    {
      "cell_type": "code",
      "source": [
        "# Features and target\n",
        "X = df.drop('label', axis=1)\n",
        "y = df['label']"
      ],
      "metadata": {
        "id": "r31Y4Md4rDNk"
      },
      "execution_count": 84,
      "outputs": []
    },
    {
      "cell_type": "markdown",
      "source": [
        "# Split the dataset and train"
      ],
      "metadata": {
        "id": "64dy4hmQrF64"
      }
    },
    {
      "cell_type": "code",
      "source": [
        "# Split the dataset\n",
        "X_train, X_test, y_train, y_test = train_test_split(X, y, test_size=0.2, random_state=42)"
      ],
      "metadata": {
        "id": "cQ_moQ6krfBx"
      },
      "execution_count": 85,
      "outputs": []
    },
    {
      "cell_type": "code",
      "source": [
        "# Initialize the model\n",
        "log_reg_model = LogisticRegression(max_iter=1600)"
      ],
      "metadata": {
        "id": "lFktd9RZrmxb"
      },
      "execution_count": 86,
      "outputs": []
    },
    {
      "cell_type": "code",
      "source": [
        "# Train the model\n",
        "log_reg_model.fit(X_train, y_train)"
      ],
      "metadata": {
        "colab": {
          "base_uri": "https://localhost:8080/",
          "height": 74
        },
        "id": "ID9Mvb_Krs6a",
        "outputId": "622b25f0-ced0-4feb-bed8-99a69299b34e"
      },
      "execution_count": 87,
      "outputs": [
        {
          "output_type": "execute_result",
          "data": {
            "text/plain": [
              "LogisticRegression(max_iter=1600)"
            ],
            "text/html": [
              "<style>#sk-container-id-15 {color: black;background-color: white;}#sk-container-id-15 pre{padding: 0;}#sk-container-id-15 div.sk-toggleable {background-color: white;}#sk-container-id-15 label.sk-toggleable__label {cursor: pointer;display: block;width: 100%;margin-bottom: 0;padding: 0.3em;box-sizing: border-box;text-align: center;}#sk-container-id-15 label.sk-toggleable__label-arrow:before {content: \"▸\";float: left;margin-right: 0.25em;color: #696969;}#sk-container-id-15 label.sk-toggleable__label-arrow:hover:before {color: black;}#sk-container-id-15 div.sk-estimator:hover label.sk-toggleable__label-arrow:before {color: black;}#sk-container-id-15 div.sk-toggleable__content {max-height: 0;max-width: 0;overflow: hidden;text-align: left;background-color: #f0f8ff;}#sk-container-id-15 div.sk-toggleable__content pre {margin: 0.2em;color: black;border-radius: 0.25em;background-color: #f0f8ff;}#sk-container-id-15 input.sk-toggleable__control:checked~div.sk-toggleable__content {max-height: 200px;max-width: 100%;overflow: auto;}#sk-container-id-15 input.sk-toggleable__control:checked~label.sk-toggleable__label-arrow:before {content: \"▾\";}#sk-container-id-15 div.sk-estimator input.sk-toggleable__control:checked~label.sk-toggleable__label {background-color: #d4ebff;}#sk-container-id-15 div.sk-label input.sk-toggleable__control:checked~label.sk-toggleable__label {background-color: #d4ebff;}#sk-container-id-15 input.sk-hidden--visually {border: 0;clip: rect(1px 1px 1px 1px);clip: rect(1px, 1px, 1px, 1px);height: 1px;margin: -1px;overflow: hidden;padding: 0;position: absolute;width: 1px;}#sk-container-id-15 div.sk-estimator {font-family: monospace;background-color: #f0f8ff;border: 1px dotted black;border-radius: 0.25em;box-sizing: border-box;margin-bottom: 0.5em;}#sk-container-id-15 div.sk-estimator:hover {background-color: #d4ebff;}#sk-container-id-15 div.sk-parallel-item::after {content: \"\";width: 100%;border-bottom: 1px solid gray;flex-grow: 1;}#sk-container-id-15 div.sk-label:hover label.sk-toggleable__label {background-color: #d4ebff;}#sk-container-id-15 div.sk-serial::before {content: \"\";position: absolute;border-left: 1px solid gray;box-sizing: border-box;top: 0;bottom: 0;left: 50%;z-index: 0;}#sk-container-id-15 div.sk-serial {display: flex;flex-direction: column;align-items: center;background-color: white;padding-right: 0.2em;padding-left: 0.2em;position: relative;}#sk-container-id-15 div.sk-item {position: relative;z-index: 1;}#sk-container-id-15 div.sk-parallel {display: flex;align-items: stretch;justify-content: center;background-color: white;position: relative;}#sk-container-id-15 div.sk-item::before, #sk-container-id-15 div.sk-parallel-item::before {content: \"\";position: absolute;border-left: 1px solid gray;box-sizing: border-box;top: 0;bottom: 0;left: 50%;z-index: -1;}#sk-container-id-15 div.sk-parallel-item {display: flex;flex-direction: column;z-index: 1;position: relative;background-color: white;}#sk-container-id-15 div.sk-parallel-item:first-child::after {align-self: flex-end;width: 50%;}#sk-container-id-15 div.sk-parallel-item:last-child::after {align-self: flex-start;width: 50%;}#sk-container-id-15 div.sk-parallel-item:only-child::after {width: 0;}#sk-container-id-15 div.sk-dashed-wrapped {border: 1px dashed gray;margin: 0 0.4em 0.5em 0.4em;box-sizing: border-box;padding-bottom: 0.4em;background-color: white;}#sk-container-id-15 div.sk-label label {font-family: monospace;font-weight: bold;display: inline-block;line-height: 1.2em;}#sk-container-id-15 div.sk-label-container {text-align: center;}#sk-container-id-15 div.sk-container {/* jupyter's `normalize.less` sets `[hidden] { display: none; }` but bootstrap.min.css set `[hidden] { display: none !important; }` so we also need the `!important` here to be able to override the default hidden behavior on the sphinx rendered scikit-learn.org. See: https://github.com/scikit-learn/scikit-learn/issues/21755 */display: inline-block !important;position: relative;}#sk-container-id-15 div.sk-text-repr-fallback {display: none;}</style><div id=\"sk-container-id-15\" class=\"sk-top-container\"><div class=\"sk-text-repr-fallback\"><pre>LogisticRegression(max_iter=1600)</pre><b>In a Jupyter environment, please rerun this cell to show the HTML representation or trust the notebook. <br />On GitHub, the HTML representation is unable to render, please try loading this page with nbviewer.org.</b></div><div class=\"sk-container\" hidden><div class=\"sk-item\"><div class=\"sk-estimator sk-toggleable\"><input class=\"sk-toggleable__control sk-hidden--visually\" id=\"sk-estimator-id-15\" type=\"checkbox\" checked><label for=\"sk-estimator-id-15\" class=\"sk-toggleable__label sk-toggleable__label-arrow\">LogisticRegression</label><div class=\"sk-toggleable__content\"><pre>LogisticRegression(max_iter=1600)</pre></div></div></div></div></div>"
            ]
          },
          "metadata": {},
          "execution_count": 87
        }
      ]
    },
    {
      "cell_type": "markdown",
      "source": [
        "Increasing 'max_iter' allows the logistic regression solver more iterations to converge to an optimal solution, especially if the algorithm hasn't fully converged within the default limit. This can help resolve convergence warnings and improve model performance.\n",
        "\n"
      ],
      "metadata": {
        "id": "2fhRuS50t4FV"
      }
    },
    {
      "cell_type": "code",
      "source": [
        "# Use the trained model to make predictions on the test data\n",
        "predictions = log_reg_model.predict(X_test)\n",
        "predictions"
      ],
      "metadata": {
        "colab": {
          "base_uri": "https://localhost:8080/"
        },
        "id": "w6MtdB32zkeK",
        "outputId": "3ff7fba5-2cfc-4068-91c1-c7c747563571"
      },
      "execution_count": 103,
      "outputs": [
        {
          "output_type": "execute_result",
          "data": {
            "text/plain": [
              "array([3, 3, 3, ..., 3, 0, 3])"
            ]
          },
          "metadata": {},
          "execution_count": 103
        }
      ]
    },
    {
      "cell_type": "code",
      "source": [
        "# log the model hyperparameters\n",
        "wandb.config.update({\n",
        "    'model_type': 'Logistic Regression',\n",
        "    'max_iter': 1600,\n",
        "    'learning_rate': 0.01,\n",
        "    'batch_size': 32,\n",
        "    'epochs': 10,\n",
        "    'optimizer': 'Omar',\n",
        "})"
      ],
      "metadata": {
        "id": "LaVmVmbvt5bL"
      },
      "execution_count": 88,
      "outputs": []
    },
    {
      "cell_type": "markdown",
      "source": [
        "# Evaluate the model"
      ],
      "metadata": {
        "id": "bg-R_bdCvoP5"
      }
    },
    {
      "cell_type": "code",
      "source": [
        "# predict on the test set\n",
        "y_pred = log_reg_model.predict(X_test)"
      ],
      "metadata": {
        "id": "XdZTjhm3vmpF"
      },
      "execution_count": 89,
      "outputs": []
    },
    {
      "cell_type": "code",
      "source": [
        "y_pred"
      ],
      "metadata": {
        "colab": {
          "base_uri": "https://localhost:8080/"
        },
        "id": "8yFBVaVKvwcK",
        "outputId": "a6fa39fe-312a-4908-aa73-5bc2825cc056"
      },
      "execution_count": 90,
      "outputs": [
        {
          "output_type": "execute_result",
          "data": {
            "text/plain": [
              "array([3, 3, 3, ..., 3, 0, 3])"
            ]
          },
          "metadata": {},
          "execution_count": 90
        }
      ]
    },
    {
      "cell_type": "code",
      "source": [
        "# Calculate accuracy\n",
        "accuracy = accuracy_score(y_test, y_pred)\n",
        "print('Accuracy:', accuracy)"
      ],
      "metadata": {
        "colab": {
          "base_uri": "https://localhost:8080/"
        },
        "id": "OQItUdXcv1m_",
        "outputId": "5bb58b1b-a0f5-4fb9-bfef-633e4ad1647f"
      },
      "execution_count": 91,
      "outputs": [
        {
          "output_type": "stream",
          "name": "stdout",
          "text": [
            "Accuracy: 0.8300578637335141\n"
          ]
        }
      ]
    },
    {
      "cell_type": "markdown",
      "source": [
        "![image.png](data:image/png;base64,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)"
      ],
      "metadata": {
        "id": "-7EGsqNWx8xn"
      }
    },
    {
      "cell_type": "code",
      "source": [
        "conf_matrix = confusion_matrix(y_test, y_pred)\n",
        "conf_matrix"
      ],
      "metadata": {
        "colab": {
          "base_uri": "https://localhost:8080/"
        },
        "id": "cKsqjaasv-MQ",
        "outputId": "6a8d9d51-55c0-43d3-c136-25652a0459e8"
      },
      "execution_count": 92,
      "outputs": [
        {
          "output_type": "execute_result",
          "data": {
            "text/plain": [
              "array([[8451, 1128],\n",
              "       [2132, 7472]])"
            ]
          },
          "metadata": {},
          "execution_count": 92
        }
      ]
    },
    {
      "cell_type": "code",
      "source": [
        "from sklearn.metrics import precision_score, recall_score, f1_score, classification_report\n",
        "\n",
        "# Calculate precision, recall and F1-score\n",
        "precision = precision_score(y_test, y_pred, average='weighted')\n",
        "recall = recall_score(y_test, y_pred, average='weighted')\n",
        "f1_score = f1_score(y_test, y_pred, average='weighted')"
      ],
      "metadata": {
        "id": "lWMRxGTEydbn"
      },
      "execution_count": 108,
      "outputs": []
    },
    {
      "cell_type": "code",
      "source": [
        "# Log metrics to W&B\n",
        "wandb.log({\n",
        "    'accuracy': accuracy,\n",
        "    'confusion_matrix': conf_matrix,\n",
        "    'precision': precision,\n",
        "    'recall': recall,\n",
        "    'f1_score': f1_score\n",
        "})"
      ],
      "metadata": {
        "id": "JfvpYecXwHSG"
      },
      "execution_count": 105,
      "outputs": []
    },
    {
      "cell_type": "markdown",
      "source": [
        "![image.png](data:image/png;base64,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)"
      ],
      "metadata": {
        "id": "VCNw_Ev2zN3-"
      }
    },
    {
      "cell_type": "markdown",
      "source": [
        "The model achieved an accuracy of 83%, indicatding that it correctly classified 83% of the samples."
      ],
      "metadata": {
        "id": "RG-aPidO09MA"
      }
    },
    {
      "cell_type": "markdown",
      "source": [
        "The model's precision is 83%, which means that 83% of the samples predicted as positive were indeed positive."
      ],
      "metadata": {
        "id": "A9gLYjKa08qd"
      }
    },
    {
      "cell_type": "markdown",
      "source": [
        "The recall of 83% indicates that the model successfully identified 83% of the actual positive instances."
      ],
      "metadata": {
        "id": "GqbZgn4O14-v"
      }
    },
    {
      "cell_type": "markdown",
      "source": [
        "The F1 score is 83%, reflecting a good balance between precision and recall."
      ],
      "metadata": {
        "id": "sfbfT20B2Bc1"
      }
    },
    {
      "cell_type": "markdown",
      "source": [
        "# Save the model"
      ],
      "metadata": {
        "id": "PHrN3RGgwbT1"
      }
    },
    {
      "cell_type": "code",
      "source": [
        "import joblib\n",
        "\n",
        "# Save the trained model to a file\n",
        "joblib.dump(log_reg_model, 'log_reg_model.pkl')"
      ],
      "metadata": {
        "colab": {
          "base_uri": "https://localhost:8080/"
        },
        "id": "iMw3TSSSweVa",
        "outputId": "cb8e1f5e-37e5-4d5a-c06b-990d5db792a7"
      },
      "execution_count": 99,
      "outputs": [
        {
          "output_type": "execute_result",
          "data": {
            "text/plain": [
              "['log_reg_model.pkl']"
            ]
          },
          "metadata": {},
          "execution_count": 99
        }
      ]
    },
    {
      "cell_type": "code",
      "source": [
        "# Loag the model to W&B\n",
        "wandb.save('log_reg_model.pkl')"
      ],
      "metadata": {
        "colab": {
          "base_uri": "https://localhost:8080/"
        },
        "id": "HzErHUQiwl_L",
        "outputId": "aed540b4-c845-4347-ca5a-40527034412f"
      },
      "execution_count": 100,
      "outputs": [
        {
          "output_type": "execute_result",
          "data": {
            "text/plain": [
              "['/content/wandb/run-20240721_144803-zzpyedos/files/log_reg_model.pkl']"
            ]
          },
          "metadata": {},
          "execution_count": 100
        }
      ]
    },
    {
      "cell_type": "markdown",
      "source": [
        "![image.png](data:image/png;base64,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)"
      ],
      "metadata": {
        "id": "KVWTJ54L276k"
      }
    },
    {
      "cell_type": "markdown",
      "source": [
        "The provided graphs indicate moderate system utilization with a burst of high network traffic and disk activity in the first 100 seconds. CPU and memory usage remained low throughout the measurement period."
      ],
      "metadata": {
        "id": "7iF7oTgh3DDW"
      }
    }
  ]
}